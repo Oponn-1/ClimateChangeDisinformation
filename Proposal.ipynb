{
 "cells": [
  {
   "cell_type": "markdown",
   "metadata": {
    "id": "M6Tv5H778CqV"
   },
   "source": [
    "# Detecting Climate Change Disinformation on Twitter\n",
    "Andres De La Fuente\n",
    "\n",
    "University of Washington, 2021\n",
    "\n",
    "\n",
    "## Introduction\n",
    "\n",
    "The idea of this project is to explore a collection of tweets which are about a political topic (Climate Change), and employ specific features related to user accounts in order to potentially identify evidence of astroturfing. In this project I focus on identifying the presence of bots, and analyzing whether these suspicious accounts display differences in the content of their posts (relative to the overall trends) which would suggest a particular agenda.\n",
    "\n",
    "## Motivation\n",
    "The way we consume information has changed dramatically in the past decade or so. People are exposed to more information than ever before, and it has become completely unfeasible for a given individual to identify the trustowrthiness of the content they are seeing. It has become clear that various forms of manipulative tactics on social media are very effective, as they have been used to influence elections, and more recently to sow distrust in the medical community (Coronavirus disinformation). \n",
    "\n",
    "It would be incredibly useful for us to start investigating these dynamics and treating the flow of information on the internet as the essential basis of society that it has become. Ideally, this project would successfully find evidence of politically motivated astroturfing by bot accounts with relation to the subject of climate change.\n",
    "\n",
    "## Data\n",
    "For this analysis, I use the following dataset of tweets about climate change:\n",
    "\n",
    "[Data](https://dataverse.harvard.edu/dataset.xhtml?persistentId=doi:10.7910/DVN/5QCCUU)\n",
    "\n",
    "The data simply contains the IDs of tweets which feature climate change related hashtags such as #climatechange or #climatehoax.\n",
    "\n",
    "The license for the dataset is CC0, and is for public use. The terms of service require citation. \n",
    "This data fulfills my purposes because it provides a set of tweets already grouped by focus on a specific political topic.\n",
    "\n",
    "The primary reason for using tweets related to climate change is that I want to focus on a political topic for which what we consider to be disinformation is widely agreed upon. There is such a broad scientific consensus on the reality of man made climate change that I can go into the analysis with the assumption that climate denial is a form of disinformation.\n",
    "\n",
    "A broad ethical consideration with relation to this type of analysis is the implication of using human generated content to identify intent. It is possible to mischaracterize real user behavior as disingenous organized behavior, and if this is the case the insights might falsely suggest that a particular agenda is purely pushed by artificial activity. That said, the feature of posting frequency I use in this analysis is a very strong indication of bots, and I have confidence that the accounts identified as potential bots, thanks to this feature, are indeed not human users.\n",
    "\n",
    "### How to Set Up the Data Yourself\n",
    "The referenced dataset contains identifier numbers for the selected tweets. It numbers in the millions of tweets, but I use a subset of that here. The dataset is broken into three separate text files in on the source website, download the first of these files.\n",
    "\n",
    "Next, you need a tool such as [Twarc](https://github.com/DocNow/twarc), which is what I use, to 'hydrate' the tweets. This means that you are going through Twitter's developer API to reference the tweet identifiers and retrieve all of the information for each tweet. This is returned in JSON format. \n",
    "\n",
    "**You need a Twitter Developer account to perform the hydration process**. \n",
    "\n",
    "Unfortunately, Twitter's Terms of Service do not allow the public sharing of full tweet information colleted through their API, so I can only share tweet identifiers (this is the reason my referenced dataset is also in this format).\n",
    "\n",
    "For my analysis, I use a randomly selected subset of 100,000 tweets. To select these tweets I use the following command in a Linux terminal:\n",
    "\n",
    "```\n",
    "shuf -n 100000 input_file.txt > output_file.txt\n",
    "```\n",
    "\n",
    "Once you have done this, perform the hydration using Twarc on your output_file.txt (however you wish to name it). The resulting JSON file is what you should use as input in 'Loading Data' section below. In my code, this is called \"small_tweets.jsonl\". I have included my particular sample of 100000 tweet IDs as \"small_sample.txt\" in the repository.\n"
   ]
  },
  {
   "cell_type": "markdown",
   "metadata": {
    "id": "dJbVUVpAwNQ_"
   },
   "source": [
    "# Research Questions\n",
    "**Are there features about user accounts which are indicative of inorganic activity and which can effectively distinguish the accounts in this dataset?**\n",
    "\n",
    "**Given groupings based on these features, are there meaningful differences in tweet content? Do tweets in the suspect user group feature more of a certain hashtag or use of URLs?**\n",
    "\n",
    "**Do these differences suggest a particular agenda for the suspected accounts?**\n",
    "\n",
    "# Background / Related Work\n",
    "[Political Astroturfing in South Korea](https://www.researchgate.net/profile/Junghwan_Yang2/publication/317290047_How_to_Manipulate_Social_Media_Analyzing_Political_Astroturfing_Using_Ground_Truth_Data_from_South_Korea/links/59305a9ca6fdcc89e7844440/How-to-Manipulate-Social-Media-Analyzing-Political-Astroturfing-Using-Ground-Truth-Data-from-South-Korea.pdf)\n",
    "\n",
    "[Russian Political Disinformation](https://secondaryinfektion.org/)\n",
    "\n",
    "[Detecting the Use of Multiple Accounts](https://onlinelibrary.wiley.com/doi/abs/10.1002/cpe.4013)\n",
    "\n",
    "[Common Signs of Bots](https://blog.mozilla.org/internetcitizen/2018/01/08/irl-how-to-spot-a-bot/)\n",
    "\n",
    "The somewhat limited work that exists in this area indicates two different kinds of analyses that are used to identify inorganic activity. First, there is the consideration of individual user features, such as an account's age and posting frequency, which can be useful for identifying bots. Second, when looking for astroturfing, it is necessary to consider trends and patterns in posting activity, finding similarities in content even across platforms. The latter type of analysis is much more involved and technically complicated, so I will focus on the former: user account features.\n",
    "\n",
    "# Methodology\n",
    "\n",
    "**Exploratory Visualizations:** \n",
    "\n",
    "I use some exploratory visualizations and statistical summaries to explore the user features which I have identified as potential indicators of inorganic activity.\n",
    "\n",
    "**Clustering Algorithms:** \n",
    "\n",
    "Since some of these features turn out to indicate strong distinctions among user accounts, and the suspicious accounts number far fewer than the overall accounts, I use Gaussian Mixture clustering to group accounts based on these features.\n",
    "\n",
    "**Manual Subset Selection:**\n",
    "\n",
    "Besides clustering, due to the very interpretable nature of the selected features, I also manually select a subset of accounts by using cutoffs for these features.\n",
    "\n",
    "**NLP** \n",
    "\n",
    "I use simple NLP to calculate things such as the presence of hashtags in the different tweet groupings, as well as the use of URLs. Pretrained sentiment analysis is used for a very rudimentary look at sentiment in the body of these tweets.\n",
    "\n"
   ]
  },
  {
   "cell_type": "code",
   "execution_count": 122,
   "metadata": {},
   "outputs": [],
   "source": [
    "import pandas as pd\n",
    "import numpy as np\n",
    "import re\n",
    "import matplotlib.pyplot as plt\n",
    "from scipy import stats\n",
    "from mpl_toolkits.mplot3d import Axes3D\n",
    "from sklearn.cluster import KMeans\n",
    "from sklearn.model_selection import train_test_split"
   ]
  },
  {
   "cell_type": "markdown",
   "metadata": {},
   "source": [
    "## Helper Functions\n",
    "Below are helper functions that are used further down through the analyses.\n",
    "\n",
    "&nbsp;\n",
    "\n",
    "**percentNumbers**\n",
    "\n",
    "This calculates the percentage of numerical digits in a string, to be used on screen names of twitter accounts."
   ]
  },
  {
   "cell_type": "code",
   "execution_count": 131,
   "metadata": {},
   "outputs": [],
   "source": [
    "def percentNumbers(my_string):\n",
    "    return (len(re.sub(\"[^0-9]\", \"\", my_string))/len(my_string))"
   ]
  },
  {
   "cell_type": "markdown",
   "metadata": {},
   "source": [
    "**listNotEmpty**\n",
    "\n",
    "This returns True if the given list is empty, to be used for noting the presence of things within a tweet of which there could be more than one (e.g. URLs)."
   ]
  },
  {
   "cell_type": "code",
   "execution_count": 61,
   "metadata": {},
   "outputs": [],
   "source": [
    "def listNotEmpty(my_list):\n",
    "    return(len(my_list) > 0)"
   ]
  },
  {
   "cell_type": "code",
   "execution_count": 67,
   "metadata": {},
   "outputs": [],
   "source": [
    "def containsOrg(url_list):\n",
    "    contains = False\n",
    "    for i in url_list:\n",
    "        if (\".org\" in i):\n",
    "            contains = True\n",
    "    return contains"
   ]
  },
  {
   "cell_type": "markdown",
   "metadata": {},
   "source": [
    "## Load and Preview Data\n",
    "First, I load the data from the json file generated by hydrating the list of tweet ID's through Twitter's API. \n",
    "\n",
    "I preview the data in the following cell."
   ]
  },
  {
   "cell_type": "code",
   "execution_count": 79,
   "metadata": {},
   "outputs": [],
   "source": [
    "dfs = pd.read_json('small_tweets.jsonl', encoding='utf-8', lines=True)"
   ]
  },
  {
   "cell_type": "code",
   "execution_count": 89,
   "metadata": {
    "scrolled": false
   },
   "outputs": [
    {
     "data": {
      "text/html": [
       "<div>\n",
       "<style scoped>\n",
       "    .dataframe tbody tr th:only-of-type {\n",
       "        vertical-align: middle;\n",
       "    }\n",
       "\n",
       "    .dataframe tbody tr th {\n",
       "        vertical-align: top;\n",
       "    }\n",
       "\n",
       "    .dataframe thead th {\n",
       "        text-align: right;\n",
       "    }\n",
       "</style>\n",
       "<table border=\"1\" class=\"dataframe\">\n",
       "  <thead>\n",
       "    <tr style=\"text-align: right;\">\n",
       "      <th></th>\n",
       "      <th>created_at</th>\n",
       "      <th>id</th>\n",
       "      <th>id_str</th>\n",
       "      <th>full_text</th>\n",
       "      <th>truncated</th>\n",
       "      <th>display_text_range</th>\n",
       "      <th>entities</th>\n",
       "      <th>source</th>\n",
       "      <th>in_reply_to_status_id</th>\n",
       "      <th>in_reply_to_status_id_str</th>\n",
       "      <th>...</th>\n",
       "      <th>quoted_status</th>\n",
       "      <th>retweet_count</th>\n",
       "      <th>favorite_count</th>\n",
       "      <th>favorited</th>\n",
       "      <th>retweeted</th>\n",
       "      <th>possibly_sensitive</th>\n",
       "      <th>lang</th>\n",
       "      <th>retweeted_status</th>\n",
       "      <th>extended_entities</th>\n",
       "      <th>withheld_in_countries</th>\n",
       "    </tr>\n",
       "  </thead>\n",
       "  <tbody>\n",
       "    <tr>\n",
       "      <th>0</th>\n",
       "      <td>2018-06-13 21:12:26+00:00</td>\n",
       "      <td>1007007810725597184</td>\n",
       "      <td>1007007810725597184</td>\n",
       "      <td>So concerned for our earth while others just w...</td>\n",
       "      <td>False</td>\n",
       "      <td>[0, 160]</td>\n",
       "      <td>{'hashtags': [], 'symbols': [], 'user_mentions...</td>\n",
       "      <td>&lt;a href=\"http://twitter.com/download/iphone\" r...</td>\n",
       "      <td>NaN</td>\n",
       "      <td>NaN</td>\n",
       "      <td>...</td>\n",
       "      <td>{'created_at': 'Wed Jun 13 19:07:30 +0000 2018...</td>\n",
       "      <td>0</td>\n",
       "      <td>0</td>\n",
       "      <td>False</td>\n",
       "      <td>False</td>\n",
       "      <td>0.0</td>\n",
       "      <td>en</td>\n",
       "      <td>NaN</td>\n",
       "      <td>NaN</td>\n",
       "      <td>NaN</td>\n",
       "    </tr>\n",
       "    <tr>\n",
       "      <th>1</th>\n",
       "      <td>2018-06-16 22:12:00+00:00</td>\n",
       "      <td>1008109966232875009</td>\n",
       "      <td>1008109966232875008</td>\n",
       "      <td>\"Poor people just get the short end of the sti...</td>\n",
       "      <td>False</td>\n",
       "      <td>[0, 223]</td>\n",
       "      <td>{'hashtags': [], 'symbols': [], 'user_mentions...</td>\n",
       "      <td>&lt;a href=\"https://about.twitter.com/products/tw...</td>\n",
       "      <td>NaN</td>\n",
       "      <td>NaN</td>\n",
       "      <td>...</td>\n",
       "      <td>NaN</td>\n",
       "      <td>1</td>\n",
       "      <td>3</td>\n",
       "      <td>False</td>\n",
       "      <td>False</td>\n",
       "      <td>0.0</td>\n",
       "      <td>en</td>\n",
       "      <td>NaN</td>\n",
       "      <td>NaN</td>\n",
       "      <td>NaN</td>\n",
       "    </tr>\n",
       "    <tr>\n",
       "      <th>2</th>\n",
       "      <td>2018-06-21 14:12:17+00:00</td>\n",
       "      <td>1009801182317932544</td>\n",
       "      <td>1009801182317932544</td>\n",
       "      <td>Even during all of this chaos, these assholes ...</td>\n",
       "      <td>False</td>\n",
       "      <td>[0, 85]</td>\n",
       "      <td>{'hashtags': [], 'symbols': [], 'user_mentions...</td>\n",
       "      <td>&lt;a href=\"http://tapbots.com/tweetbot\" rel=\"nof...</td>\n",
       "      <td>NaN</td>\n",
       "      <td>NaN</td>\n",
       "      <td>...</td>\n",
       "      <td>{'created_at': 'Thu Jun 21 13:55:07 +0000 2018...</td>\n",
       "      <td>0</td>\n",
       "      <td>1</td>\n",
       "      <td>False</td>\n",
       "      <td>False</td>\n",
       "      <td>0.0</td>\n",
       "      <td>en</td>\n",
       "      <td>NaN</td>\n",
       "      <td>NaN</td>\n",
       "      <td>NaN</td>\n",
       "    </tr>\n",
       "    <tr>\n",
       "      <th>3</th>\n",
       "      <td>2018-06-22 01:49:22+00:00</td>\n",
       "      <td>1009976609154088961</td>\n",
       "      <td>1009976609154088960</td>\n",
       "      <td>RT @MikeHudema: These Indigenous defenders are...</td>\n",
       "      <td>False</td>\n",
       "      <td>[0, 140]</td>\n",
       "      <td>{'hashtags': [], 'symbols': [], 'user_mentions...</td>\n",
       "      <td>&lt;a href=\"http://twitter.com\" rel=\"nofollow\"&gt;Tw...</td>\n",
       "      <td>NaN</td>\n",
       "      <td>NaN</td>\n",
       "      <td>...</td>\n",
       "      <td>NaN</td>\n",
       "      <td>235</td>\n",
       "      <td>0</td>\n",
       "      <td>False</td>\n",
       "      <td>False</td>\n",
       "      <td>0.0</td>\n",
       "      <td>en</td>\n",
       "      <td>{'created_at': 'Thu Jun 21 20:44:01 +0000 2018...</td>\n",
       "      <td>NaN</td>\n",
       "      <td>NaN</td>\n",
       "    </tr>\n",
       "    <tr>\n",
       "      <th>4</th>\n",
       "      <td>2018-06-22 15:17:38+00:00</td>\n",
       "      <td>1010180016418590720</td>\n",
       "      <td>1010180016418590720</td>\n",
       "      <td>RT @eugenegu: Trump’s Red Wave is another term...</td>\n",
       "      <td>False</td>\n",
       "      <td>[0, 140]</td>\n",
       "      <td>{'hashtags': [], 'symbols': [], 'user_mentions...</td>\n",
       "      <td>&lt;a href=\"http://twitter.com/download/android\" ...</td>\n",
       "      <td>NaN</td>\n",
       "      <td>NaN</td>\n",
       "      <td>...</td>\n",
       "      <td>NaN</td>\n",
       "      <td>4023</td>\n",
       "      <td>0</td>\n",
       "      <td>False</td>\n",
       "      <td>False</td>\n",
       "      <td>NaN</td>\n",
       "      <td>en</td>\n",
       "      <td>{'created_at': 'Fri Jun 22 12:09:41 +0000 2018...</td>\n",
       "      <td>NaN</td>\n",
       "      <td>NaN</td>\n",
       "    </tr>\n",
       "  </tbody>\n",
       "</table>\n",
       "<p>5 rows × 32 columns</p>\n",
       "</div>"
      ],
      "text/plain": [
       "                 created_at                   id               id_str  \\\n",
       "0 2018-06-13 21:12:26+00:00  1007007810725597184  1007007810725597184   \n",
       "1 2018-06-16 22:12:00+00:00  1008109966232875009  1008109966232875008   \n",
       "2 2018-06-21 14:12:17+00:00  1009801182317932544  1009801182317932544   \n",
       "3 2018-06-22 01:49:22+00:00  1009976609154088961  1009976609154088960   \n",
       "4 2018-06-22 15:17:38+00:00  1010180016418590720  1010180016418590720   \n",
       "\n",
       "                                           full_text  truncated  \\\n",
       "0  So concerned for our earth while others just w...      False   \n",
       "1  \"Poor people just get the short end of the sti...      False   \n",
       "2  Even during all of this chaos, these assholes ...      False   \n",
       "3  RT @MikeHudema: These Indigenous defenders are...      False   \n",
       "4  RT @eugenegu: Trump’s Red Wave is another term...      False   \n",
       "\n",
       "  display_text_range                                           entities  \\\n",
       "0           [0, 160]  {'hashtags': [], 'symbols': [], 'user_mentions...   \n",
       "1           [0, 223]  {'hashtags': [], 'symbols': [], 'user_mentions...   \n",
       "2            [0, 85]  {'hashtags': [], 'symbols': [], 'user_mentions...   \n",
       "3           [0, 140]  {'hashtags': [], 'symbols': [], 'user_mentions...   \n",
       "4           [0, 140]  {'hashtags': [], 'symbols': [], 'user_mentions...   \n",
       "\n",
       "                                              source  in_reply_to_status_id  \\\n",
       "0  <a href=\"http://twitter.com/download/iphone\" r...                    NaN   \n",
       "1  <a href=\"https://about.twitter.com/products/tw...                    NaN   \n",
       "2  <a href=\"http://tapbots.com/tweetbot\" rel=\"nof...                    NaN   \n",
       "3  <a href=\"http://twitter.com\" rel=\"nofollow\">Tw...                    NaN   \n",
       "4  <a href=\"http://twitter.com/download/android\" ...                    NaN   \n",
       "\n",
       "   in_reply_to_status_id_str  ...  \\\n",
       "0                        NaN  ...   \n",
       "1                        NaN  ...   \n",
       "2                        NaN  ...   \n",
       "3                        NaN  ...   \n",
       "4                        NaN  ...   \n",
       "\n",
       "                                       quoted_status  retweet_count  \\\n",
       "0  {'created_at': 'Wed Jun 13 19:07:30 +0000 2018...              0   \n",
       "1                                                NaN              1   \n",
       "2  {'created_at': 'Thu Jun 21 13:55:07 +0000 2018...              0   \n",
       "3                                                NaN            235   \n",
       "4                                                NaN           4023   \n",
       "\n",
       "  favorite_count favorited retweeted possibly_sensitive lang  \\\n",
       "0              0     False     False                0.0   en   \n",
       "1              3     False     False                0.0   en   \n",
       "2              1     False     False                0.0   en   \n",
       "3              0     False     False                0.0   en   \n",
       "4              0     False     False                NaN   en   \n",
       "\n",
       "                                    retweeted_status  extended_entities  \\\n",
       "0                                                NaN                NaN   \n",
       "1                                                NaN                NaN   \n",
       "2                                                NaN                NaN   \n",
       "3  {'created_at': 'Thu Jun 21 20:44:01 +0000 2018...                NaN   \n",
       "4  {'created_at': 'Fri Jun 22 12:09:41 +0000 2018...                NaN   \n",
       "\n",
       "   withheld_in_countries  \n",
       "0                    NaN  \n",
       "1                    NaN  \n",
       "2                    NaN  \n",
       "3                    NaN  \n",
       "4                    NaN  \n",
       "\n",
       "[5 rows x 32 columns]"
      ]
     },
     "execution_count": 89,
     "metadata": {},
     "output_type": "execute_result"
    }
   ],
   "source": [
    "dfs.head()"
   ]
  },
  {
   "cell_type": "markdown",
   "metadata": {},
   "source": [
    "## Account Feature Exploration\n",
    "In the following section, I calculate and explore various features related to user accounts which can be indicative of inorganic activity. The selection of these features to focus on is based on the works referenced in the 'Background' section above. The features I look into are:\n",
    "- Account Age (at the time of posting the tweet)\n",
    "- Bio Length\n",
    "- Posting Frequency (posts made per day)\n",
    "- Percentage of Numbers in Name (screen name, or 'handle')"
   ]
  },
  {
   "cell_type": "markdown",
   "metadata": {},
   "source": [
    "### Account Age Calculations\n",
    "One of the most common identifying features of inorganic activity is relatively young accounts. When batches of accounts are made for bot use or human astroturfing, the accounts are typically used right away, rather than letting them age for years before use. As can be observed below, most user accounts are years old.\n",
    "\n",
    "&nbsp;\n",
    "\n",
    "**Isolate account creation dates**\n",
    "\n",
    "First I get a list of the timestamps for account creation related to each tweet."
   ]
  },
  {
   "cell_type": "code",
   "execution_count": 80,
   "metadata": {},
   "outputs": [],
   "source": [
    "acct_start = []\n",
    "\n",
    "for i in dfs['user']:\n",
    "    acct_start.append(i['created_at'])   "
   ]
  },
  {
   "cell_type": "markdown",
   "metadata": {},
   "source": [
    "**Calculate age of account when posting each tweet**\n",
    "\n",
    "Now, I record the difference between the tweet's creation time and associated account's creation time for each tweet."
   ]
  },
  {
   "cell_type": "code",
   "execution_count": 96,
   "metadata": {},
   "outputs": [],
   "source": [
    "age_at_post = []\n",
    "\n",
    "for i in range(len(acct_start)-1):\n",
    "    # Get the account creation date and post date\n",
    "    a = acct_start[i]\n",
    "    b = dfs['created_at'][i]\n",
    "    \n",
    "    # Convert both into the same Timestamp format\n",
    "    a = pd.Timestamp(a).tz_localize(None)\n",
    "    b = pd.Timestamp(b).tz_localize(None)\n",
    "    \n",
    "    # Calculate the age at posting in seconds\n",
    "    age_at_post.append((b - a).total_seconds())\n",
    "    "
   ]
  },
  {
   "cell_type": "markdown",
   "metadata": {},
   "source": [
    "**Convert to days**\n",
    "\n",
    "I convert the account age at time of posting from seconds to days."
   ]
  },
  {
   "cell_type": "code",
   "execution_count": 112,
   "metadata": {},
   "outputs": [],
   "source": [
    "seconds_in_day = 60 * 60 * 24\n",
    "age_at_post_days = [x / seconds_in_day for x in age_at_post]"
   ]
  },
  {
   "cell_type": "markdown",
   "metadata": {},
   "source": [
    "### Visualizing Account Ages\n",
    "Below I visualize the spread of account ages at time of posting. I also display some summary statistics in the following cell. As expected, the distribution implies that the accounts have been created throughout the existence of Twitter, with the average age being a few years."
   ]
  },
  {
   "cell_type": "code",
   "execution_count": 113,
   "metadata": {
    "scrolled": true
   },
   "outputs": [
    {
     "data": {
      "text/plain": [
       "Text(0, 0.5, 'Accounts')"
      ]
     },
     "execution_count": 113,
     "metadata": {},
     "output_type": "execute_result"
    },
    {
     "data": {
      "image/png": "[encoded data removed]",
      "text/plain": [
       "<Figure size 432x288 with 1 Axes>"
      ]
     },
     "metadata": {
      "needs_background": "light"
     },
     "output_type": "display_data"
    }
   ],
   "source": [
    "plt.hist(age_at_post_days, bins=20)\n",
    "plt.title(\"Distribution of Account Age at Posting Time\")\n",
    "plt.xlabel(\"Days\")\n",
    "plt.ylabel(\"Accounts\")"
   ]
  },
  {
   "cell_type": "code",
   "execution_count": 123,
   "metadata": {
    "scrolled": true
   },
   "outputs": [
    {
     "data": {
      "text/plain": [
       "DescribeResult(nobs=54605, minmax=(0.001388888888888889, 4451.296400462963), mean=2006.8847893827983, variance=1220624.772413283, skewness=-0.1637655726256907, kurtosis=-1.1726399534435956)"
      ]
     },
     "execution_count": 123,
     "metadata": {},
     "output_type": "execute_result"
    }
   ],
   "source": [
    "stats.describe(age_at_post_days)"
   ]
  },
  {
   "cell_type": "code",
   "execution_count": 124,
   "metadata": {
    "scrolled": true
   },
   "outputs": [
    {
     "data": {
      "text/plain": [
       "{'id': 1674050738,\n",
       " 'id_str': '1674050738',\n",
       " 'name': 'Catherine Maron',\n",
       " 'screen_name': 'CCmmaron',\n",
       " 'location': '',\n",
       " 'description': 'Proud mom of 3, grateful daughter and partner, teacher and life-long learner.',\n",
       " 'url': None,\n",
       " 'entities': {'description': {'urls': []}},\n",
       " 'protected': False,\n",
       " 'followers_count': 20,\n",
       " 'friends_count': 143,\n",
       " 'listed_count': 0,\n",
       " 'created_at': 'Thu Aug 15 20:56:49 +0000 2013',\n",
       " 'favourites_count': 74,\n",
       " 'utc_offset': None,\n",
       " 'time_zone': None,\n",
       " 'geo_enabled': False,\n",
       " 'verified': False,\n",
       " 'statuses_count': 67,\n",
       " 'lang': None,\n",
       " 'contributors_enabled': False,\n",
       " 'is_translator': False,\n",
       " 'is_translation_enabled': False,\n",
       " 'profile_background_color': 'C0DEED',\n",
       " 'profile_background_image_url': 'http://abs.twimg.com/images/themes/theme1/bg.png',\n",
       " 'profile_background_image_url_https': 'https://abs.twimg.com/images/themes/theme1/bg.png',\n",
       " 'profile_background_tile': False,\n",
       " 'profile_image_url': 'http://pbs.twimg.com/profile_images/946702944812064769/G9nrKQbU_normal.jpg',\n",
       " 'profile_image_url_https': 'https://pbs.twimg.com/profile_images/946702944812064769/G9nrKQbU_normal.jpg',\n",
       " 'profile_banner_url': 'https://pbs.twimg.com/profile_banners/1674050738/1519188356',\n",
       " 'profile_image_extensions_alt_text': None,\n",
       " 'profile_banner_extensions_alt_text': None,\n",
       " 'profile_link_color': '1DA1F2',\n",
       " 'profile_sidebar_border_color': 'C0DEED',\n",
       " 'profile_sidebar_fill_color': 'DDEEF6',\n",
       " 'profile_text_color': '333333',\n",
       " 'profile_use_background_image': True,\n",
       " 'has_extended_profile': False,\n",
       " 'default_profile': True,\n",
       " 'default_profile_image': False,\n",
       " 'following': False,\n",
       " 'follow_request_sent': False,\n",
       " 'notifications': False,\n",
       " 'translator_type': 'none'}"
      ]
     },
     "execution_count": 124,
     "metadata": {},
     "output_type": "execute_result"
    }
   ],
   "source": [
    "dfs[\"user\"][0]"
   ]
  },
  {
   "cell_type": "markdown",
   "metadata": {},
   "source": [
    "### Posting Frequency Calculations\n",
    "Another suspicious account feature which is intuitively a good indicator of inorganic activity is an account's posting frequency. Fake accounts, especially bots, are made with the goal of spreading or magnifying some message, therefore they are used to perform large amounts of activity (such as retweeting, which counts as a tweet) relative to the average human user.\n",
    "\n",
    "&nbsp;\n",
    "\n",
    "**Calculate number of posts**\n",
    "\n",
    "First I calculate the number of posts made by the account associated with each tweet."
   ]
  },
  {
   "cell_type": "code",
   "execution_count": 165,
   "metadata": {},
   "outputs": [],
   "source": [
    "num_posts = []\n",
    "for i in range(len(dfs)-1):\n",
    "    num = dfs['user'][i]['statuses_count']\n",
    "    num_posts.append(num)"
   ]
  },
  {
   "cell_type": "markdown",
   "metadata": {},
   "source": [
    "As evidenced by some summary statistics, there are posting amounts which are suspiciously high."
   ]
  },
  {
   "cell_type": "code",
   "execution_count": 167,
   "metadata": {
    "scrolled": true
   },
   "outputs": [
    {
     "data": {
      "text/plain": [
       "DescribeResult(nobs=54605, minmax=(1, 3655420), mean=74750.6033696548, variance=21746512101.03633, skewness=7.080231064039844, kurtosis=98.9256399619534)"
      ]
     },
     "execution_count": 167,
     "metadata": {},
     "output_type": "execute_result"
    }
   ],
   "source": [
    "stats.describe(num_posts)"
   ]
  },
  {
   "cell_type": "markdown",
   "metadata": {},
   "source": [
    "**Caluclate frequency**\n",
    "\n",
    "Next I calculate the frequency of posts (ratio of total posts versus account age) for the account associated with each tweet."
   ]
  },
  {
   "cell_type": "code",
   "execution_count": 160,
   "metadata": {},
   "outputs": [],
   "source": [
    "post_freq = []\n",
    "\n",
    "for i in range(len(dfs)-1):\n",
    "    num_posts = dfs['user'][i]['statuses_count']\n",
    "    age = age_at_post_days[i]\n",
    "    frequency = num_posts / age\n",
    "    post_freq.append(frequency)"
   ]
  },
  {
   "cell_type": "markdown",
   "metadata": {},
   "source": [
    "### Visualizing Posting Frequencies\n",
    "Below I visualize the spread of posting frequencies associated with each tweet's account. I also display some summary statistics in the following cell. \n",
    "\n",
    "The resulting distribution indicates some very extreme outliers. Posting frequencies of tens of thousands of tweets per day are a huge red flag, as it is totally unfeasible for a human to perform. The vast majority of posting frequencies fall below the mean of 91 (which is heavily skewed by the outliers)."
   ]
  },
  {
   "cell_type": "code",
   "execution_count": 163,
   "metadata": {
    "scrolled": true
   },
   "outputs": [
    {
     "data": {
      "text/plain": [
       "Text(0, 0.5, 'Accounts')"
      ]
     },
     "execution_count": 163,
     "metadata": {},
     "output_type": "execute_result"
    },
    {
     "data": {
      "image/png": "[encoded data removed]",
      "text/plain": [
       "<Figure size 432x288 with 1 Axes>"
      ]
     },
     "metadata": {
      "needs_background": "light"
     },
     "output_type": "display_data"
    }
   ],
   "source": [
    "plt.hist(post_freq, bins=20)\n",
    "plt.title(\"Distribution of Posting Frequency\")\n",
    "plt.xlabel(\"Posts per Day\")\n",
    "plt.ylabel(\"Accounts\")"
   ]
  },
  {
   "cell_type": "code",
   "execution_count": 174,
   "metadata": {
    "scrolled": true
   },
   "outputs": [
    {
     "data": {
      "text/plain": [
       "DescribeResult(nobs=54605, minmax=(0.000580973055767449, 142815.7090579847), mean=91.98719210224164, variance=1558431.6618614001, skewness=71.40183435135245, kurtosis=6228.855252451364)"
      ]
     },
     "execution_count": 174,
     "metadata": {},
     "output_type": "execute_result"
    }
   ],
   "source": [
    "stats.describe(post_freq)"
   ]
  },
  {
   "cell_type": "markdown",
   "metadata": {},
   "source": [
    "### Bio Length Calculations\n",
    "Though less strongly indicative of artificial activity, two features related to the user account information might be indicative of fake accounts. Below I look into the length of bio, or 'description, for the account associated with each tweet.\n",
    "\n",
    "&nbsp;\n",
    "\n",
    "**Calculate bio length**\n",
    "\n",
    "I calculate the length of the 'description' string for the account associated with each tweet."
   ]
  },
  {
   "cell_type": "code",
   "execution_count": 127,
   "metadata": {},
   "outputs": [],
   "source": [
    "bio_len = []\n",
    "for i in range(len(dfs)-1):\n",
    "    length = len(dfs['user'][i]['description'])\n",
    "    bio_len.append(length)"
   ]
  },
  {
   "cell_type": "markdown",
   "metadata": {},
   "source": [
    "### Visualizing Bio Lengths\n",
    "Here I visualize the spread of bio lengths (in characters).  I also display some summary statistics in the following cell.\n",
    "\n",
    "The distribution appears bimodal, with large numbers of accounts at each end of the length spectrum. As evidenced further down, when I take a look at some sample accounts, the bio length is not as useful of a feature for identifying 'fake' accounts."
   ]
  },
  {
   "cell_type": "code",
   "execution_count": 130,
   "metadata": {
    "scrolled": false
   },
   "outputs": [
    {
     "data": {
      "text/plain": [
       "Text(0, 0.5, 'Accounts')"
      ]
     },
     "execution_count": 130,
     "metadata": {},
     "output_type": "execute_result"
    },
    {
     "data": {
      "image/png": "[encoded data removed]",
      "text/plain": [
       "<Figure size 432x288 with 1 Axes>"
      ]
     },
     "metadata": {
      "needs_background": "light"
     },
     "output_type": "display_data"
    }
   ],
   "source": [
    "plt.hist(bio_len)\n",
    "plt.title(\"Distribution of Account Bio Length\")\n",
    "plt.xlabel(\"Characters\")\n",
    "plt.ylabel(\"Accounts\")"
   ]
  },
  {
   "cell_type": "code",
   "execution_count": 175,
   "metadata": {
    "scrolled": true
   },
   "outputs": [
    {
     "data": {
      "text/plain": [
       "DescribeResult(nobs=54605, minmax=(0, 230), mean=92.64827396758538, variance=3259.9901243465947, skewness=-0.37550876747077083, kurtosis=-1.3379301594578963)"
      ]
     },
     "execution_count": 175,
     "metadata": {},
     "output_type": "execute_result"
    }
   ],
   "source": [
    "stats.describe(bio_len)"
   ]
  },
  {
   "cell_type": "markdown",
   "metadata": {},
   "source": [
    "### Percent of Numbers in Name Calculations\n",
    "As a final user account feature to explore, I look at the percentage of numerical digits in an account's screen name, or 'handle'. According to [this Mozilla resource](https://blog.mozilla.org/internetcitizen/2018/01/08/irl-how-to-spot-a-bot/) referenced in the 'Background' section above, account names with a jumble of letters and numbers can be indicative of bots. This makes sense, as creating batches of accounts in some automated fashion would be easier if generating such names.\n",
    "\n",
    "&nbsp;\n",
    "\n",
    "**Calculate percentage**\n",
    "\n",
    "I calculate the percentage of numerical digits (0 through 9) present in the account screen name associated with each tweet. I use a helper function defined above to do this."
   ]
  },
  {
   "cell_type": "code",
   "execution_count": 132,
   "metadata": {},
   "outputs": [],
   "source": [
    "num_in_name = []\n",
    "\n",
    "for i in range(len(dfs)-1):\n",
    "    percent_num = percentNumbers(dfs['user'][i]['screen_name'])\n",
    "    num_in_name.append(percent_num)"
   ]
  },
  {
   "cell_type": "markdown",
   "metadata": {},
   "source": [
    "### Visualizing Percent of Numbers in Names\n",
    "Below I visualize the spread of percentages of numerical digits in accounts' screen names. I also display some summary statistics in the following cell.\n",
    "\n",
    "Like posting frequency, this is a very skewed distribution. The bulk of accounts have less than 10% numbers in their screen names, yet some accounts go up to more than 50% of their names being numbers."
   ]
  },
  {
   "cell_type": "code",
   "execution_count": 133,
   "metadata": {
    "scrolled": false
   },
   "outputs": [
    {
     "data": {
      "text/plain": [
       "Text(0, 0.5, 'Accounts')"
      ]
     },
     "execution_count": 133,
     "metadata": {},
     "output_type": "execute_result"
    },
    {
     "data": {
      "image/png": "[encoded data removed]",
      "text/plain": [
       "<Figure size 432x288 with 1 Axes>"
      ]
     },
     "metadata": {
      "needs_background": "light"
     },
     "output_type": "display_data"
    }
   ],
   "source": [
    "plt.hist(num_in_name)\n",
    "plt.title(\"Distribution of Numbers in Screen Names\")\n",
    "plt.xlabel(\"Percentage of Name\")\n",
    "plt.ylabel(\"Accounts\")"
   ]
  },
  {
   "cell_type": "code",
   "execution_count": 176,
   "metadata": {},
   "outputs": [
    {
     "data": {
      "text/plain": [
       "DescribeResult(nobs=54605, minmax=(0.0, 1.0), mean=0.06159344379333392, variance=0.017366342398283604, skewness=2.52650107976554, kurtosis=6.561198588477829)"
      ]
     },
     "execution_count": 176,
     "metadata": {},
     "output_type": "execute_result"
    }
   ],
   "source": [
    "stats.describe(num_in_name)"
   ]
  },
  {
   "cell_type": "markdown",
   "metadata": {},
   "source": [
    "### Visualizing Tweets Based on Suspect Account Features\n",
    "Below I plot the tweets according to the 3 of the potentially identifying features for inorganic activity:\n",
    "- Account Age at Time of Posting\n",
    "- Percent of Numbers in Name\n",
    "- Posting Frequency\n",
    "\n",
    "As can be observed, there are several accounts which are clear stand outs. An interesting observation is that the **bio length** is not really as useful of a differentiator as **posting frequency** and **account age**. **Posting frequency** appears to be the greatest distinguishing factor, and the highest posting frequencies are all for *very* young accounts. This is what would be expected for bot accounts. No human user would reasonably post tens of thousands of tweets within a day of making an account."
   ]
  },
  {
   "cell_type": "code",
   "execution_count": 178,
   "metadata": {
    "scrolled": false
   },
   "outputs": [
    {
     "data": {
      "text/plain": [
       "<mpl_toolkits.mplot3d.art3d.Path3DCollection at 0x7faeb41b65c0>"
      ]
     },
     "execution_count": 178,
     "metadata": {},
     "output_type": "execute_result"
    },
    {
     "data": {
      "image/png": "[encoded data removed]",
      "text/plain": [
       "<Figure size 432x432 with 1 Axes>"
      ]
     },
     "metadata": {
      "needs_background": "light"
     },
     "output_type": "display_data"
    }
   ],
   "source": [
    "fig = plt.figure(figsize=(6, 6))\n",
    "ax = Axes3D(fig)\n",
    "ax.set_title(\"Tweets Plotted by Account Features\")\n",
    "ax.set_xlabel(\"Account Age in Days\")\n",
    "ax.set_ylabel(\"Percent Numbers in Name\")\n",
    "ax.set_zlabel(\"Posting Frequency (Posts/Day)\")\n",
    "ax.scatter(age_at_post_days, num_in_name, post_freq)"
   ]
  },
  {
   "cell_type": "markdown",
   "metadata": {},
   "source": []
  },
  {
   "cell_type": "code",
   "execution_count": 139,
   "metadata": {},
   "outputs": [
    {
     "name": "stderr",
     "output_type": "stream",
     "text": [
      "/home/oponn/.local/lib/python3.6/site-packages/ipykernel_launcher.py:6: SettingWithCopyWarning: \n",
      "A value is trying to be set on a copy of a slice from a DataFrame\n",
      "\n",
      "See the caveats in the documentation: https://pandas.pydata.org/pandas-docs/stable/user_guide/indexing.html#returning-a-view-versus-a-copy\n",
      "  \n"
     ]
    }
   ],
   "source": [
    "dfs[\"postAge\"] = 0\n",
    "for i in range(len(dfs) - 1):\n",
    "    postTime = pd.Timestamp(dfs[\"created_at\"][i]).tz_localize(None)\n",
    "    acctTime = pd.Timestamp(dfs[\"user\"][i][\"created_at\"]).tz_localize(None)\n",
    "    postAge = (postTime - accountTime).asm8.astype(int) / 3600000000000\n",
    "    dfs[\"postAge\"][i] = postAge"
   ]
  },
  {
   "cell_type": "code",
   "execution_count": 162,
   "metadata": {},
   "outputs": [],
   "source": [
    "cluster_features = dfs[[\"postAge\", \"followCount\", \"bioLength\"]]"
   ]
  },
  {
   "cell_type": "code",
   "execution_count": 163,
   "metadata": {
    "scrolled": true
   },
   "outputs": [
    {
     "data": {
      "text/html": [
       "<div>\n",
       "<style scoped>\n",
       "    .dataframe tbody tr th:only-of-type {\n",
       "        vertical-align: middle;\n",
       "    }\n",
       "\n",
       "    .dataframe tbody tr th {\n",
       "        vertical-align: top;\n",
       "    }\n",
       "\n",
       "    .dataframe thead th {\n",
       "        text-align: right;\n",
       "    }\n",
       "</style>\n",
       "<table border=\"1\" class=\"dataframe\">\n",
       "  <thead>\n",
       "    <tr style=\"text-align: right;\">\n",
       "      <th></th>\n",
       "      <th>postAge</th>\n",
       "      <th>followCount</th>\n",
       "      <th>bioLength</th>\n",
       "    </tr>\n",
       "  </thead>\n",
       "  <tbody>\n",
       "    <tr>\n",
       "      <th>0</th>\n",
       "      <td>42312</td>\n",
       "      <td>20</td>\n",
       "      <td>77</td>\n",
       "    </tr>\n",
       "    <tr>\n",
       "      <th>1</th>\n",
       "      <td>42385</td>\n",
       "      <td>79910</td>\n",
       "      <td>59</td>\n",
       "    </tr>\n",
       "    <tr>\n",
       "      <th>2</th>\n",
       "      <td>42497</td>\n",
       "      <td>277</td>\n",
       "      <td>51</td>\n",
       "    </tr>\n",
       "    <tr>\n",
       "      <th>3</th>\n",
       "      <td>42508</td>\n",
       "      <td>1599</td>\n",
       "      <td>86</td>\n",
       "    </tr>\n",
       "    <tr>\n",
       "      <th>4</th>\n",
       "      <td>42522</td>\n",
       "      <td>363</td>\n",
       "      <td>93</td>\n",
       "    </tr>\n",
       "  </tbody>\n",
       "</table>\n",
       "</div>"
      ],
      "text/plain": [
       "   postAge  followCount  bioLength\n",
       "0    42312           20         77\n",
       "1    42385        79910         59\n",
       "2    42497          277         51\n",
       "3    42508         1599         86\n",
       "4    42522          363         93"
      ]
     },
     "execution_count": 163,
     "metadata": {},
     "output_type": "execute_result"
    }
   ],
   "source": [
    "cluster_features.head()"
   ]
  },
  {
   "cell_type": "code",
   "execution_count": 173,
   "metadata": {
    "scrolled": true
   },
   "outputs": [
    {
     "data": {
      "text/plain": [
       "<mpl_toolkits.mplot3d.art3d.Path3DCollection at 0x7fed58c24da0>"
      ]
     },
     "execution_count": 173,
     "metadata": {},
     "output_type": "execute_result"
    },
    {
     "data": {
      "image/png": "[encoded data removed]",
      "text/plain": [
       "<Figure size 432x288 with 1 Axes>"
      ]
     },
     "metadata": {
      "needs_background": "light"
     },
     "output_type": "display_data"
    }
   ],
   "source": [
    "fig = plt.figure()\n",
    "ax = Axes3D(fig)\n",
    "ax.scatter(cluster_features['followCount'], cluster_features['postAge'], cluster_features['bioLength'])"
   ]
  },
  {
   "cell_type": "code",
   "execution_count": 176,
   "metadata": {},
   "outputs": [],
   "source": [
    "dfs_clip = cluster_features"
   ]
  },
  {
   "cell_type": "code",
   "execution_count": 181,
   "metadata": {
    "scrolled": false
   },
   "outputs": [
    {
     "name": "stderr",
     "output_type": "stream",
     "text": [
      "/home/oponn/.local/lib/python3.6/site-packages/ipykernel_launcher.py:1: SettingWithCopyWarning: \n",
      "A value is trying to be set on a copy of a slice from a DataFrame.\n",
      "Try using .loc[row_indexer,col_indexer] = value instead\n",
      "\n",
      "See the caveats in the documentation: https://pandas.pydata.org/pandas-docs/stable/user_guide/indexing.html#returning-a-view-versus-a-copy\n",
      "  \"\"\"Entry point for launching an IPython kernel.\n"
     ]
    }
   ],
   "source": [
    "dfs_clip['followCount'] = dfs_clip['followCount'].where(dfs_clip['followCount'] <= 1000000, 1000000)"
   ]
  },
  {
   "cell_type": "code",
   "execution_count": 183,
   "metadata": {},
   "outputs": [
    {
     "name": "stderr",
     "output_type": "stream",
     "text": [
      "/home/oponn/.local/lib/python3.6/site-packages/ipykernel_launcher.py:1: SettingWithCopyWarning: \n",
      "A value is trying to be set on a copy of a slice from a DataFrame.\n",
      "Try using .loc[row_indexer,col_indexer] = value instead\n",
      "\n",
      "See the caveats in the documentation: https://pandas.pydata.org/pandas-docs/stable/user_guide/indexing.html#returning-a-view-versus-a-copy\n",
      "  \"\"\"Entry point for launching an IPython kernel.\n"
     ]
    }
   ],
   "source": [
    "dfs_clip['postAge'] = dfs_clip['postAge'].where(dfs_clip['postAge'] >= 40000, 40000)"
   ]
  },
  {
   "cell_type": "code",
   "execution_count": 184,
   "metadata": {},
   "outputs": [
    {
     "data": {
      "text/plain": [
       "<mpl_toolkits.mplot3d.art3d.Path3DCollection at 0x7fed57dc2860>"
      ]
     },
     "execution_count": 184,
     "metadata": {},
     "output_type": "execute_result"
    },
    {
     "data": {
      "image/png": "[encoded data removed]",
      "text/plain": [
       "<Figure size 432x288 with 1 Axes>"
      ]
     },
     "metadata": {
      "needs_background": "light"
     },
     "output_type": "display_data"
    }
   ],
   "source": [
    "fig = plt.figure()\n",
    "ax = Axes3D(fig)\n",
    "ax.scatter(cluster_features['followCount'], cluster_features['postAge'], cluster_features['bioLength'])"
   ]
  },
  {
   "cell_type": "code",
   "execution_count": 194,
   "metadata": {},
   "outputs": [],
   "source": [
    "kmeans = KMeans(n_clusters=4).fit(dfs_clip)"
   ]
  },
  {
   "cell_type": "code",
   "execution_count": 191,
   "metadata": {
    "scrolled": true
   },
   "outputs": [
    {
     "data": {
      "text/plain": [
       "array([0, 0, 0, ..., 0, 0, 0], dtype=int32)"
      ]
     },
     "execution_count": 191,
     "metadata": {},
     "output_type": "execute_result"
    }
   ],
   "source": [
    "kmeans.predict(dfs_clip)"
   ]
  },
  {
   "cell_type": "code",
   "execution_count": 195,
   "metadata": {
    "scrolled": true
   },
   "outputs": [
    {
     "data": {
      "text/plain": [
       "<mpl_toolkits.mplot3d.art3d.Path3DCollection at 0x7fed4b5e75f8>"
      ]
     },
     "execution_count": 195,
     "metadata": {},
     "output_type": "execute_result"
    },
    {
     "data": {
      "image/png": "[encoded data removed]",
      "text/plain": [
       "<Figure size 432x288 with 1 Axes>"
      ]
     },
     "metadata": {
      "needs_background": "light"
     },
     "output_type": "display_data"
    }
   ],
   "source": [
    "fig = plt.figure()\n",
    "ax = Axes3D(fig)\n",
    "ax.scatter(cluster_features['followCount'], cluster_features['postAge'], cluster_features['bioLength'], \n",
    "            c=kmeans.predict(dfs_clip))"
   ]
  },
  {
   "cell_type": "code",
   "execution_count": 201,
   "metadata": {},
   "outputs": [
    {
     "data": {
      "text/plain": [
       "[{'text': 'climatechange', 'indices': [60, 74]},\n",
       " {'text': 'GlobalWarming', 'indices': [29, 43]},\n",
       " {'text': 'union', 'indices': [101, 107]},\n",
       " {'text': 'ClimateJustice', 'indices': [80, 95]},\n",
       " {'text': 'CoalEmissions', 'indices': [239, 253]},\n",
       " {'text': 'climatechange', 'indices': [124, 138]},\n",
       " {'text': 'NASA', 'indices': [103, 108]},\n",
       " {'text': 'California', 'indices': [79, 90]},\n",
       " {'text': 'WarOnOurFuture', 'indices': [118, 133]},\n",
       " {'text': 'QandA', 'indices': [74, 80]},\n",
       " {'text': 'climatechange', 'indices': [85, 99]},\n",
       " {'text': 'climatechangeisreal', 'indices': [115, 135]},\n",
       " {'text': 'HealtheWorld', 'indices': [186, 199]},\n",
       " {'text': 'OurFuture', 'indices': [175, 185]},\n",
       " {'text': 'Conservation', 'indices': [161, 174]},\n",
       " {'text': 'Carnivores', 'indices': [149, 160]},\n",
       " {'text': 'Activism', 'indices': [139, 148]},\n",
       " {'text': 'Animals', 'indices': [130, 138]},\n",
       " {'text': 'Agenda', 'indices': [122, 129]},\n",
       " {'text': 'Vegan', 'indices': [115, 121]},\n",
       " {'text': 'HeatingUp', 'indices': [104, 114]},\n",
       " {'text': 'HOT', 'indices': [99, 103]},\n",
       " {'text': 'Waterconservation', 'indices': [80, 98]},\n",
       " {'text': 'climatechange', 'indices': [65, 79]},\n",
       " {'text': 'SmartDissent', 'indices': [123, 136]},\n",
       " {'text': 'Endangered', 'indices': [75, 86]},\n",
       " {'text': 'NaziRegime', 'indices': [264, 275]},\n",
       " {'text': 'RussiaGate', 'indices': [252, 263]},\n",
       " {'text': 'lockthemup', 'indices': [240, 251]},\n",
       " {'text': 'TrumpCrimeFamily', 'indices': [222, 239]},\n",
       " {'text': 'DictatorTrump', 'indices': [207, 221]},\n",
       " {'text': 'HitlerTrump', 'indices': [194, 206]},\n",
       " {'text': 'JamesWoodsGoAwayForever', 'indices': [169, 193]},\n",
       " {'text': 'Resistance', 'indices': [157, 168]},\n",
       " {'text': 'JamesWoodsNazi', 'indices': [141, 156]},\n",
       " {'text': 'climatechange', 'indices': [120, 134]},\n",
       " {'text': 'arctic', 'indices': [112, 119]},\n",
       " {'text': 'solar', 'indices': [50, 56]},\n",
       " {'text': 'FakeNews', 'indices': [33, 42]},\n",
       " {'text': 'MondayThoughts', 'indices': [229, 244]},\n",
       " {'text': 'GlobalCitizen', 'indices': [214, 228]},\n",
       " {'text': 'GlobalWarming', 'indices': [164, 178]},\n",
       " {'text': 'ClimateChange', 'indices': [141, 155]},\n",
       " {'text': 'IPCC', 'indices': [27, 32]},\n",
       " {'text': 'ClimateChange', 'indices': [57, 71]},\n",
       " {'text': 'GlobalWarming', 'indices': [42, 56]},\n",
       " {'text': 'unschooling', 'indices': [166, 178]},\n",
       " {'text': 'anthropocene', 'indices': [62, 75]},\n",
       " {'text': 'climatechange', 'indices': [250, 264]},\n",
       " {'text': 'klickitatdems', 'indices': [235, 249]},\n",
       " {'text': 'accessfund', 'indices': [223, 234]},\n",
       " {'text': 'wastatedems', 'indices': [210, 222]},\n",
       " {'text': 'sierraclub', 'indices': [198, 209]},\n",
       " {'text': 'auspol', 'indices': [128, 135]},\n",
       " {'text': 'climatechange', 'indices': [112, 126]},\n",
       " {'text': 'priceoncarbon', 'indices': [115, 129]},\n",
       " {'text': 'cdnpoli', 'indices': [106, 114]},\n",
       " {'text': 'ElectricVehicles', 'indices': [33, 50]},\n",
       " {'text': 'ClimateChange', 'indices': [55, 69]},\n",
       " {'text': 'cnn', 'indices': [130, 134]},\n",
       " {'text': 'nhs', 'indices': [125, 129]},\n",
       " {'text': 'bbc', 'indices': [120, 124]},\n",
       " {'text': 'vegan', 'indices': [113, 119]},\n",
       " {'text': 'climatechange', 'indices': [98, 112]},\n",
       " {'text': 'disasters', 'indices': [46, 56]},\n",
       " {'text': 'ParisAgreement', 'indices': [93, 108]},\n",
       " {'text': 'EnvironmentalVandals', 'indices': [98, 119]},\n",
       " {'text': 'wildfires', 'indices': [96, 106]},\n",
       " {'text': 'CSP', 'indices': [120, 124]},\n",
       " {'text': 'steam', 'indices': [100, 106]},\n",
       " {'text': 'ClimateChange', 'indices': [63, 77]},\n",
       " {'text': 'ClimateFinancePact', 'indices': [90, 109]},\n",
       " {'text': 'climatechange', 'indices': [52, 66]},\n",
       " {'text': 'BootPruitt', 'indices': [117, 128]},\n",
       " {'text': 'MetsUnite', 'indices': [101, 111]},\n",
       " {'text': 'Africa', 'indices': [126, 133]},\n",
       " {'text': 'ClimateChange', 'indices': [19, 33]},\n",
       " {'text': 'ClimateChangeIsReal', 'indices': [20, 40]},\n",
       " {'text': 'climatechange', 'indices': [65, 79]},\n",
       " {'text': 'ClimateChange', 'indices': [122, 136]},\n",
       " {'text': 'Faith', 'indices': [226, 232]},\n",
       " {'text': 'Climate', 'indices': [211, 219]},\n",
       " {'text': 'actonclimate', 'indices': [176, 189]},\n",
       " {'text': 'politicization', 'indices': [133, 148]},\n",
       " {'text': 'pollution', 'indices': [97, 107]},\n",
       " {'text': 'science', 'indices': [56, 64]},\n",
       " {'text': 'creationcare', 'indices': [41, 54]},\n",
       " {'text': 'theological', 'indices': [14, 26]},\n",
       " {'text': 'GCAS2018', 'indices': [61, 70]},\n",
       " {'text': 'AgooMagazine', 'indices': [161, 174]},\n",
       " {'text': 'socialmediaweek', 'indices': [144, 160]},\n",
       " {'text': 'SMWAccra18', 'indices': [132, 143]},\n",
       " {'text': 'SMWAccra', 'indices': [122, 131]},\n",
       " {'text': 'climatechange', 'indices': [30, 44]},\n",
       " {'text': 'Climatechange', 'indices': [46, 60]},\n",
       " {'text': 'Ourview', 'indices': [134, 142]},\n",
       " {'text': 'climatechange', 'indices': [35, 49]},\n",
       " {'text': 'oil', 'indices': [275, 279]},\n",
       " {'text': 'notfracking', 'indices': [262, 274]},\n",
       " {'text': 'globalwarming', 'indices': [247, 261]},\n",
       " {'text': 'climagechange', 'indices': [232, 246]},\n",
       " {'text': 'hottestsummer', 'indices': [217, 231]},\n",
       " {'text': 'Biscathorpe', 'indices': [204, 216]},\n",
       " {'text': 'oildrillingcartoon', 'indices': [184, 203]},\n",
       " {'text': 'LincolnshireWolds', 'indices': [164, 182]},\n",
       " {'text': 'Chalkstreams', 'indices': [150, 163]},\n",
       " {'text': 'Biscathorpeoildrilling', 'indices': [126, 149]},\n",
       " {'text': 'Janeaircartoons', 'indices': [109, 125]},\n",
       " {'text': 'Mangrove', 'indices': [12, 21]},\n",
       " {'text': 'SDPI', 'indices': [64, 69]},\n",
       " {'text': 'PTI', 'indices': [16, 20]},\n",
       " {'text': 'bbcaq', 'indices': [198, 204]},\n",
       " {'text': 'bbcsp', 'indices': [191, 197]},\n",
       " {'text': 'Marr', 'indices': [185, 190]},\n",
       " {'text': 'skynews', 'indices': [176, 184]},\n",
       " {'text': 'bbcnews', 'indices': [167, 175]},\n",
       " {'text': 'energy', 'indices': [129, 136]},\n",
       " {'text': 'environment', 'indices': [115, 127]},\n",
       " {'text': 'climateaction', 'indices': [99, 113]},\n",
       " {'text': 'climatechange', 'indices': [84, 98]},\n",
       " {'text': 'ClimateChange', 'indices': [79, 93]},\n",
       " {'text': 'foodbanks', 'indices': [113, 123]},\n",
       " {'text': 'Diabetes', 'indices': [33, 42]},\n",
       " {'text': 'SBSTTA2018', 'indices': [99, 110]},\n",
       " {'text': 'ClimateChange', 'indices': [64, 78]},\n",
       " {'text': 'marine', 'indices': [37, 44]},\n",
       " {'text': 'ProtectedAreas', 'indices': [20, 35]},\n",
       " {'text': 'climatechange', 'indices': [32, 46]},\n",
       " {'text': 'noplastic', 'indices': [114, 124]},\n",
       " {'text': 'endwaste', 'indices': [104, 113]},\n",
       " {'text': 'climateaction', 'indices': [89, 103]},\n",
       " {'text': 'climatechange', 'indices': [74, 88]},\n",
       " {'text': 'ActOnClimate', 'indices': [136, 149]},\n",
       " {'text': 'CarbonTax', 'indices': [0, 10]},\n",
       " {'text': 'CrisisWhatCrisis', 'indices': [196, 213]},\n",
       " {'text': 'ClimateChange', 'indices': [181, 195]},\n",
       " {'text': 'FTW', 'indices': [176, 180]},\n",
       " {'text': 'HeadInSand', 'indices': [164, 175]},\n",
       " {'text': 'FactsWeDontLikeAreFake', 'indices': [140, 163]},\n",
       " {'text': 'FakeNews', 'indices': [130, 139]},\n",
       " {'text': 'Winning', 'indices': [121, 129]},\n",
       " {'text': 'MAGA', 'indices': [115, 120]},\n",
       " {'text': 'GOP', 'indices': [110, 114]},\n",
       " {'text': 'Flake', 'indices': [27, 33]},\n",
       " {'text': 'climatechange', 'indices': [119, 133]},\n",
       " {'text': 'CCDAVII', 'indices': [110, 118]},\n",
       " {'text': 'eco', 'indices': [130, 134]},\n",
       " {'text': 'canpoli', 'indices': [121, 129]},\n",
       " {'text': 'cdnpoli', 'indices': [112, 120]},\n",
       " {'text': 'GreenConv18', 'indices': [99, 111]},\n",
       " {'text': 'ScotClimateWeek', 'indices': [44, 60]},\n",
       " {'text': 'GreatBarrierReef', 'indices': [51, 68]},\n",
       " {'text': 'ClimateChange', 'indices': [123, 137]},\n",
       " {'text': 'ActOnClimate', 'indices': [109, 122]},\n",
       " {'text': 'MeltingIcecaps', 'indices': [119, 134]},\n",
       " {'text': 'climatechange', 'indices': [104, 118]},\n",
       " {'text': 'GlobalWarming', 'indices': [89, 103]},\n",
       " {'text': 'UnnaturalDisaster', 'indices': [70, 88]},\n",
       " {'text': 'industry', 'indices': [60, 69]},\n",
       " {'text': 'capitalists', 'indices': [47, 59]},\n",
       " {'text': 'capitalism', 'indices': [35, 46]},\n",
       " {'text': 'fatcats', 'indices': [26, 34]},\n",
       " {'text': 'pollution', 'indices': [15, 25]},\n",
       " {'text': 'KinderMorgan', 'indices': [86, 99]},\n",
       " {'text': 'ClimateChange', 'indices': [49, 63]},\n",
       " {'text': 'StockholmResilienceCentre', 'indices': [233, 259]},\n",
       " {'text': 'JohanRockström', 'indices': [217, 232]},\n",
       " {'text': 'climatechange', 'indices': [202, 216]},\n",
       " {'text': 'ParisAgreement', 'indices': [117, 132]},\n",
       " {'text': 'submissions', 'indices': [91, 103]},\n",
       " {'text': 'climatechange', 'indices': [46, 60]},\n",
       " {'text': 'Solutions', 'indices': [26, 36]},\n",
       " {'text': 'reef', 'indices': [61, 66]},\n",
       " {'text': 'IrresponsibleJournalism', 'indices': [198, 222]},\n",
       " {'text': 'climatechange', 'indices': [51, 65]},\n",
       " {'text': 'firetornado', 'indices': [30, 42]},\n",
       " {'text': 'California', 'indices': [16, 27]},\n",
       " {'text': 'GreatBarrierReef', 'indices': [61, 78]},\n",
       " {'text': 'climatechange', 'indices': [94, 108]},\n",
       " {'text': 'CAP', 'indices': [272, 276]},\n",
       " {'text': 'agriculture', 'indices': [47, 59]},\n",
       " {'text': 'climatechange', 'indices': [47, 61]},\n",
       " {'text': 'NovaScotia', 'indices': [110, 121]},\n",
       " {'text': 'climatechange', 'indices': [179, 193]},\n",
       " {'text': 'RWE', 'indices': [82, 86]},\n",
       " {'text': 'HambacherForst', 'indices': [16, 31]},\n",
       " {'text': 'ClimateChange', 'indices': [56, 70]},\n",
       " {'text': 'electricity', 'indices': [121, 133]},\n",
       " {'text': 'DataVisualization', 'indices': [102, 120]},\n",
       " {'text': 'data', 'indices': [96, 101]},\n",
       " {'text': 'shitsupport', 'indices': [91, 103]},\n",
       " {'text': 'avfc', 'indices': [85, 90]},\n",
       " {'text': 'SendaiFramework', 'indices': [16, 32]},\n",
       " {'text': 'wildfires', 'indices': [90, 100]},\n",
       " {'text': 'EndOfFossilFuels', 'indices': [262, 279]},\n",
       " {'text': 'GlobalWarming', 'indices': [247, 261]},\n",
       " {'text': 'ClimateChangeIsReal', 'indices': [226, 246]},\n",
       " {'text': 'heatwaves', 'indices': [126, 136]},\n",
       " {'text': 'action', 'indices': [106, 113]},\n",
       " {'text': 'climatechange', 'indices': [114, 128]},\n",
       " {'text': 'sustainability', 'indices': [94, 109]},\n",
       " {'text': 'EV', 'indices': [37, 40]},\n",
       " {'text': 'priorities', 'indices': [59, 70]},\n",
       " {'text': 'Marijuana', 'indices': [118, 128]},\n",
       " {'text': 'ClimateChange', 'indices': [103, 117]},\n",
       " {'text': 'climatechange', 'indices': [118, 132]},\n",
       " {'text': 'environmental', 'indices': [95, 109]},\n",
       " {'text': 'GOPcult', 'indices': [108, 116]},\n",
       " {'text': 'TheResistance', 'indices': [93, 107]},\n",
       " {'text': 'GOPTraitors', 'indices': [80, 92]},\n",
       " {'text': 'GOPHypocrisy', 'indices': [66, 79]},\n",
       " {'text': 'CorruptGOP', 'indices': [54, 65]},\n",
       " {'text': 'GOPcorruption', 'indices': [39, 53]},\n",
       " {'text': 'CultureOfCorruption', 'indices': [18, 38]},\n",
       " {'text': 'climate', 'indices': [102, 110]},\n",
       " {'text': 'GreenClimateFund', 'indices': [20, 37]},\n",
       " {'text': 'publichealth', 'indices': [38, 51]},\n",
       " {'text': 'environmentalhealth', 'indices': [17, 37]},\n",
       " {'text': 'healthpromotion', 'indices': [0, 16]},\n",
       " {'text': 'climatechange', 'indices': [83, 97]},\n",
       " {'text': 'zerohunger', 'indices': [29, 40]},\n",
       " {'text': 'globalwarming', 'indices': [94, 108]},\n",
       " {'text': 'nuclear', 'indices': [77, 85]},\n",
       " {'text': 'ClimateCrisis', 'indices': [37, 51]},\n",
       " {'text': 'dataviz', 'indices': [118, 126]},\n",
       " {'text': 'GISTEMP', 'indices': [109, 117]},\n",
       " {'text': 'Temperature', 'indices': [14, 26]},\n",
       " {'text': 'GlobalWarming', 'indices': [98, 112]},\n",
       " {'text': 'Klimawandel', 'indices': [43, 55]},\n",
       " {'text': 'ClimateChangeIsReal', 'indices': [104, 124]},\n",
       " {'text': 'interview', 'indices': [223, 233]},\n",
       " {'text': 'energy', 'indices': [6, 13]},\n",
       " {'text': 'energy', 'indices': [113, 120]},\n",
       " {'text': 'environment', 'indices': [99, 111]},\n",
       " {'text': 'climateaction', 'indices': [83, 97]},\n",
       " {'text': 'climatechange', 'indices': [68, 82]},\n",
       " {'text': 'climatechange', 'indices': [174, 188]},\n",
       " {'text': 'OneLove', 'indices': [256, 264]},\n",
       " {'text': 'PeaceAndLove', 'indices': [241, 254]},\n",
       " {'text': 'USA', 'indices': [219, 223]},\n",
       " {'text': 'racism', 'indices': [210, 217]},\n",
       " {'text': 'Spirituality', 'indices': [196, 209]},\n",
       " {'text': 'TogetherStronger', 'indices': [178, 195]},\n",
       " {'text': 'angles', 'indices': [170, 177]},\n",
       " {'text': 'motherhood', 'indices': [158, 169]},\n",
       " {'text': 'YouthMonth', 'indices': [146, 157]},\n",
       " {'text': 'children', 'indices': [136, 145]},\n",
       " {'text': 'poverty', 'indices': [127, 135]},\n",
       " {'text': 'downtown', 'indices': [117, 126]},\n",
       " {'text': 'compassion', 'indices': [105, 116]},\n",
       " {'text': 'Homeless', 'indices': [95, 104]},\n",
       " {'text': 'Hunger', 'indices': [87, 94]},\n",
       " {'text': 'MotherNature', 'indices': [73, 86]},\n",
       " {'text': 'GlobalWarming', 'indices': [58, 72]},\n",
       " {'text': 'GlobalChallenge', 'indices': [41, 57]},\n",
       " {'text': 'carbon', 'indices': [85, 92]},\n",
       " {'text': 'EUETS', 'indices': [24, 30]},\n",
       " {'text': 'coal', 'indices': [68, 73]},\n",
       " {'text': 'Caribbean', 'indices': [423, 433]},\n",
       " {'text': 'Australia', 'indices': [412, 422]},\n",
       " {'text': 'SouthAmerica', 'indices': [398, 411]},\n",
       " {'text': 'CentralAmerica', 'indices': [382, 397]},\n",
       " {'text': 'Asia', 'indices': [376, 381]},\n",
       " {'text': 'Africa', 'indices': [368, 375]},\n",
       " {'text': 'ClimateAction', 'indices': [353, 367]},\n",
       " {'text': 'climatechange', 'indices': [338, 352]},\n",
       " {'text': 'BlackExodus', 'indices': [325, 337]},\n",
       " {'text': 'Blackwomen', 'indices': [313, 324]},\n",
       " {'text': 'Blackmen', 'indices': [303, 312]},\n",
       " {'text': 'r4today', 'indices': [110, 118]},\n",
       " {'text': 'ecoanxiety', 'indices': [48, 59]},\n",
       " {'text': 'ClimateAction', 'indices': [120, 134]},\n",
       " {'text': 'ConnectedByTheSun', 'indices': [101, 119]},\n",
       " {'text': 'SUNFrancisco', 'indices': [87, 100]},\n",
       " {'text': 'solar', 'indices': [31, 37]},\n",
       " {'text': 'GCAS2018', 'indices': [156, 165]},\n",
       " {'text': 'KKKavanaugh', 'indices': [69, 81]},\n",
       " {'text': 'KavaNOPE', 'indices': [59, 68]},\n",
       " {'text': 'KavaNAW', 'indices': [50, 58]},\n",
       " {'text': 'StopKavanaugh', 'indices': [35, 49]},\n",
       " {'text': 'ImpeachKavanaugh', 'indices': [17, 34]},\n",
       " {'text': 'Superannuation', 'indices': [108, 123]},\n",
       " {'text': 'ClimateChangeIsReal', 'indices': [69, 89]},\n",
       " {'text': 'KickOff', 'indices': [185, 193]},\n",
       " {'text': 'womensmonth2018', 'indices': [120, 136]},\n",
       " {'text': 'ENGvIND', 'indices': [111, 119]},\n",
       " {'text': 'Gbanguccibaby', 'indices': [96, 110]},\n",
       " {'text': 'climatechange', 'indices': [81, 95]},\n",
       " {'text': 'ThursdayThoughts', 'indices': [63, 80]},\n",
       " {'text': 'realfootball', 'indices': [49, 62]},\n",
       " {'text': 'LaLigaSantander', 'indices': [32, 48]},\n",
       " {'text': 'Barclays', 'indices': [22, 31]},\n",
       " {'text': 'psl', 'indices': [17, 21]},\n",
       " {'text': 'varsityfootball', 'indices': [0, 16]},\n",
       " {'text': 'climatechange', 'indices': [256, 270]},\n",
       " {'text': 'USA', 'indices': [251, 255]},\n",
       " {'text': 'South', 'indices': [244, 250]},\n",
       " {'text': 'Climatechange', 'indices': [17, 31]},\n",
       " {'text': 'globalwarming', 'indices': [80, 94]},\n",
       " {'text': 'climatechange', 'indices': [141, 155]},\n",
       " {'text': 'Finlande', 'indices': [106, 115]},\n",
       " {'text': 'Laponie', 'indices': [96, 104]},\n",
       " {'text': 'Kevo', 'indices': [89, 94]},\n",
       " {'text': 'CercleArctique', 'indices': [41, 56]},\n",
       " {'text': 'StepUp2018', 'indices': [268, 279]},\n",
       " {'text': 'ClimateChange', 'indices': [159, 173]},\n",
       " {'text': 'ClimateAction', 'indices': [19, 33]},\n",
       " {'text': 'Climatechange', 'indices': [16, 30]},\n",
       " {'text': 'CommercialDrive', 'indices': [121, 137]},\n",
       " {'text': 'carfreeday', 'indices': [78, 89]},\n",
       " {'text': 'artforgood', 'indices': [144, 155]},\n",
       " {'text': 'climateaction', 'indices': [129, 143]},\n",
       " {'text': 'actonclimate', 'indices': [115, 128]},\n",
       " {'text': 'climatemessages', 'indices': [98, 114]},\n",
       " {'text': 'natureart', 'indices': [87, 97]},\n",
       " {'text': 'landart', 'indices': [78, 86]},\n",
       " {'text': 'environmentalart', 'indices': [60, 77]},\n",
       " {'text': 'climateart', 'indices': [48, 59]},\n",
       " {'text': 'Environment', 'indices': [34, 46]},\n",
       " {'text': 'Art', 'indices': [28, 32]},\n",
       " {'text': 'EcoArt', 'indices': [19, 26]},\n",
       " {'text': 'Climatechangeart', 'indices': [0, 17]},\n",
       " {'text': 'todaynews', 'indices': [72, 82]},\n",
       " {'text': 'trendingnews', 'indices': [58, 71]},\n",
       " {'text': 'news', 'indices': [52, 57]},\n",
       " {'text': 'p2', 'indices': [136, 139]},\n",
       " {'text': 'ClimateChange', 'indices': [0, 14]},\n",
       " {'text': 'ClimateChange', 'indices': [109, 123]},\n",
       " {'text': 'ClimateChange', 'indices': [250, 264]},\n",
       " {'text': 'globalwarming', 'indices': [24, 38]},\n",
       " {'text': 'climatechange', 'indices': [5, 19]},\n",
       " {'text': 'MonetaryReform', 'indices': [118, 133]},\n",
       " {'text': 'VoteThemOut', 'indices': [90, 102]},\n",
       " {'text': 'renewables', 'indices': [122, 133]},\n",
       " {'text': 'rights', 'indices': [114, 121]},\n",
       " {'text': 'indigenous', 'indices': [102, 113]},\n",
       " {'text': 'bcpoli', 'indices': [94, 101]},\n",
       " {'text': 'Transmountain', 'indices': [79, 93]},\n",
       " {'text': 'Canada', 'indices': [71, 78]},\n",
       " {'text': 'Reconciliation', 'indices': [55, 70]},\n",
       " {'text': 'UNDRIP', 'indices': [47, 54]},\n",
       " {'text': 'StopKM', 'indices': [39, 46]},\n",
       " {'text': 'ActOnClimate', 'indices': [26, 39]},\n",
       " {'text': 'NoThirdRunway', 'indices': [109, 123]},\n",
       " {'text': 'climatechange', 'indices': [116, 130]},\n",
       " {'text': 'endoil', 'indices': [108, 115]},\n",
       " {'text': 'StopPipelines', 'indices': [93, 107]},\n",
       " {'text': 'DYK', 'indices': [19, 23]},\n",
       " {'text': 'climatechange', 'indices': [270, 284]},\n",
       " {'text': 'deforestation', 'indices': [213, 227]},\n",
       " {'text': 'mountains', 'indices': [185, 195]},\n",
       " {'text': 'drylands', 'indices': [170, 179]},\n",
       " {'text': 'wetlands', 'indices': [160, 169]},\n",
       " {'text': 'forests', 'indices': [151, 159]},\n",
       " {'text': 'ecosystems', 'indices': [131, 142]},\n",
       " {'text': 'SustainableDevelopmentGoals', 'indices': [17, 45]},\n",
       " {'text': 'Presale', 'indices': [49, 57]},\n",
       " {'text': 'CarbonChain', 'indices': [21, 33]},\n",
       " {'text': 'organic', 'indices': [282, 290]},\n",
       " {'text': 'GMOs', 'indices': [262, 267]},\n",
       " {'text': 'Vegetarianism', 'indices': [222, 236]},\n",
       " {'text': 'climatechange', 'indices': [148, 162]},\n",
       " {'text': 'HurricaneFlorence', 'indices': [191, 209]},\n",
       " {'text': 'climatechange', 'indices': [136, 150]},\n",
       " {'text': 'MaryRobinson', 'indices': [203, 216]},\n",
       " {'text': 'podcast', 'indices': [136, 144]},\n",
       " {'text': 'podcast', 'indices': [60, 68]},\n",
       " {'text': 'GlobalWarming', 'indices': [46, 60]},\n",
       " {'text': 'Environment', 'indices': [16, 28]},\n",
       " {'text': 'Paris', 'indices': [123, 129]},\n",
       " {'text': 'climatechange', 'indices': [186, 200]},\n",
       " {'text': 'globalwarming', 'indices': [0, 14]},\n",
       " {'text': 'climatechange', 'indices': [105, 119]},\n",
       " {'text': 'climatechange', 'indices': [240, 254]},\n",
       " {'text': 'NoPlaceLikeHome', 'indices': [152, 168]},\n",
       " {'text': 'GPS', 'indices': [66, 70]},\n",
       " {'text': 'cleanenergy', 'indices': [47, 59]},\n",
       " {'text': 'climatechange', 'indices': [28, 42]},\n",
       " {'text': 'global', 'indices': [109, 116]},\n",
       " {'text': 'EU', 'indices': [95, 98]},\n",
       " {'text': 'Security', 'indices': [84, 93]},\n",
       " {'text': 'Peace', 'indices': [73, 79]},\n",
       " {'text': 'Development', 'indices': [59, 71]},\n",
       " {'text': 'Climatechange', 'indices': [18, 32]},\n",
       " {'text': 'dogs', 'indices': [228, 233]},\n",
       " {'text': 'chiens', 'indices': [220, 227]},\n",
       " {'text': 'chien', 'indices': [213, 219]},\n",
       " {'text': 'biodiversité', 'indices': [199, 212]},\n",
       " {'text': 'biodiversity', 'indices': [185, 198]},\n",
       " {'text': 'JeudiPhoto', 'indices': [173, 184]},\n",
       " {'text': 'climatechange', 'indices': [158, 172]},\n",
       " {'text': 'Ecologie', 'indices': [148, 157]},\n",
       " {'text': 'environnement', 'indices': [133, 147]},\n",
       " {'text': 'nature', 'indices': [125, 132]},\n",
       " {'text': 'animaux', 'indices': [116, 124]},\n",
       " {'text': 'animal', 'indices': [108, 115]},\n",
       " {'text': 'animals', 'indices': [99, 107]},\n",
       " {'text': '2018WDCD', 'indices': [258, 267]},\n",
       " {'text': 'SDG15', 'indices': [251, 257]},\n",
       " {'text': 'GreenGB', 'indices': [57, 65]},\n",
       " {'text': 'districtheating', 'indices': [99, 115]},\n",
       " {'text': 'biomass', 'indices': [81, 89]},\n",
       " {'text': 'ClimateChange', 'indices': [128, 142]},\n",
       " {'text': 'ClimateChange', 'indices': [105, 119]},\n",
       " {'text': 'climatechange', 'indices': [69, 83]},\n",
       " {'text': 'CambioClimatico', 'indices': [154, 170]},\n",
       " {'text': 'aire', 'indices': [129, 134]},\n",
       " {'text': 'agua', 'indices': [111, 116]},\n",
       " {'text': 'bosques', 'indices': [20, 28]},\n",
       " {'text': 'SabiasQue', 'indices': [5, 15]},\n",
       " {'text': 'DYK', 'indices': [0, 4]},\n",
       " {'text': 'denier', 'indices': [60, 67]},\n",
       " {'text': 'climatechange', 'indices': [144, 158]},\n",
       " {'text': 'ClimateCulture', 'indices': [128, 143]},\n",
       " {'text': 'CA48', 'indices': [39, 44]},\n",
       " {'text': 'ClimateChange', 'indices': [184, 198]},\n",
       " {'text': 'ClimateAction', 'indices': [169, 183]},\n",
       " {'text': 'CarbonTax', 'indices': [67, 77]},\n",
       " {'text': 'climatechange', 'indices': [66, 80]},\n",
       " {'text': 'climatechange', 'indices': [105, 119]},\n",
       " {'text': 'StopKM', 'indices': [121, 128]},\n",
       " {'text': 'NoKXL', 'indices': [114, 120]},\n",
       " {'text': 'bcpoli', 'indices': [106, 113]},\n",
       " {'text': 'cdnpoli', 'indices': [97, 105]},\n",
       " {'text': 'ActOnClimate', 'indices': [83, 96]},\n",
       " {'text': 'climatechange', 'indices': [100, 114]},\n",
       " {'text': 'Kavanaugh', 'indices': [19, 29]},\n",
       " {'text': 'LoveFoodHateWaste', 'indices': [28, 46]},\n",
       " {'text': 'Hull', 'indices': [21, 26]},\n",
       " {'text': 'climatechange', 'indices': [99, 113]},\n",
       " {'text': 'sustainability', 'indices': [72, 87]},\n",
       " {'text': 'GreatBarrierReef', 'indices': [43, 60]},\n",
       " {'text': 'abc730', 'indices': [21, 28]},\n",
       " {'text': 'ClimateChangeIsReal', 'indices': [32, 52]},\n",
       " {'text': 'Trump', 'indices': [52, 58]},\n",
       " {'text': 'California', 'indices': [28, 39]},\n",
       " {'text': 'Indiana', 'indices': [57, 65]},\n",
       " {'text': 'ClimateChange', 'indices': [34, 48]},\n",
       " {'text': 'ClimateChange', 'indices': [71, 85]},\n",
       " {'text': 'boldsteps', 'indices': [89, 99]},\n",
       " {'text': 'zeronetcarbon', 'indices': [64, 78]},\n",
       " {'text': 'NZ', 'indices': [16, 19]},\n",
       " {'text': 'climatebreakdown', 'indices': [93, 110]},\n",
       " {'text': 'climatechange', 'indices': [103, 117]},\n",
       " {'text': 'change', 'indices': [144, 151]},\n",
       " {'text': 'climate', 'indices': [135, 143]},\n",
       " {'text': 'fuel', 'indices': [47, 52]},\n",
       " {'text': 'fossil', 'indices': [39, 46]},\n",
       " {'text': 'auspol', 'indices': [257, 264]},\n",
       " {'text': 'globalcitizen', 'indices': [95, 109]},\n",
       " {'text': 'CleanDisruption', 'indices': [152, 168]},\n",
       " {'text': 'Leaf', 'indices': [123, 128]},\n",
       " {'text': 'Model3', 'indices': [111, 118]},\n",
       " {'text': 'EV', 'indices': [99, 102]},\n",
       " {'text': 'Solar', 'indices': [76, 82]},\n",
       " {'text': 'ElectionDay', 'indices': [194, 206]},\n",
       " {'text': 'ActOnClimate', 'indices': [180, 193]},\n",
       " {'text': 'climate', 'indices': [121, 129]},\n",
       " {'text': 'ia04', 'indices': [75, 80]},\n",
       " {'text': 'wheat', 'indices': [70, 76]},\n",
       " {'text': 'VoteBlue', 'indices': [38, 47]},\n",
       " {'text': 'MondayMotivation', 'indices': [20, 37]},\n",
       " {'text': 'environment', 'indices': [120, 132]},\n",
       " {'text': 'climate', 'indices': [107, 115]},\n",
       " {'text': 'GIS', 'indices': [66, 70]},\n",
       " {'text': 'climatechange', 'indices': [30, 44]},\n",
       " {'text': 'dataviz', 'indices': [118, 126]},\n",
       " {'text': 'GISTEMP', 'indices': [109, 117]},\n",
       " {'text': 'Temperature', 'indices': [14, 26]},\n",
       " {'text': 'BritishColumbia', 'indices': [27, 43]},\n",
       " {'text': 'ThrillingAntarcticaContest', 'indices': [118, 145]},\n",
       " {'text': 'ClimateChange', 'indices': [68, 82]},\n",
       " {'text': 'WeMeanToClean', 'indices': [118, 132]},\n",
       " {'text': 'ClimateChange', 'indices': [72, 86]},\n",
       " {'text': 'ReefGate', 'indices': [46, 55]},\n",
       " {'text': 'ABC', 'indices': [38, 42]},\n",
       " {'text': 'Auspol', 'indices': [13, 20]},\n",
       " {'text': 'climatechange', 'indices': [118, 132]},\n",
       " {'text': 'waronwaste', 'indices': [106, 117]},\n",
       " {'text': 'holidayreading', 'indices': [90, 105]},\n",
       " {'text': 'waste', 'indices': [12, 18]},\n",
       " {'text': 'ConvinceSomeoneToVoteIn4Words', 'indices': [13, 43]},\n",
       " {'text': 'Brexit', 'indices': [107, 114]},\n",
       " {'text': 'solar', 'indices': [111, 117]},\n",
       " {'text': 'Halifax', 'indices': [101, 109]},\n",
       " {'text': 'CLIMATEDENIERS', 'indices': [37, 52]},\n",
       " {'text': 'solar', 'indices': [42, 48]},\n",
       " {'text': 'HappeningNow', 'indices': [0, 13]},\n",
       " {'text': 'CLEXIT', 'indices': [170, 177]},\n",
       " {'text': 'COP24', 'indices': [163, 169]},\n",
       " {'text': 'Auspol', 'indices': [155, 162]},\n",
       " {'text': 'CDNpoli', 'indices': [146, 154]},\n",
       " {'text': 'Nature', 'indices': [138, 145]},\n",
       " {'text': 'SeaIce', 'indices': [130, 137]},\n",
       " {'text': 'Arctic', 'indices': [122, 129]},\n",
       " {'text': 'ClimateChange', 'indices': [107, 121]},\n",
       " {'text': 'ClimateChange', 'indices': [196, 210]},\n",
       " {'text': 'ClimateChangeIsReal', 'indices': [112, 132]},\n",
       " {'text': 'ClimateChange', 'indices': [40, 54]},\n",
       " {'text': 'GCAS2018', 'indices': [23, 32]},\n",
       " {'text': 'averagetempersturerise', 'indices': [232, 255]},\n",
       " {'text': 'Aeolus', 'indices': [84, 91]},\n",
       " {'text': 'climate', 'indices': [131, 139]},\n",
       " {'text': 'cities', 'indices': [31, 38]},\n",
       " {'text': 'climatechange', 'indices': [154, 168]},\n",
       " {'text': 'UoNCareerfair', 'indices': [139, 153]},\n",
       " {'text': 'MaryRobinson', 'indices': [64, 77]},\n",
       " {'text': 'ClimateJustice', 'indices': [43, 58]},\n",
       " {'text': 'earthovershootday', 'indices': [196, 214]},\n",
       " {'text': 'ClimateChange', 'indices': [104, 118]},\n",
       " {'text': 'YouthClimateMarch', 'indices': [19, 37]},\n",
       " {'text': 'Blacktwitter', 'indices': [114, 127]},\n",
       " {'text': 'WorldCup18', 'indices': [102, 113]},\n",
       " {'text': 'MondayMotivation', 'indices': [84, 101]},\n",
       " {'text': 'xollyspacemedia', 'indices': [67, 83]},\n",
       " {'text': 'xollymnyandu', 'indices': [53, 66]},\n",
       " {'text': 'TrapaDrive', 'indices': [41, 52]},\n",
       " {'text': 'ClimateChange', 'indices': [114, 128]},\n",
       " {'text': 'FourthofJuly', 'indices': [6, 19]},\n",
       " {'text': 'climatechange', 'indices': [124, 138]},\n",
       " {'text': 'climatechange', 'indices': [54, 68]},\n",
       " {'text': 'Bangladesh', 'indices': [39, 50]},\n",
       " {'text': 'ClimateChangeIsReal', 'indices': [47, 67]},\n",
       " {'text': 'FlipitBlue', 'indices': [35, 46]},\n",
       " {'text': 'FlipTheSenate', 'indices': [20, 34]},\n",
       " {'text': 'ClimateChange', 'indices': [6, 20]},\n",
       " {'text': 'climatechange', 'indices': [139, 153]},\n",
       " {'text': 'IonE2018', 'indices': [129, 138]},\n",
       " {'text': 'Pacific', 'indices': [41, 49]},\n",
       " {'text': 'climatechange', 'indices': [82, 96]},\n",
       " {'text': 'electricschoolbuses', 'indices': [43, 63]},\n",
       " {'text': 'Cleantransport', 'indices': [21, 36]},\n",
       " {'text': 'ClimateAction', 'indices': [145, 159]},\n",
       " {'text': 'auspol', 'indices': [114, 121]},\n",
       " {'text': 'dataviz', 'indices': [118, 126]},\n",
       " {'text': 'GISTEMP', 'indices': [109, 117]},\n",
       " {'text': 'Temperature', 'indices': [14, 26]},\n",
       " {'text': 'Climatechange', 'indices': [19, 33]},\n",
       " {'text': 'climatechange', 'indices': [119, 133]},\n",
       " {'text': 'ClimateChange', 'indices': [52, 66]},\n",
       " {'text': 'ThisIsTheSwamp', 'indices': [158, 173]},\n",
       " {'text': 'Pollution', 'indices': [142, 152]},\n",
       " {'text': 'ClimateChange', 'indices': [127, 141]},\n",
       " {'text': 'Environment', 'indices': [114, 126]},\n",
       " {'text': 'SmartDissent', 'indices': [100, 113]},\n",
       " {'text': 'China', 'indices': [240, 246]},\n",
       " {'text': 'thisiszerohour', 'indices': [40, 55]},\n",
       " {'text': 'climatechange', 'indices': [57, 71]},\n",
       " {'text': 'coal', 'indices': [14, 19]},\n",
       " {'text': 'Kiribati', 'indices': [63, 72]},\n",
       " {'text': 'globalwarming', 'indices': [17, 31]},\n",
       " {'text': 'TheInvestorAgenda', 'indices': [254, 272]},\n",
       " {'text': 'GCAS2018', 'indices': [244, 253]},\n",
       " {'text': 'climate', 'indices': [33, 41]},\n",
       " {'text': 'EndTimes', 'indices': [125, 134]},\n",
       " {'text': 'heatwave', 'indices': [115, 124]},\n",
       " {'text': 'denial', 'indices': [107, 114]},\n",
       " {'text': 'climatechange', 'indices': [91, 105]},\n",
       " {'text': 'zeroemission', 'indices': [79, 92]},\n",
       " {'text': 'news', 'indices': [123, 128]},\n",
       " {'text': 'science', 'indices': [114, 122]},\n",
       " {'text': 'cool', 'indices': [108, 113]},\n",
       " {'text': 'climatechange', 'indices': [206, 220]},\n",
       " {'text': 'airpollution', 'indices': [188, 201]},\n",
       " {'text': 'pollution', 'indices': [47, 57]},\n",
       " {'text': 'plastic', 'indices': [34, 42]},\n",
       " {'text': 'climatechange', 'indices': [246, 260]},\n",
       " {'text': 'Mission2020', 'indices': [42, 54]},\n",
       " {'text': 'renewableenergy', 'indices': [230, 246]},\n",
       " {'text': 'ausvotes', 'indices': [220, 229]},\n",
       " {'text': 'auspol', 'indices': [212, 219]},\n",
       " {'text': 'HambiBleibt', 'indices': [131, 143]},\n",
       " {'text': 'HambacherForst', 'indices': [21, 36]},\n",
       " {'text': 'ThePacific', 'indices': [101, 112]},\n",
       " {'text': 'climatechange', 'indices': [115, 129]},\n",
       " {'text': 'ilovetoSoar', 'indices': [102, 114]},\n",
       " {'text': 'drones', 'indices': [23, 30]},\n",
       " {'text': 'GBRfoundation', 'indices': [105, 119]},\n",
       " {'text': 'MangroveDay', 'indices': [20, 32]},\n",
       " {'text': 'gas', 'indices': [51, 55]},\n",
       " {'text': 'oil', 'indices': [42, 46]},\n",
       " {'text': 'ParisAgreement', 'indices': [96, 111]},\n",
       " {'text': 'ClimateChange', 'indices': [26, 40]},\n",
       " {'text': 'BAC', 'indices': [33, 37]},\n",
       " {'text': 'HereNow', 'indices': [120, 128]},\n",
       " {'text': 'WomenRule', 'indices': [48, 58]},\n",
       " {'text': 'climate', 'indices': [50, 58]},\n",
       " {'text': 'Planet', 'indices': [0, 7]},\n",
       " {'text': 'environment', 'indices': [127, 139]},\n",
       " {'text': 'climateaction', 'indices': [111, 125]},\n",
       " {'text': 'climatechange', 'indices': [96, 110]},\n",
       " {'text': 'globalwarming', 'indices': [40, 54]},\n",
       " {'text': 'ClimateChangeIsReal', 'indices': [235, 255]},\n",
       " {'text': 'GBRF', 'indices': [23, 28]},\n",
       " {'text': 'FlipItBlue', 'indices': [45, 56]},\n",
       " {'text': 'FakeNews', 'indices': [80, 89]},\n",
       " {'text': 'Plant4Pakistan', 'indices': [60, 75]},\n",
       " {'text': 'LockThemUp', 'indices': [40, 51]},\n",
       " {'text': 'Resist', 'indices': [32, 39]},\n",
       " {'text': 'chrisCollins', 'indices': [17, 30]},\n",
       " {'text': 'feminist', 'indices': [54, 63]},\n",
       " {'text': 'ClimateChange', 'indices': [11, 25]},\n",
       " {'text': 'ClimateChangeIsReal', 'indices': [0, 20]},\n",
       " {'text': 'trumpignorance', 'indices': [21, 36]},\n",
       " {'text': 'CaliforniaWildfires', 'indices': [0, 20]},\n",
       " {'text': 'ClimateChange', 'indices': [16, 30]},\n",
       " {'text': 'polarbears', 'indices': [16, 27]},\n",
       " {'text': 'ClimateChange', 'indices': [109, 123]},\n",
       " {'text': 'climatechange', 'indices': [121, 135]},\n",
       " {'text': 'GlobalWarming', 'indices': [106, 120]},\n",
       " {'text': 'ClimateAction', 'indices': [69, 83]},\n",
       " {'text': 'GEFLive', 'indices': [198, 206]},\n",
       " {'text': 'Vietnam', 'indices': [188, 196]},\n",
       " {'text': 'GEFAssembly', 'indices': [172, 184]},\n",
       " {'text': 'climatechange', 'indices': [29, 43]},\n",
       " {'text': 'Biodiveristy', 'indices': [0, 13]},\n",
       " {'text': 'sschat', 'indices': [32, 39]},\n",
       " {'text': 'worldgeochat', 'indices': [18, 31]},\n",
       " {'text': 'wentworthvotes', 'indices': [25, 40]},\n",
       " {'text': 'ClimateChange', 'indices': [90, 104]},\n",
       " {'text': 'ClimateChange', 'indices': [90, 104]},\n",
       " {'text': 'Carbone', 'indices': [108, 116]},\n",
       " {'text': 'Agricultures', 'indices': [60, 73]},\n",
       " {'text': 'HappeningNow', 'indices': [134, 147]},\n",
       " {'text': 'HumanRights', 'indices': [35, 47]},\n",
       " {'text': 'ClimateChange', 'indices': [14, 28]},\n",
       " {'text': 'InternationalLiteracyDay', 'indices': [15, 40]},\n",
       " {'text': 'ICOScapes', 'indices': [21, 31]},\n",
       " {'text': 'oceandeoxygenation', 'indices': [53, 72]},\n",
       " {'text': 'ClimateChange', 'indices': [258, 272]},\n",
       " {'text': 'dangers', 'indices': [246, 254]},\n",
       " {'text': 'Survive', 'indices': [237, 245]},\n",
       " {'text': 'Way', 'indices': [229, 233]},\n",
       " {'text': 'HoneyComb', 'indices': [218, 228]},\n",
       " {'text': 'Hexagonal', 'indices': [207, 217]},\n",
       " {'text': 'Spherical', 'indices': [196, 206]},\n",
       " {'text': 'BioDome', 'indices': [187, 195]},\n",
       " {'text': 'AeroDynamic', 'indices': [174, 186]},\n",
       " {'text': 'New', 'indices': [169, 173]},\n",
       " {'text': 'Offices', 'indices': [155, 163]},\n",
       " {'text': 'Hospitals', 'indices': [138, 148]},\n",
       " {'text': 'Schools', 'indices': [128, 136]},\n",
       " {'text': 'Homes', 'indices': [120, 126]},\n",
       " {'text': 'construct', 'indices': [109, 119]},\n",
       " {'text': 'Ceilings', 'indices': [87, 96]},\n",
       " {'text': 'Walls', 'indices': [74, 80]},\n",
       " {'text': 'Square', 'indices': [66, 73]},\n",
       " {'text': 'Surfaces', 'indices': [51, 60]},\n",
       " {'text': 'Flat', 'indices': [45, 50]},\n",
       " {'text': 'Hurricanes', 'indices': [14, 25]},\n",
       " {'text': 'Floods', 'indices': [0, 7]},\n",
       " {'text': 'ActOnClimate', 'indices': [157, 170]},\n",
       " {'text': 'climatejustice', 'indices': [141, 156]},\n",
       " {'text': 'RVA', 'indices': [56, 60]},\n",
       " {'text': 'p2', 'indices': [206, 209]},\n",
       " {'text': 'podcast', 'indices': [197, 205]},\n",
       " {'text': 'ManafortTrial', 'indices': [54, 68]},\n",
       " {'text': 'PrimaryElection', 'indices': [24, 40]},\n",
       " {'text': 'ClimateChangeIsReal', 'indices': [107, 127]},\n",
       " {'text': 'shameAustralia', 'indices': [125, 140]},\n",
       " {'text': 'climatechange', 'indices': [110, 124]},\n",
       " {'text': 'auspol', 'indices': [102, 109]},\n",
       " {'text': 'dazi', 'indices': [250, 255]},\n",
       " {'text': 'climatechange', 'indices': [233, 247]},\n",
       " {'text': 'Italia', 'indices': [96, 103]},\n",
       " {'text': 'Europa', 'indices': [42, 49]},\n",
       " {'text': 'Agricoltura', 'indices': [0, 12]},\n",
       " {'text': 'climatechange', 'indices': [112, 126]},\n",
       " {'text': 'travel', 'indices': [104, 111]},\n",
       " {'text': 'laudatosi18', 'indices': [55, 67]},\n",
       " {'text': 'WorldWar3Movie', 'indices': [195, 210]},\n",
       " {'text': 'nbn', 'indices': [59, 63]},\n",
       " {'text': 'climatechange', 'indices': [141, 155]},\n",
       " {'text': 'climate', 'indices': [132, 140]},\n",
       " {'text': 'vanpoli', 'indices': [123, 131]},\n",
       " {'text': 'vanelxn', 'indices': [114, 122]},\n",
       " {'text': 'GreenParty', 'indices': [102, 113]},\n",
       " {'text': 'Vancouver', 'indices': [91, 101]},\n",
       " {'text': 'TobaccoControl', 'indices': [124, 139]},\n",
       " {'text': 'Nutrition', 'indices': [111, 121]},\n",
       " {'text': 'Food', 'indices': [99, 104]},\n",
       " {'text': 'WholeOfGovernmentApproach', 'indices': [56, 82]},\n",
       " {'text': 'beatNCDs', 'indices': [41, 50]},\n",
       " {'text': 'ClimateWeekNYC', 'indices': [26, 41]},\n",
       " {'text': 'MAGA', 'indices': [230, 235]},\n",
       " {'text': 'resilience', 'indices': [121, 132]},\n",
       " {'text': 'climatechange', 'indices': [116, 130]},\n",
       " {'text': 'climatechange', 'indices': [79, 93]},\n",
       " {'text': 'ActOnClimate', 'indices': [118, 131]},\n",
       " {'text': 'RiseForClimate', 'indices': [102, 117]},\n",
       " {'text': 'climatechange', 'indices': [98, 112]},\n",
       " {'text': 'Climat', 'indices': [90, 97]},\n",
       " {'text': 'Canadair', 'indices': [24, 33]},\n",
       " {'text': 'IncendiesDeForêt', 'indices': [0, 17]},\n",
       " {'text': 'ThursdayThoughts', 'indices': [45, 62]},\n",
       " {'text': 'fakeNews', 'indices': [35, 44]},\n",
       " {'text': 'climatechange', 'indices': [81, 95]},\n",
       " {'text': 'climatechange', 'indices': [75, 89]},\n",
       " {'text': 'renewables', 'indices': [62, 73]},\n",
       " {'text': 'RE100', 'indices': [18, 24]},\n",
       " {'text': 'TalanoaDialogue', 'indices': [32, 48]},\n",
       " {'text': 'CDNpoli', 'indices': [198, 206]},\n",
       " {'text': 'Arctic', 'indices': [190, 197]},\n",
       " {'text': 'Glacier', 'indices': [181, 189]},\n",
       " {'text': 'ClimateAction', 'indices': [166, 180]},\n",
       " {'text': 'Belize', 'indices': [49, 56]},\n",
       " {'text': 'climatechange', 'indices': [29, 43]},\n",
       " {'text': 'Winning', 'indices': [17, 25]},\n",
       " {'text': 'buscuts', 'indices': [56, 64]},\n",
       " {'text': 'NoThirdRunway', 'indices': [122, 136]},\n",
       " {'text': 'globalwindday', 'indices': [120, 134]},\n",
       " {'text': 'flood', 'indices': [196, 202]},\n",
       " {'text': 'lebanon', 'indices': [171, 179]},\n",
       " {'text': 'ChangeMyMind', 'indices': [105, 118]},\n",
       " {'text': 'Pathetic', 'indices': [95, 104]},\n",
       " {'text': 'DownWithTrump', 'indices': [80, 94]},\n",
       " {'text': 'ClimateChangeIsReal', 'indices': [59, 79]},\n",
       " {'text': 'ClimateChange', 'indices': [44, 58]},\n",
       " {'text': 'Moron', 'indices': [37, 43]},\n",
       " {'text': 'Idiot', 'indices': [30, 36]},\n",
       " {'text': 'DonaldTrump', 'indices': [17, 29]},\n",
       " {'text': 'optoutside', 'indices': [88, 99]},\n",
       " {'text': 'actonclimate', 'indices': [74, 87]},\n",
       " {'text': 'gogreen', 'indices': [65, 73]},\n",
       " {'text': 'auspol', 'indices': [85, 92]},\n",
       " {'text': 'climatechange', 'indices': [70, 84]},\n",
       " {'text': 'ChampionsOfTheEarth', 'indices': [111, 131]},\n",
       " {'text': 'ClimateAction', 'indices': [219, 233]},\n",
       " {'text': 'ClimateChange', 'indices': [191, 205]},\n",
       " {'text': 'ClimateChange', 'indices': [64, 78]},\n",
       " {'text': 'climatechange', 'indices': [186, 200]},\n",
       " {'text': 'kebetu', 'indices': [178, 185]},\n",
       " {'text': 'resilience', 'indices': [166, 177]},\n",
       " {'text': 'IEDAfriqueconférence2018', 'indices': [140, 165]},\n",
       " {'text': 'Sénégal', 'indices': [131, 139]},\n",
       " {'text': 'cleanenergy', 'indices': [112, 124]},\n",
       " {'text': 'RGGI', 'indices': [61, 66]},\n",
       " {'text': 'scooters', 'indices': [72, 81]},\n",
       " {'text': 'climatechange', 'indices': [57, 71]},\n",
       " {'text': 'deforestation', 'indices': [20, 34]},\n",
       " {'text': 'sad', 'indices': [166, 170]},\n",
       " {'text': 'climatechange', 'indices': [115, 129]},\n",
       " {'text': 'Littleproud', 'indices': [49, 61]},\n",
       " {'text': 'Vatican', 'indices': [269, 277]},\n",
       " {'text': 'RiseforClimate', 'indices': [252, 267]},\n",
       " {'text': 'seasonofcreation', 'indices': [234, 251]},\n",
       " {'text': 'cop24', 'indices': [227, 233]},\n",
       " {'text': 'takeaction', 'indices': [215, 226]},\n",
       " {'text': 'ParisAgreement', 'indices': [199, 214]},\n",
       " {'text': 'GCAS2018', 'indices': [189, 198]},\n",
       " {'text': 'LaudatoSi', 'indices': [178, 188]},\n",
       " {'text': 'francis', 'indices': [169, 177]},\n",
       " {'text': 'Pope', 'indices': [163, 168]},\n",
       " {'text': 'climatechange', 'indices': [148, 162]},\n",
       " {'text': 'Climateaction', 'indices': [133, 147]},\n",
       " {'text': 'climatecrisis', 'indices': [40, 54]},\n",
       " {'text': 'PopeFrancis', 'indices': [0, 12]},\n",
       " {'text': 'HLPF', 'indices': [115, 120]},\n",
       " {'text': 'HLPF18IRL', 'indices': [104, 114]},\n",
       " {'text': 'HLPF2018', 'indices': [94, 103]},\n",
       " {'text': 'LeaveNoOneBehind', 'indices': [75, 92]},\n",
       " {'text': 'ActOnClimate', 'indices': [55, 68]},\n",
       " {'text': 'FightInequality', 'indices': [38, 54]},\n",
       " {'text': 'EndPoverty', 'indices': [26, 37]},\n",
       " {'text': 'Act4SDGs', 'indices': [15, 24]},\n",
       " {'text': 'ReportingExchange', 'indices': [33, 51]},\n",
       " {'text': 'IllegalAlien', 'indices': [78, 91]},\n",
       " {'text': 'cleanenergy', 'indices': [21, 33]},\n",
       " {'text': 'zad', 'indices': [134, 138]},\n",
       " {'text': 'paris', 'indices': [127, 133]},\n",
       " {'text': 'MarcheClimat', 'indices': [113, 126]},\n",
       " {'text': 'Plant4Pakistan', 'indices': [15, 30]},\n",
       " {'text': 'dataviz', 'indices': [118, 126]},\n",
       " {'text': 'GISTEMP', 'indices': [109, 117]},\n",
       " {'text': 'Temperature', 'indices': [14, 26]},\n",
       " {'text': 'TalanoaDialogue', 'indices': [106, 122]},\n",
       " {'text': 'climatechange', 'indices': [42, 56]},\n",
       " {'text': 'nbn', 'indices': [73, 77]},\n",
       " {'text': 'auspol', 'indices': [31, 38]},\n",
       " {'text': 'ClimateChange', 'indices': [80, 94]},\n",
       " {'text': 'londonheatwave', 'indices': [177, 192]},\n",
       " {'text': 'DYK', 'indices': [9, 13]},\n",
       " {'text': 'climatechange', 'indices': [103, 117]},\n",
       " {'text': 'auspol', 'indices': [95, 102]},\n",
       " {'text': 'PoliticsHQ', 'indices': [17, 28]},\n",
       " {'text': 'Globalwarming', 'indices': [56, 70]},\n",
       " {'text': 'climatechange', 'indices': [92, 106]},\n",
       " {'text': 'ItsReallyMeClimateBarbie', 'indices': [237, 262]},\n",
       " {'text': 'NotAParodyAccount', 'indices': [218, 236]},\n",
       " {'text': 'Oil', 'indices': [211, 215]},\n",
       " {'text': 'GlobalWarming', 'indices': [157, 171]},\n",
       " {'text': 'BoycottBeef', 'indices': [113, 125]},\n",
       " {'text': 'ClimateChange', 'indices': [21, 35]},\n",
       " {'text': 'mswl', 'indices': [133, 138]},\n",
       " {'text': 'climatechange', 'indices': [96, 110]},\n",
       " {'text': 'ClimateChange', 'indices': [117, 131]},\n",
       " {'text': 'IPCC', 'indices': [75, 80]},\n",
       " {'text': '1o5C', 'indices': [69, 74]},\n",
       " {'text': 'ClimateJustice', 'indices': [157, 172]},\n",
       " {'text': 'climate', 'indices': [196, 204]},\n",
       " {'text': 'ai', 'indices': [136, 139]},\n",
       " {'text': 'climatechange', 'indices': [121, 135]},\n",
       " {'text': 'ActOnClimate', 'indices': [136, 149]},\n",
       " {'text': 'magnesiumcarbonate', 'indices': [116, 135]},\n",
       " {'text': 'science', 'indices': [106, 114]},\n",
       " {'text': 'climatechange', 'indices': [91, 105]},\n",
       " {'text': 'OldGrowthForests', 'indices': [97, 114]},\n",
       " {'text': 'clearcutting', 'indices': [65, 78]},\n",
       " {'text': 'climatechange', 'indices': [46, 60]},\n",
       " {'text': 'wildfire', 'indices': [2, 11]},\n",
       " {'text': 'insurance', 'indices': [118, 128]},\n",
       " {'text': 'CarrFire', 'indices': [32, 41]},\n",
       " {'text': 'BREAKING', 'indices': [13, 22]},\n",
       " {'text': 'ClimateChange', 'indices': [70, 84]},\n",
       " {'text': 'solar', 'indices': [112, 118]},\n",
       " {'text': 'climatechange', 'indices': [115, 129]},\n",
       " {'text': 'MotherNature', 'indices': [101, 114]},\n",
       " {'text': 'GlobalWarming', 'indices': [86, 100]},\n",
       " {'text': 'Canada', 'indices': [78, 85]},\n",
       " {'text': 'climate', 'indices': [111, 119]},\n",
       " {'text': 'environment', 'indices': [98, 110]},\n",
       " {'text': 'climatechange', 'indices': [118, 132]},\n",
       " {'text': 'globalwarming', 'indices': [22, 36]},\n",
       " {'text': 'Maldives', 'indices': [156, 165]},\n",
       " {'text': 'climatechange', 'indices': [68, 82]},\n",
       " {'text': 'RiseForClimate', 'indices': [115, 130]},\n",
       " {'text': 'sb48bangkok', 'indices': [67, 79]},\n",
       " {'text': 'Bangkok', 'indices': [58, 66]},\n",
       " {'text': 'climatechange', 'indices': [29, 43]},\n",
       " {'text': 'UN', 'indices': [25, 28]},\n",
       " {'text': 'climatechange', 'indices': [119, 133]},\n",
       " {'text': 'seal', 'indices': [113, 118]},\n",
       " {'text': 'FridayFeeling', 'indices': [68, 82]},\n",
       " {'text': 'ClimateChange', 'indices': [53, 67]},\n",
       " {'text': 'ClimateChange', 'indices': [74, 88]},\n",
       " {'text': 'HeatWave2018', 'indices': [117, 130]},\n",
       " {'text': 'ClimateChange', 'indices': [102, 116]},\n",
       " {'text': 'Energy', 'indices': [82, 89]},\n",
       " {'text': 'Renewable', 'indices': [71, 81]},\n",
       " {'text': 'Clean', 'indices': [64, 70]},\n",
       " {'text': 'TheSwitch', 'indices': [50, 60]},\n",
       " {'text': 'California', 'indices': [16, 27]},\n",
       " {'text': 'climatechange', 'indices': [69, 83]},\n",
       " {'text': 'climatechange', 'indices': [94, 108]},\n",
       " {'text': 'hybrid', 'indices': [39, 46]},\n",
       " {'text': 'climatechange', 'indices': [121, 135]},\n",
       " {'text': 'klimaat', 'indices': [120, 128]},\n",
       " {'text': 'CarrFire', 'indices': [36, 45]},\n",
       " {'text': 'queensyoungleaders', 'indices': [86, 105]},\n",
       " {'text': 'ManMadeCycle', 'indices': [48, 61]},\n",
       " {'text': 'climatechange', 'indices': [32, 46]},\n",
       " {'text': 'sustainableenergy', 'indices': [116, 134]},\n",
       " {'text': 'sustainable', 'indices': [102, 114]},\n",
       " {'text': 'CO2', 'indices': [97, 101]},\n",
       " {'text': 'climatechange', 'indices': [82, 96]},\n",
       " {'text': 'Norway', 'indices': [59, 66]},\n",
       " {'text': 'envhist', 'indices': [141, 149]},\n",
       " {'text': 'climate', 'indices': [22, 30]},\n",
       " {'text': 'RiseForClimate', 'indices': [14, 29]},\n",
       " {'text': 'climateemergencydarebin', 'indices': [225, 249]},\n",
       " {'text': 'RenewablesNow', 'indices': [189, 203]},\n",
       " {'text': 'climatechange', 'indices': [174, 188]},\n",
       " {'text': 'RiseForClimate', 'indices': [65, 80]},\n",
       " {'text': 'ActOnClimate', 'indices': [95, 108]},\n",
       " {'text': 'climatereality', 'indices': [15, 30]},\n",
       " {'text': 'GlobalWarming', 'indices': [0, 14]},\n",
       " {'text': 'ClimateChange', 'indices': [251, 265]},\n",
       " {'text': 'climatechange', 'indices': [64, 78]},\n",
       " {'text': 'politics', 'indices': [139, 148]},\n",
       " {'text': 'national', 'indices': [129, 138]},\n",
       " {'text': 'climatechange', 'indices': [97, 111]},\n",
       " {'text': 'Dutch', 'indices': [71, 77]},\n",
       " {'text': 'law', 'indices': [60, 64]},\n",
       " {'text': 'climate', 'indices': [51, 59]},\n",
       " {'text': 'Netherlands', 'indices': [4, 16]},\n",
       " {'text': 'climatechange', 'indices': [26, 40]},\n",
       " {'text': 'GeorginaDowner', 'indices': [25, 40]},\n",
       " {'text': 'TradeWar', 'indices': [223, 232]},\n",
       " {'text': 'Antarctica', 'indices': [78, 89]},\n",
       " {'text': 'science', 'indices': [27, 35]},\n",
       " {'text': 'climatechange', 'indices': [17, 31]},\n",
       " {'text': 'supplymanagement', 'indices': [38, 55]},\n",
       " {'text': 'ActOnClimate', 'indices': [60, 73]},\n",
       " {'text': 'HankCon', 'indices': [126, 134]},\n",
       " {'text': '椿原ほのん', 'indices': [119, 125]},\n",
       " {'text': '質問箱', 'indices': [114, 118]},\n",
       " {'text': 'peing', 'indices': [107, 113]},\n",
       " {'text': 'climatechange', 'indices': [61, 75]},\n",
       " {'text': 'ChangeTheMedia', 'indices': [100, 115]},\n",
       " {'text': 'CambioClimático', 'indices': [119, 135]},\n",
       " {'text': 'ClimateChange', 'indices': [104, 118]},\n",
       " {'text': 'carbonnation', 'indices': [130, 143]},\n",
       " {'text': 'NEG', 'indices': [50, 54]},\n",
       " {'text': 'ClimateChange', 'indices': [35, 49]},\n",
       " {'text': 'treeplantation', 'indices': [45, 60]},\n",
       " {'text': 'minister', 'indices': [15, 24]},\n",
       " {'text': 'SaveThePlanetIn4Words', 'indices': [240, 262]},\n",
       " {'text': 'ActOnClimate', 'indices': [226, 239]},\n",
       " {'text': 'IfOnlyEarthCouldSpeak', 'indices': [203, 225]},\n",
       " {'text': 'renenewableenergy', 'indices': [184, 202]},\n",
       " {'text': 'sustainableenergy', 'indices': [165, 183]},\n",
       " {'text': 'water', 'indices': [158, 164]},\n",
       " {'text': 'waterconservation', 'indices': [139, 157]},\n",
       " {'text': 'savewater', 'indices': [128, 138]},\n",
       " {'text': 'UnfitForOffice', 'indices': [99, 114]},\n",
       " {'text': 'GovBrown', 'indices': [139, 148]},\n",
       " {'text': 'climate', 'indices': [130, 138]},\n",
       " {'text': 'CanadaDumps', 'indices': [117, 129]},\n",
       " {'text': 'canada', 'indices': [109, 116]},\n",
       " {'text': 'climatechange', 'indices': [69, 83]},\n",
       " {'text': 'IllegalAlien', 'indices': [78, 91]},\n",
       " {'text': 'Greenland', 'indices': [40, 50]},\n",
       " {'text': 'ClimateChange', 'indices': [26, 40]},\n",
       " {'text': 'FreeKaavan', 'indices': [40, 51]},\n",
       " {'text': 'Plant4Pakistan', 'indices': [24, 39]},\n",
       " {'text': 'Robotics', 'indices': [128, 137]},\n",
       " {'text': 'trapmusic', 'indices': [117, 127]},\n",
       " {'text': 'tech', 'indices': [111, 116]},\n",
       " {'text': 'fintech', 'indices': [102, 110]},\n",
       " {'text': 'wine', 'indices': [211, 216]},\n",
       " {'text': 'ClimateChange', 'indices': [0, 14]},\n",
       " {'text': 'FakeLeadership', 'indices': [259, 274]},\n",
       " {'text': 'Congress', 'indices': [249, 258]},\n",
       " {'text': 'ReformCongress', 'indices': [233, 248]},\n",
       " {'text': 'CountryOverParty', 'indices': [215, 232]},\n",
       " {'text': 'USAlost', 'indices': [206, 214]},\n",
       " {'text': 'BetterGovmt', 'indices': [193, 205]},\n",
       " {'text': 'JustVote', 'indices': [183, 192]},\n",
       " {'text': 'WBDJT', 'indices': [9, 15]},\n",
       " {'text': 'solar', 'indices': [133, 139]},\n",
       " {'text': 'renewables', 'indices': [121, 132]},\n",
       " {'text': 'Gabon', 'indices': [89, 95]},\n",
       " {'text': 'climatechang', 'indices': [236, 249]},\n",
       " {'text': 'GlobalWarming', 'indices': [221, 235]},\n",
       " {'text': 'Trudeau', 'indices': [24, 32]},\n",
       " {'text': 'NEG', 'indices': [43, 47]},\n",
       " {'text': 'GlobalWarming', 'indices': [17, 31]},\n",
       " {'text': 'Antarctica', 'indices': [93, 104]},\n",
       " {'text': 'womeninstem', 'indices': [60, 72]},\n",
       " {'text': 'farming', 'indices': [190, 198]},\n",
       " {'text': 'agriculture', 'indices': [177, 189]},\n",
       " {'text': 'climatechange', 'indices': [162, 176]},\n",
       " {'text': 'agriculture', 'indices': [149, 161]},\n",
       " {'text': 'Menschenrechte', 'indices': [33, 48]},\n",
       " {'text': 'Umwelt', 'indices': [21, 28]},\n",
       " {'text': 'THISISZEROHOUR', 'indices': [133, 148]},\n",
       " {'text': 'downtown', 'indices': [123, 132]},\n",
       " {'text': 'march', 'indices': [116, 122]},\n",
       " {'text': 'LA', 'indices': [112, 115]},\n",
       " {'text': 'climatechange', 'indices': [78, 92]},\n",
       " {'text': 'Brazil', 'indices': [95, 102]},\n",
       " {'text': 'energy', 'indices': [56, 63]},\n",
       " {'text': 'BigData', 'indices': [232, 240]},\n",
       " {'text': 'tech', 'indices': [226, 231]},\n",
       " {'text': 'School', 'indices': [218, 225]},\n",
       " {'text': 'NewYork', 'indices': [194, 202]},\n",
       " {'text': 'Paris', 'indices': [187, 193]},\n",
       " {'text': 'Science', 'indices': [178, 186]},\n",
       " {'text': 'nature', 'indices': [170, 177]},\n",
       " {'text': 'life', 'indices': [164, 169]},\n",
       " {'text': 'health', 'indices': [156, 163]},\n",
       " {'text': 'Trump', 'indices': [149, 155]},\n",
       " {'text': 'Water', 'indices': [142, 148]},\n",
       " {'text': 'ClimateChange', 'indices': [127, 141]},\n",
       " {'text': 'GPeconews', 'indices': [116, 126]},\n",
       " {'text': 'news', 'indices': [110, 115]},\n",
       " {'text': 'world', 'indices': [103, 109]},\n",
       " {'text': 'Breaking', 'indices': [93, 102]},\n",
       " {'text': 'PodCast', 'indices': [54, 62]},\n",
       " {'text': 'Inequality', 'indices': [108, 119]},\n",
       " {'text': 'Conflict', 'indices': [96, 105]},\n",
       " {'text': 'ClimateChange', 'indices': [79, 93]},\n",
       " {'text': 'GlobalGoals', 'indices': [62, 74]},\n",
       " {'text': 'fossilfuels', 'indices': [39, 51]},\n",
       " {'text': 'ClimateChange', 'indices': [198, 212]},\n",
       " {'text': 'climatechange', 'indices': [123, 137]},\n",
       " {'text': 'emissions', 'indices': [112, 122]},\n",
       " {'text': 'CO2', 'indices': [107, 111]},\n",
       " {'text': 'ENVI', 'indices': [20, 25]},\n",
       " {'text': 'climatechange', 'indices': [67, 81]},\n",
       " {'text': 'MARKETCHOICEACT', 'indices': [85, 101]},\n",
       " {'text': 'climatechange', 'indices': [91, 105]},\n",
       " {'text': 'GREED', 'indices': [109, 115]},\n",
       " {'text': 'GlobalGoals', 'indices': [131, 143]},\n",
       " {'text': 'ClimateChange', 'indices': [19, 33]},\n",
       " {'text': 'SouthAsia', 'indices': [93, 103]},\n",
       " {'text': 'GoogleAlerts', 'indices': [85, 98]},\n",
       " {'text': 'Jordan', 'indices': [79, 86]},\n",
       " {'text': 'climatechange', 'indices': [91, 105]},\n",
       " {'text': 'roma', 'indices': [85, 90]},\n",
       " {'text': 'allmixedup', 'indices': [73, 84]},\n",
       " {'text': 'Pets', 'indices': [67, 72]},\n",
       " {'text': 'RenewableEnergy', 'indices': [130, 146]},\n",
       " {'text': 'solarpower', 'indices': [118, 129]},\n",
       " {'text': 'windpower', 'indices': [107, 117]},\n",
       " {'text': 'climateaction', 'indices': [127, 141]},\n",
       " {'text': 'climatechange', 'indices': [112, 126]},\n",
       " {'text': 'science', 'indices': [248, 256]},\n",
       " {'text': 'Emtech', 'indices': [240, 247]},\n",
       " {'text': 'MIT', 'indices': [235, 239]},\n",
       " ...]"
      ]
     },
     "execution_count": 201,
     "metadata": {},
     "output_type": "execute_result"
    }
   ],
   "source": [
    "hashtaglist = []\n",
    "for i in range(len(dfs)-1):\n",
    "    for l in dfs['entities'][i]['hashtags']:\n",
    "        hashtaglist.insert(0, l)\n",
    "hashtaglist"
   ]
  },
  {
   "cell_type": "code",
   "execution_count": 215,
   "metadata": {
    "scrolled": true
   },
   "outputs": [
    {
     "ename": "TypeError",
     "evalue": "list indices must be integers or slices, not str",
     "output_type": "error",
     "traceback": [
      "\u001b[0;31m---------------------------------------------------------------------------\u001b[0m",
      "\u001b[0;31mTypeError\u001b[0m                                 Traceback (most recent call last)",
      "\u001b[0;32m<ipython-input-215-5244c9697ed2>\u001b[0m in \u001b[0;36m<module>\u001b[0;34m\u001b[0m\n\u001b[0;32m----> 1\u001b[0;31m \u001b[0mdfs\u001b[0m\u001b[0;34m[\u001b[0m\u001b[0;34m'entities'\u001b[0m\u001b[0;34m]\u001b[0m\u001b[0;34m[\u001b[0m\u001b[0;36m60\u001b[0m\u001b[0;34m]\u001b[0m\u001b[0;34m[\u001b[0m\u001b[0;34m'hashtags'\u001b[0m\u001b[0;34m]\u001b[0m\u001b[0;34m[\u001b[0m\u001b[0;34m'text'\u001b[0m\u001b[0;34m]\u001b[0m\u001b[0;34m\u001b[0m\u001b[0;34m\u001b[0m\u001b[0m\n\u001b[0m",
      "\u001b[0;31mTypeError\u001b[0m: list indices must be integers or slices, not str"
     ]
    }
   ],
   "source": [
    "dfs['entities'][60]['hashtags']['text']"
   ]
  },
  {
   "cell_type": "code",
   "execution_count": 263,
   "metadata": {},
   "outputs": [],
   "source": [
    "df_bad = dfs[dfs['bioLength'] < 5]\n",
    "df_bad = df_bad[df_bad['followCount'] < 1000]"
   ]
  },
  {
   "cell_type": "code",
   "execution_count": 264,
   "metadata": {
    "scrolled": true
   },
   "outputs": [
    {
     "name": "stdout",
     "output_type": "stream",
     "text": [
      "['newspapers', 'feedly', 'ActOnClimate', 'ClimateAction', 'globalwarming', 'carbo…', 'globalwarming', 'climatechange', 'globalwarming…', 'Plant4Pakistan', 'GreenP…', 'PalmOil', 'DadesRemotes', 'ClimateAction', 'GlobalWarming', 'climatechange', 'DefendTheAmazon!', 'ClimateJustice', 'ActOnClimate', 'ThingsYouDontSeeEveryDay', 'Weather', 'Greenland', 'Clim…', 'ZEVsummit:', 'climatechange.', 'climatechange', 'fossilfuel.', '…', 'environmental', 'climatechange', 'Cape', 'climatechange,', 'Quito', 'ClimateChang…', 'greenparty', 'climate', 'ClimateChange', 'ClimateAc…', 'haecext', 'climatechange', 'NationalWomensEnterpriseDay', 'climatechange', 'agenda2030', 'zerohunger', 'ClimateChange.', 'LDTPoll:', 'environmental', 'ClimateChange', 'Renewables', 'Sustainability', 'Norway,', 'Finland', 'Iceland', 'PlasticMenace', 'SayNoTo…', 'FlorenceNC', 'florencehurrica…', 'Neoliberalism', 'Growt…', 'GiveAFlake', 'ClimateChange', 'BanFossilFuels', 'HeathrowExpansion', 'NoThirdRunway', 'ParisAgreement', 'VICEonHBO.', 'oceans', 'PuertoRico', 'ClimateChange', 'Morrison', 'Plant4Pakistan', 'GreenP…', 'Greece', 'BP,', 'Shell', 'solar', 'cleanenergy', 'Treesmadeoutofwood', 'Wateriswet', 'WentworthFalls', 'India', 'PlasticBan', 'SDGs', 'ClimateChange', 'SolarEnergy', 'apollochain', 'NewEnergy', 'Innovation', 'Pakistan', 'Temperature', 'GISTEMP', 'dataviz', 'climatechan…', 'ClimateChange', 'AirPollution', 'Divest', 'RestInPeaceKofiAnnan', 'climatechange', 'climate', 'energy', '…', 'DougFord’s', 'CapAndTrade', 'climatechange', 'GlobalWarming', 'Solar', 'wind', 'CPP', 'Standupforscience', 'ActonClimate', 'climatechange', 'environment', 'sustainability', 'ClimateChangeScience', 'ClimateChangeDebate', 'ClimateChangeDenial', 'ClimateCommunication', 'ClimateScience', 'ClimateScientists', 'CorporateLobbies', 'toohot', 'hotweather', 'ClimateChangeIsReal', 'cantfunction', 'HurricanceFlorence', 'ActOnClimate', 'TW', 'animalagriculture', 'ClimateChange', 'ColoradoRiver', 'COri…', 'humanrights', 'climatechange', 'livestream', 'ClimateHeritage', 'GCAS2018', 'EPA', 'Republican', 'ClimateChange', 'PebbleMine', 'AN…', 'Temperature', 'GISTEMP', 'dataviz', 'climatechan…', 'EnergyEast', 'climate', 'WeDontHaveTime…', 'IPCC', 'tarsands', 'climatechange', 'communication', 'Temperature', 'GISTEMP', 'dataviz', 'climatechan…', 'climatechange.', 'Atlantico', 'WeDontHaveTime', 'exctinction', 'EnvironmentalLaw', 'ClimateChange', 'ActOnClimate', 'animalAgriculture', 'climatechange', 'ThisIsZeroHour', 'climatechange', 'CLAMFACTS', 'Heathrow', 'dataviz', 'climate', 'climatechange', 'globalwarming', 'solar', 'KeystoneXL', 'ScotPFG', 'climatecha…', 'เมียน้อย2018', 'ชวนเมียเลือกข้าง', 'TheGiftedSeries', 'เจ้าสาวช่างยนต์', 'ตลาดนัดอากาเซ', 'VoiceOnline', 'ระบํามาร', 'กัปตันชลธร', 'ช่อง7HD', 'รีล่า', '松井珠理奈', 'SUJUxiKON', 'climatechange', 'one31', 'BigSugar', 'RickScott!', 'ToxicRick…', 'ClimateChange', 'ClimateChange.', 'FreeTheSnake', 'Blackfish', 'tarsands', 'Repost', 'rhino', 'elephant', 'climatechange', 'wildlife', 'safari', 'plastic', 'travel', 'nuclear', 'climatechange,', 'nuclear', 'medicine', 'clim…', 'FoxNewsSunday', 'ClimateChange', 'ClimateChange', 'climatechange', 'Malaysia', 'climatechange.…', 'SushmaSwaraj', 'UNGA', 'ActOnClimate', 'ClimateChange', '…', 'climatechange', 'ClimateChange', 'UNGA', 'BreakTheDrought', 'cli…', 'AlexandriaOcasioCortez', 'BernieSanders', 'climatechange', 'WeAreTheMedia', 'grassroots', 'Progressive', 'auspol', 'libspill', '5ottobre', 'Catania', 'migranti', 'climatechange', 'taxoncarbon', 'cli…', 'aus…', 'ClimateChange', 'ClimateAction', 'NewsandPolitics', 'Auspol', 'GetRidLabor', 'Katowice!', 'savetheplanet', 'ActOnClimate', 'Mondorf', 'Klimapakt', 'lessMe…', 'climatechange', 'sustainablefinance', 'Endangered', 'SmartDissent', 'C…', 'Firstback', 'Resistford', 'climatechange', 'ibsolar', 'solarenergy', 'solarpanels', 'benefits', 'reducebill', 'future', 'climatechange', 'clean', 'climateaction', 'solarlights', 'gogreen', 'savetheplanet', 'cleanenvironment', 'ActOnClimate', 'ecofriendly', 'Env…', 'climatechange', 'climateacti…', 'GCAS2018', 'Temperature', 'GISTEMP', 'dataviz', 'climatechan…', 'Wentworth.', 'TheDrum', 'StopAdani', '1.5C', 'ClimateChange.', 'Temperature', 'GISTEMP', 'dataviz', 'climatechan…', 'Plant4Pakistan', 'GreenP…', 'climatechange', 'dkpol', 'dkgreen', 'tucker', 'WentworthVotes', 'Tabdeeli', 'Tabdeeli', 'ShaheedGeneralZiaulHaque', 'SMQ', 'UNGA', 'IndiaModi', 'TrumpUSA.Well', 'ImranKhanPTI,#Shahbash,#ShahMehmoodQureshi.', 'PakistanAlwaysPaindabaad', 'Carbonfarming', 'climatechange', 'foodsecurity', 'Plant4Pakistan', 'GreenP…', 'GretaThunberg', 'ClimateChange', 'Sweden', 'Protest', 'ClimateChange', 'SaveOurEarth', 'climatechange', 'fossilfuels.', 'NoThirdRunway', 'bacc', 'renovables,', 'efici…', 'ibsolar', 'solarenergy', 'solarpanels', 'benefits', 'reducebill', 'future', 'climatechange', 'clean', 'climateaction', 'solarlights', 'gogreen', 'savetheplanet', 'DSWDMayMalasakit', 'ParaSaNakararami', 'Serve1st', 'CapandTrade', 'AHSC', 'priorities', 'Auspol', 'HealthyDiet', 'EnergiMine', 'energitoken', 'cryptocurrency', 'eth', 'btc', 'fint…', 'Nuclear', 'Japan', 'climatechange', 'nucleardisaster', 'safetyfirst', 'safety', 'anonymous', 'Fukushima', 'ClimateChange.', 'LongmanVotes', 'HonorableJudgeKavanaugh', 'Winning', 'TrumpInKansas', 'VoteRedT…', 'Military', 'teargas', 'climatechange', 'PutAPriceOnIt', 'ClimateAction,', 'cli…', 'CLIMATEDENIERS??', 'ClimateChange', 'LeftistSedition', 'ParisClimateAccord', 'JunkScience', 'climatechange:', 'GeorginaDowner', 'RT', '…', 'ClimateFacts', 'EndOil', 'Makeoilhistory', 'climatechange', 'climate', 'wildfires', 'auspol', 'climat', 'Temperature', 'GISTEMP', 'dataviz', 'climatechan…', 'Plant4Pakistan', 'GreenPakistan', 'clim…', 'climatechange', 'climatechange.', 'climate?', 'IPCC', 'globalwarming', 'Kourou', 'Vega', 'A…', 'SB48Bangkok', 'ClimateChangeR…', 'climatechange', 'Climatism', 'GlobalWar…', 'HurricaneFlorence2018', 'Ireland', 'WorldCup', 'coal,', 'oil', 'gas', 'climatechange', 'NERC', 'Globalwarming', \"ClimateChange's\", 'AVINOC', 'LiDAR', 'LowCarbonEU2050', 'ClimateChange,', 'TyphoonManghkut', 'HK', 'climatebreakdown,', 'ClimateChange?', 'ClimateAction', 'TakeYour…', 'Pruitt', 'EPA', 'Trump', 'GlobalWarming', 'pollution', 'environment', 'ScottPruitt', 'S…', 'climatechange', 'innovation', 'Plant4Pakistan', 'GreenP…', 'ClimateChange', 'ZEVsummit,', 'ZeroEmission', 'ebee', 'agrucult…', 'flood', 'hurricane', 'SB32', 'climatechange-', 'climatechange', 'water', 'Kyrgyzstan', 'Tajikistan', 'India', 'cleandrinkingwater', 'LDTPoll:', 'CambioClimático.', 'Calentam…', 'ClimateChange', 'ClimateChange', 'CleanEnergy', 'climatechange', 'pa…', 'auspol', 'qldpol', 'abc730', 'Drought', 'StopAdani', 'NoNewCoal', 'climatechange', 'eu', 'MarriageEquality', 'Nauru', 'climate', 'RaiseThe…', 'apgovchat1', 'Temperature', 'GISTEMP', 'dataviz', 'climatechan…', 'climate', 'cleanercars', 'climatechange', 'airpollution', 'ClimateChange', 'drought', 'desertification', 'solar:', 'A…', 'climatebarbie', 'ecologie', 'environnement', 'pollution', 'consommation', 'waste', 'decroissance', 'sticker', 'climat', 'rechauffementclimatique', 'streetstickers', 'ecology', 'economy', 'capitalism', 'anticapitalism', 'economia', 'ecologia', 'climate', 'climatechange', 'globalwarming', 'politics', 'nature', 'g…', 'StopKavanaugh', '…', 'climate', 'food', 'heal', 'save', 'word.', 'movement', 'aware', 'Coal', 'Real', 'Cheap', 'Energy', 'Auspol', 'HELE', 'mnleg', 'stribpol', 'climatechange?', 'Canada', 'Environment', 'Parks', 'Temperature', 'GISTEMP', 'dataviz', 'climatechan…', 'ClimateChange', 'auspol', 'qldpol', 'ClimateAction', 'NoNew…', 'Lithium', 'Cleanenergy', 'ClimateChange', 'ClimateChangeIsReal…', 'climatechange', 'ActOnClimate', 'ClimateChange.', 'Synod', 'Città', 'climatico:', 'Genova', 'europeo', 'azioni', 'resilienza', 'sostenibilità.', 'climatechange', 'cities4europe', 'ClimateChange?', 'ClimateAction', 'GreatBarrierReef', 'Reef2050', 'المترجم_في_خدمة_المترجم', 'HambacherForst', 'HambachForest', 'Energiewende', 'Miljöpartiet', 'Le', 'environnement', 'climatechange', 'UNSDSN', 'leadershipcouncil', 'NewYork', 'sustainablecities', 'sustainabledevelopment', 'SDGs', 'GreenHashes', 'ResponsibleMining', 'CarbonCapture', 'ClimateChan…', 'ClimateChange', 'ClimateAction,', 'Hurricanes', 'Sustainability', 'SuperPollutants', 'COP24', 'climatechange', 'ledlights', 'rebate', 'cleantech', 'cleanenergy', 'greenenergy', 'renewableenergy', 'c…', 'climatechange', 'FactsMatter', 'Science', 'HurricaneFlorence', 'ClimateChange', 'climatechange', 'Groundswell', 'ClimateChange', 'M…', 'ClimateChange', 'ScientificEvidence', 'GlobalWarming.', 'EnvironmentalRacism', 'pollution!', 'NoThirdRunway', 'WeWillBeWaiting', 'SacredLand', 'SacredWater', 'KeystoneXL', 'climatechange', 'GOPPigs', 'Oilhasnoright', 'SmartNews', 'ScienceNotSilence', 'Resist', 'climatechange', 'JourDuDepassement', 'CUMIPAZ', 'EMAP', 'Guatemala', 'trabajandoenprodelafamiliahumana', 'climatechange!', 'ChampionsOfTheEarth', 'auspoll', 'climatechange', 'KeepItInTheGround', 'c…', 'global…', 'ActOnClimate', 'UN', 'SalmanKhan', 'KeralaFlood', 'BollywoodCelebs', 'K…', 'marketing', 'businessnews', 'biznews', 'socbiz', 'smm', 'ClimateChange', 'ClimateChange', 'ExtremeWeather', 'NaturalHazard', 'ClimateChange', 'YESon6', 'JetSet', 'JetFuel', 'Bafflegab', 'Narcissist', 'ValleyGirlAccent', 'GenderQuota', 'Presadiretta', 'clim…', 'wildlife', 'biodiversity', 'animals', 'nature', 'cl…', 'FireDana', 'HireHarley', 'CA48…', 'LDTPoll:', 'ourchangingclimate', 'UNDay,', 'India2050', 'luncheon', 'climatechange', 'climateseries', 'realestate', 'cre', 'GreatBarrierReef', 'Temperature', 'GISTEMP', 'dataviz', 'climatechan…', 'DidYouKnow', 'WorldHeritage', 'climatechange', 'climatechange', 'science', 'Plant4Pakistan', 'Pakistan', 'climatechange,', 'SaveEnergy', 'GreenNewDeal', 'NoFossilFuelMoney', 'evolution', 'globalwarming!', 'anima…', 'ClimateChange', 'CNOnThisDay', 'climatechange', 'itstimetochange', 'prosumers…', 'oceans', 'climatechange?', 'Entrepreneur', 'FoodProduction,', 'ClimateChange', 'BiodiversityLoss', 'infografía', 'cambioclimático', 'HambacherForest', 'Plant4Pakistan', 'cleanwater?', 'climatechange,', 'climatechange', 'urges', 'preparedness', 'culture', 'DisasterRiskReduction', 'desertification', 'resilience', 'ActOnClimate', 'climatechange', 'ren…', 'cli…', 'gender', 'climatechange', 'Temperature', 'GISTEMP', 'dataviz', 'climatechan…', 'Cities', 'ClimateChange', 'C40', 'GlobalWarming,', 'ClimateChange,', 'RadicalUrge,', 'coralreef', 'Recycle,', 'TShirt', 'VRET.', 'watercrisis', 'drought', 'ClimateChange', 'climateaction', 'fracking:', 'Diabetes,', 'foodbanks', 'climatechange,', 'ClimateChange.', 'handhygiene', 'climatechange', 'clasic350', 'ThisIsZeroHour', 'Sports', 'cooking', 'graphicdesign', 'graphics', 'food', 'entrepreneur', 'business', 'inspiration', 'fitness', 'fashion', 'marketing', 'social', 'media', 'EnoughAlready', 'StopClimateChange', 'ThisIsNotADrill', 'RiseForClimate', 'gunviolence', 'TheFluThatKilled50Million', 'GlobalWarming', 'MotherNature', 'climatechange', 'ClimateChange.', 'climatechange', 'globalwarmings', 'ClimateChangeIsReal', 'SmartNews', 'ParisAgreement', 'ClimateAction', 'ClimateChange', 'solar', 'CleanPowerPlan', 'Wetter', 'Actonclimate', 'FeedBirdsSaysStMSG', 'GCAS2018', 'PEELPrize.', 'QandA', 'AnimalAgriculture.', 'HurricanceFlorence', 'ActOnClimate', 'TW', 'Heatwaveuk', 'G…', 'BREAKING', 'climatechange', 'ClimateChange', 'UNGA', 'BNEFSummit', 'renewables', 'climatechan…', 'cities', 'urbanisation', 'climatechange', 'NoThirdRunway', 'ClimateChange?', 'ClimateAction', 'ClimateChange', 'Plant4Pakistan', 'PTIDoingWell', 'climatechange', 'auspoll', 'climatechange', 'FollowTheMoney', 'ClimateChange', 'ClimateAction', 'ClimateChange', 'India2050', 'climate', 'Climatechange', 'ClimateChange.', 'climatechange.', 'ClimateChange', 'EnvironmentProt…', 'GlobalEnergyOligarchy.', 'publiclands,', 'EPA,', 'ESA', 'MadhouseEffect', 'ClimateChange', 'ClimateCrisis', 'auspol', 'qldpol', 'nswpol', 'Drought', 'Heatwave', 'Bushfire', 'wefimpact', 'SDGs', 'SDI18', 'systemschange', 'WarmData', 'climatechange', 'ecology', 'symmathesy', 'art', 'FireDana', 'HireHarley', 'CA48…', 'nat…', 'ActOnClimate', 'S…', 'MadhyaPradesh', 'BREAKING:', 'Melbourne', 'cl…', 'fracking', 'LNG', 'solar', 'AGW', 'ClimateChan…', 'Kerala', 'IllegalAlien', 'globalwarming', 'ClimateChange.', 'ClimateAction', 'IPCC', 'SR15,', 'HeatWave2018', 'terrorist', 'climatechange', 'mapoli', '2008Vs2018', 'climat', 'climatechange', 'Time…', 'PrimaryDay', 'climatechange', 'Plant4Pakistan', 'GreenP…', 'JustFakeIt', 'Sa…', 'GCAS2018', 'Cl…', 'Solar', 'Indigenous', 'Climate', 'PRES.IMPOTENT', 'ClimateChange', 'MAGA', 'KeepAmericaGreat', 'ScienceBasedTareget…', 'auspol', 'FrackFree4', 'FrackFr…', 'climatechange', 'IEW2018', 'IPCCReport', 'SciencesMarines', 'OurOcean', 'InfrastructuresDeRecherche', 'Innovation', 'Mer', 'Economie', 'LivingOcean', 'LivingPlanet', 'AAP_EMBRCFrance', 'stopcoal', 'gorenewable', 'sav…', 'Africa', 'climatechange', 'Wo…', 'climatechange,', 'ClimateChange', 'Investment', 'market', 'TheSwitch', 'Renewables', 'Infrastructure', 'RiseForClimate', 'climatechange', 'ClimateJustice', 'MAGA', 'ClimateChangeVoter', 'Fossi…', 'B…', 'climatechange', 'ClimateCrisis', 'climatestrike', 'climatechange', 'LAHeatwave', 'ClimateReality', 'AlGore', 'climatechange', 'ClimateChangeIsReal', 'environment', 'Earth', 'GlobalWarming', 'solar:', 'climatechange', 'wildfires', 'BCWildf…', 'climatescience', 'fight4theforests', 'GreatBarrierReef', 'climatechange', 'NoThirdRunway', 'Climatechange', 'ClimateChangeIsReal', 'Globalwarming', 'innovation', 'science', 'tech', 'space', 'climatechange', 'EV', 'future', 'AI', 'ro…', 'NoOneWouldBeLeftBehind', 'water', 'SB100', 'flood', 'Antarctica', 'climatechange', 'agricultura,', 'cambioclimatico', 'climatechange', 'climatechange', 'earth', 'winter', 'glo…', 'climatechange', 'SpaceForce', 'AGW', 'ClimateChange', 'keepitintheground', 'climatechange', 'hackathon', 'climate', 'innovators.', 'community!', 'savethedate', 'startup', 'climatechange', 'Greenland.', 'CA', 'Plant4Pakistan', 'FreeKaavan', 'ThingsYouDontSeeEveryDay', 'Weather', 'Greenland', 'Clim…', 'Plant4Pakistan', 'ThisIsZeroHour', 'เป๊กผลิตโชค', 'ขวัญอุษามณี', 'ตลาดนัดNCT', 'จากกันด้วยดี', 'บาปรัก', 'ดวงใจในไฟหนาวch33', 'CaptainMarvel', 'CherprangBNK48', 'PeckPalitchoke', 'Emmys', 'LIVPSG', 'Emmys2018', 'LFCPSG', 'climatechange', 'LiverpoolPSG', 'IamW…', 'ArsYoungjaeDay', 'อะไรอะไรก็ตี๋', 'PopStar', 'EVEWHU', 'ClimateChange', 'MasterChef', 'BigBoss', 'Saints', 'IDEALCUTinJKT', 'Joker', 'NEWARS', 'GlobalWar…', 'Yemen', 'Climatis…', 'HurricaneMaria', 'WomensRights', 'LGBTRights', 'Immigrants', 'ClimateChange', 'Healthcare!', 'lighpollutio…', 'philanthropy:', 'Medicaid', 'oralhealth', 'veterans', 'climatechange', 'Crim…', 'CSIRO', 'GlobalWarming', 'WorldWar3Movie', 'Cities', 'UrbanOctober', 'ClimateChange', 'Sustainabl…', 'presidentlagos', 'climatechange', 'f20', 'g20', 'indyref', 'ClimateChange', 'cdnpoli', 'Air', 'Water', 'Pollution', 'GHG', 'ClimateChange', 'Health', 'ICYMI,', 'NationalOceanPolicy', 'augmentedreality', 'ClimateChange', 'Auspol', 'Map', 'Europe:', 'ClimateChangeIsReal', 'Glo…', 'Trump', 'OzoneDay,', 'ParisAgree…', 'FORDNATION', 'animals', 'Ex…', 'ThisIsZeroHour', 'ClimateAction', 'GCAS2018', 'climate', 'climaterisk', 'climatefinance…', 'su…', 'ClimateChange', 'tictocnews', 'ArtificialInteligence', 'Digital', 'MarchePourleClimat', 'climatechange', 'BLKBigProblem.', 'ClimateAction?', 'India', 'ClimateFacts', 'ClimateChange', 'outsiders', 'ClimateChange', 'auspol', 'qldpol', 'NoNewCoal', 'StopAdani', 'Longman', 'Temperature', 'GISTEMP', 'dataviz', 'climatechan…', 'solar', 'CarbonTax,', 'ClimateNeutralNow', 'emissions', 'ClimateChange', 'Tonightly', 'climate', 'BREAKING', 'RiseForClimate', 'MPN', 'Blackpink', 'Blink', 'HurricaneFlorence', 'Trump', 'StopAdani,', 'climatedialogueIRL', 'climatechange', 'climatechange', 'ClimateAction?', 'GCAS201…', 'GlobalWarming', 'Plant4Pakistan', 'GreenP…', 'ikea,', 'Microsoft', 'Anesco', 'ClimateWeekNYC', 'Plant4Pakistan', 'GreenP…', 'PhotoContest', 'ScoMo', 'climatechange', 'Climatechange', 'climateaction', 'yesteryear!', 'climatechange?', 'Regenerativeagriculture,', 'Youth4Inn…', 'climatechange', 'Climatism', 'Arctic', '…', 'AGW', 'ClimateChange', 'climatechange', 'Yarrawonga', 'CriticalInfrastructure', 'water', 'climatechange', 'flood', 'drought', 'plasticfree', 'Oceans', 'plasticpollution', 'Sustainability', 'ActOnClimate', 'cir…', 'Study', 'WorldNews', 'Trending', 'BreakingNews', 'TropicalStormFlorence', 'HurricaneFlorence', 'Florence', 'NorthCarolina', 'SouthCarolina', 'Brexit', 'aerogenerators', 'H2020…', 'ParisAccord', 'ClimateChange', 'climatechange', 'Temperature', 'GISTEMP', 'dataviz', 'climatechan…', 'EnvironmentProtection', 'GeorginaDowner', 'WorstPresidentEver', 'WorstPresidentInHistory', 'notallfoxes', 'USMCA', 'USCAM', 'globalwarming', 'climatechange.', 'climatechange', 'LakeSuperior', 'climatechange', 'tourism', 'pipeline', 'Ancocala,', 'Andes', 'Peru￼,', 'climatechange', 'trad…', 'ClimateChange', 'wildlife', 'NaturesCalendar.', 'WorldWar3Movie', 'Climatechange', 'ClimateChange', 'fossilfuel', 'climatechange?', 'globalwarming', 'SavetheReef', 'prouddad', 'LeonardoDiCaprio', 'ClimateChangeIsReal', 'AVINOC', 'plastics', 'Plant4Pakistan', 'ClimateChange', 'smellslikemothballs', 'Africa', 'TakeYour…', 'BetoORourke', 'BetoForTexas', 'climatechange', 'impinv', 'Conservation', 'emissions,', 'C…', 'SCOTUS', 'Kennedy', 'Resistance', 'climatechange', 'Pruitt', 'EPA', 'Trump', 'GlobalWarming', 'pollution', 'environment', 'ScottPruitt', 'S…', 'climate_change_2018', 'environmental_conferences', 'anthropogenic_activities', 'Auspol', 'climatechange', 'river', '…', 'ProtectAntarctic', 'ProtectAntarctic', 'CCAMLR', 'PM..there', 'climatechange,', 'ClimateAction', 'cool', 'science', 'news', 'ClimateChangeIsReal', 'Arctic.', 'ParisAgreemen…', 'ClimateChange.', 'Coal', 'Tobacco', 'Green,', 'wato', 'RT', 'ClimateChange', 'carbontaxes.', 'NobelPri…', 'GlobalWarming', 'Cdnpoli', 'TransMountain', 'StopAdani,', 'climatechange', 'Plant4Pakista…', 'Champion…', 'ClimateChange', 'ClimateChange', 'dirtyhucksters', 'noKM', 'Greece', 'mancalavisione', 'ClimateJusti…', 'environment', 'birdstellus', 'ActOnClimate.', '', 'globalcitizen', 'ChampionsOfTheEarth', 'amazonriver', 'flooding', 'climatechange…', 'melting', 'cl…', 'solar', 'Clim…', 'architecture', 'Liberal', 'GlobalWarming', 'exxonmobil', 'business', 'IPCC', 'LoveAndKindness,', 'climatechange', 'Ploughing18', 'auspol', 'nswpol', 'qldpol', 'anthropocene', 'ClimateChange', 'StopAdani', 'NoNewCoal', 'climatechange', 'VoteBlue', '6DaysToMSGBirthday', 'ActOnClimate.', 'cleanercar', 'Ladk…', 'ClimateChange', 'climatechange', 'ClimateChangeIsReal', 'ActOnClimate', 'greenenergy', 'globalwarming.', 'renewableenergy', 'ActOnClimate,', 'g…', 'GlobalWarming', 'climatechange', 'climatechange', 'ClimateChange.', 'ClimateChangeIsReal', 'BeatPollution', 'AreYouEn', 'democracy,', 'auspol', 'qldpol', 'nswpol', 'ClimateCrisis', 'ClimateChange', 'mothersoutfron…', 'ClimateChange', 'DefendTheAmazon!', 'ClimateJustice', 'ActOnClimate', 'ClimateChange', 'ClimateChange.', 'globalcitizen', 'NeverTrumper', 'CNN)', 'Resist', 'climatechange', 'RiseForClimate', 'auspol', 'MetsUnite', 'LSV?', 'climateactionke.', 'FlashbackFriday,', 'Pruitt', 'EPA', 'Trump', 'GlobalWarming', 'pollution', 'environment', 'ScottPruitt', 'S…', 'climatechange', 'RT', 'Venice', 'Master', 'Programme', 'challenge', 'climatechange', 'Temperature', 'GISTEMP', 'dataviz', 'climatechan…', '…', 'climatechange', 'Aramco', 'Aeolus.', 'climatechange', 'ODS13', 'PutinsPuppet', 'LiarInChief', 'DarkMoney', 'ComplicitGOP', 'Dutton', '28जून_कबीरप्रकटदिवस', 'Trump', 'QandA', '2215เชื่อบ้ากล้าก้าว', 'อุบัติเหตุ', 'JUNGKOOK', 'AsianGames2018', 'GERFRA', 'SUJUxiKON', 'climatechange', 'ASMOM', 'climatechange', 'U…', 'RuggeroPasquarelli', 'KCAMexico', 'LosingEarth,', 'ecocide', 'auspol', 'cop21', 'cop24', 'climatechange…', 'Temperature', 'GISTEMP', 'dataviz', 'climatechan…', 'ClimateChange', 'Plant4Pakistan', 'GreenP…', 'climatechange', 'ClimateChange.', 'GoSolar', 'GlobalWarming', 'wildfire', 'ArcticCircle', 'Latvia', 'Sweden', 'Greece', 'climatechange', 'WeAreTheMedia', 'grassroots', 'Progressive', 'Temperature', 'GISTEMP', 'dataviz', 'climatechan…', 'ClimateChange', 'Ontario', 'GCAS2018', 'GreenClimateFund,', 'energy', 'clim…', 'RiseForClimate', 'adaptatio…', \"Rwanda's…\", 'KeepItInTheGround', 'DefendEarthDefenders', '…', 'repower', 'ClimateChange', 'PMIKAddress', 'globalwarming', 'Climatechange', 'Mangkhut', 'ActOnClimate', 'climate', 'energy', '…', 'climate', 'makeTheOzoneGreatAgain', 'MagicMoneyTree', 'DUP.', 'CaliforniaWildfires,', 'water,', 'climatechange.', 'auspol', 'climatechange', 'renewableenergy', 'climatechange', 'science', 'feedly', 'California', 'ClimateChange', 'ClimateTalks', 'UN', 'WorldLeaders', 'ClimateChange', 'Katowice', 'Ireland!!', 'NZ', 'World', 'climatechange', 'Arctic', 'GeorginaDowner', 'cleanenergy,…', 'environment', 'climatechange', 'climate…', 'IllegalAlien', 'climatec…', 'EmoryCOP24', 'aph', 'auspol', 'GlobalWarming', 'warmingstripes', 'GreenNewDeal', 'NoFossilFuelMoney', 'zimbabwe', 'climate', 'climatechange.', 'care2', 'auspol', 'ausbiz', 'globalwarming', 'ClimateChange', 'climatechange✊🏾', 'موج_گرما،', 'تروریستی', 'climatechan…', 'ALDUBEventually', 'marine', 'animals', 'NbS', 'climatechange', 'DRR.', 'flood', 'تغییر_اقلیم', 'آب،', 'MugClub', 'LwC', 'globalwarming', 'willisha', 'maybeits4herman', 'thatsmyradiohost', 'groupthink', 'EnergyStorage', 'RenewableEnergy', 'climate', 'StepUp2018', 'ClimateChange', 'Trump’s', 'emissi…', 'insiders', 'globalwarming', 'SpaceWatchGL', 'AsiaPacific', 'China', 'ClimateChange…', 'Temperature', 'GISTEMP', 'dataviz', 'climatechan…', 'ClimateChange', 'IGARSS18VLC', 'remotesensing', 'EarthObservation', 'climatechange', 'science', 'CarbonTax', 'climate', 'BrexitBritain.', 'NotMyBrexit', 'ClimateChange', 'MakeOilHistory.', 'auspol', 'WorldWar3Movie', 'Africa', 'Worst', 'Climate', 'Change', 'Report)', 'Plant4Pakistan', 'FreeKaavan', 'FL26', 'TakeItBack', 'R…', 'TWBADonKissAndTell', 'HurricanceFlorence', 'ClimateChange', 'Glo…', 'Flood,', 'Erosion,', 'Wave', 'Padma', 'River,', 'emsannual2018', 'IPCCReport', 'climatechange', 'climatebreakdown', 'Geology', 'GeologyPage', 'Suecia', 'Nieve', 'Plant4Pakistan', 'GreenP…', 'BRICSAgricSA18-\"the', \"'s\", 'Plant4Pakistan', 'climatech…', 'BeatAirPollution:', 'ClimateChange', 'ClimateBreakdown', 'ActOnClimate', 'RiseForClimate', 'Animals', 'Cancer', 'Climate', 'ClimateChange', 'Diabetes', 'Environment', 'Health', 'Nature', 'NHS', 'Ocean', 'Water…', 'ClimateChange', 'climatechange,', 'disaster', 'environmental', 'RioGrande', 'iceage?', 'globalwarming', 'auspoll', 'climatechange', '赖冠霖', '라이관린', 'LAIKUANLIN', 'HeathrowExpansion', 'coal', 'nuclear', 'ActOnClimate', 'globalwarmi…', 'tarsands', 'Plant4Pakistan', 'GreenP…', 'globalcitizen', 'China', 'Climate', 'Qc2018', 'QCelections', 'SystemChange', 'GreenJobs', 'LaPlaneteSinviteDansLaCampagne', 'climatechange', 'Internet', 'carbon…', 'climatechange.', 'cocoa', '…', 'MichaelWhite,', 'WIGov,', 'gogreen', 'savetheplanet', 'climatechange', 'emissions', 'financial', 'Blockchain', 'ClimateChange.', 'CLEANER,', 'GREENER', 'ENERGY?', 'Solar', 'renewable', 'AirSourceHeatPump.', 'Ecotech', 'renewable', 'climatechange', 'EcoFriendly', 'Naturalparks', 'politics', 'globalwarming', 'Temperature', 'GISTEMP', 'dataviz', 'climatechan…', 'ClimateChange', 'VietNam', 'CambioClimático', 'Temperature', 'GISTEMP', 'dataviz', 'climatechan…', 'FakeNews!', 'Greecefires…', 'climate', 'IPCC', 'climatechange.', 'Pruitt', 'EPA', 'Trump', 'GlobalWarming', 'pollution', 'environment', 'ScottPruitt', 'S…', 'Science', 'ClimateChange', 'Ext…', 'climatechange', 'sued', 'CPTPP', 'TPPA', 'TPP', 'TPP11', 'ISDS', 'litigation', 'health', 'safety', 'water', 'wages', 'medicines', 'climatechange', 'Māori', 'Rights', 'sovereignty', 'fastfood', 'alcohol', 'weapons...', 'climatechange', 'BCWildfires', 'trump', 'WhereAreTheChildren', 'BorderCrisis', 'amykremer', 'infrastructure', 'DACA', 'Education', 'JobTraining', 'IncreasedMinimumWage', 'ClimateAction', 'ClimateChangeIsReal', 'india', 'cryptocurrencies', 'crypto', 'icos', 'bitcoin', 'blockchain', 'ethereum', 'MartiniDay', 'BC.', 'climateaction.', 'Undp_India', 'climatechange', 'ClimateChange', 'NACCB2018!', 'ClimateChange', 'SeaLevelRise…', 'ProtectAntarctic', 'ProtectAntarctic', 'CCAMLR', 'HarrisonFord', 'WeNeedNature', 'YEARSproject', 'WarOnOurFuture', 'healthequity', 'climatechange', 'Carbon', 'climatechange', 'onpoli', 'cdnpoli', 'climatechange', 'climatechange,', 'PebbleMine', 'AN…', 'green', 'composting.', 'ClimateChange', 'greenbonds', 'EnergiToken', 'energimine', 'energitoken', 'cryp…', 'Temperature', 'GISTEMP', 'dataviz', 'climatechan…', 'Auspol', 'TonyAbbott', 'TurncoatTraitor', 'ClimateChange?', 'climatechange', 'changeonsnotreplanète', 'changeonsnoshabitudes', 'auspol', 'solarpane…', '530tweets', 'Heathrow', 'ClimateChange', 'hurricanemichael2018', 'climatechange', 'icecaps', 'climatechange', 'CO2', 'DarwinAwards', 'AusGov', 'USCongress', 'China', 'ClimateChangeIsReal', 'fossilfuels', 'App', 'Film', 'President', 'Trump.', 'ActOnClimate', 'Resist', 'climate', 'nopollution', 'climate', 'COP24!', 'climatechange?', 'insurance', 'realestate', 'climatechange', 'Flood', 'ActOnClimate.', 'climatechange', 'MakeOilHistory', 'ClimateChange', 'Plant4Pakistan', 'GreenP…', 'insiders', 'thinkbeforeyo…', 'Helsinki1919', 'ThingsYouDontSeeEveryDay', 'Weather', 'Greenland', 'Clim…', 'RiseForClimate', 'Cli…', 'climatechange', 'Map', 'DDC', 'CarbonFootprint,', 'SaveTheEarth', 'GlobalWarming', 'WednesdaysList', 'ClimateChangeIs…', 'ClimateChangeDenier', 'DougFord’s', 'ActOnClimate', 'RuggeroPasquarelli', 'KCAMexico', 'climatechange', 'EU', 'PeoplesClimateCase', 'FLpolitics', 'FLGov', 'ClimateChange', 'FlipIt', 'CA25', 'Vote', 'NOVEMBER6', 'ClimateWeekNYC', 'GlobalWarming', 'climatehoax', 'Temperature', 'GISTEMP', 'dataviz', 'climatechan…', 'Houstonclimate', 'ClimateAction', 'ActOnClimate', 'climatechange', 'science', 'nature', 'climate', 'globalwarming', 'Vegan', 'pets', 'health', 'fo…', 'WellDoneAll', 'ClimateChange', 'WEF', 'auspol', 'qldpol', 'nswpol', 'Matter…', 'fresheyes', 'REALITY', 'Temperature', 'GISTEMP', 'dataviz', 'climatechan…', 'NASA', 'GISTEMP', 'data', 'climatechange', 'globalwarming', 'ThingsYouDontSeeEveryDay', 'Weather', 'Greenland', 'Clim…', 'ClimateChange:', 'TodaysRead:', 'GlobalWarming', 'climatechange', 'environment', 'Portland', 'Oregon’s', 'FossilFuels', 'FossilFuelInfrastructureBan', 'LandUse', 'USCourts', 'Oil', 'Gas', 'Coal', 'USWestCoast', 'ClimateChange', 'SeaLevelRise', 'CoastalCities', 'NatGas', 'PresidentTrump', 'KavanaughVote', 'Ind…', 'NoThirdRunway', 'NativeMaize', 'biocultural', 'diversity', 'Florence', 'ClimateChange', 'SustainableDevelopment.', 'UNGA', 'UNGA73', 'ClimateChange', 'disaster,', 'climatechange', 'climate', 'IPCC', 'environment', 'EU', 'UN', 'wentworthvotes', 'neweconomicsfoundation', 'Well_done_Labor', 'coal', 'LNG', 'climatechange', 'Election_now', 'insane', 'british', 'America', 'reprehensible', 'bds.', 'Plant4Pakistan', 'GreenP…', 'ga223', 'climatechange?', 'Regenerativeagriculture,', 'StopKavanaugh', '…', 'Whitehorse', 'Yukon', 'ClimateChange', 'climatechange', 'environmentaljustice', 'FutureFest18', 'MediaBlackout', 'GCAS', 'RiseForClimate', 'FORATOM', 'nuclear', 'ClimateChange', 'WetlandWednesday!', 'DYK', 'Stand4forests', 'NoThirdRunway', 'PeopleOverProfits', 'HealthcareForAll', 'GLOBALwarming', 'FamiliesBelongTogether', 'StopTheFraud', 'science', 'extinct.…', 'climatechange', \"PennState's\", 'musically', 'ClimateChange', 'MED', 'ClimateChange', 'auspol', 'qldpol', 'ClimateChange', 'HurricaneFlorence', 'capitalist', 'auspol', 'libspill', 'climatechange', 'ClimateAction', 'ParisAgreement', 'climate', 'trump', 'RiseForClima…', 'KeystoneXL', 'yoga', 'globalwarming', 'NoThirdRunway', 'WorldW…', 'BBCSwitchOff:-', 'LetScienceSpeak', 'HurricaneFlorence', 'auspol', 'climatechange', 'DonateForDams', 'ClimateChange?', 'Indigenous', 'canviclimàtic.', 'NYC!', 'climatechange!', 'GlobalWarming', 'ClimateChange', 'climate', 'GlobalCitizen', 'greenpeace', 'GreenPakistan', 'PTI', 'Plant4Pakistan', 'Brexit', 'solar', 'ClimateChange', 'IPAexpo…', 'capewineforum', 'heatwave', 'california', 'climatechange', 'NC11', 'ClimateChangeIsReal', 'climatechange:', 'GreatBarrierReef', 'DYK', 'Peatlands', 'ParisAgreement', 'ActOnClimate', 'ClimateJustice', 'PutAPriceOnIt?', 'forests', 'FlorenceNC', 'florencehurrica…', 'climatechange,', 'PresidentHissyFit', 'DotardDonnie', 'WorldRefugeeDa…', 'deforestation', 'climatechange,', 'forests', 'ClimateChange,', 'ClimateChange', 'QandA', 'nationalparks', 'nationalforests', 'naturelover', 'climatechange', 'HelpCombatClimateChange', 'envhm14', 'GoGreenDay', 'WorldRainforestDay!', 'HurricaneFlorence', 'climatechange', 'bullshit', 'CO2', 'AGW', 'ClimateChange', 'SiteC', 'tarsands', 'Cl…', 'r4today', 'HeathrowExpansion', 'fintech', 'tech', 'trapmusic', 'Robotics', '…', 'peing', '質問箱', '椿原ほのん', 'HankCon', 'cli…', 'Netherlands', 'climate', 'law', 'Dutch', 'climatechange', 'national', 'politics.', 'GlobalWarming', 'climatereality', 'globalwarming', 'ChampionsOfTheEarth', 'climatechange', 'fakeNews', 'ThursdayThoughts', 'climatechange,', 'nbn', 'polarbears', 'ClimateChangeIsReal', 'Plant4Pakistan', 'GreenP…', 'GBRF', 'OnePl…', 'cool', 'science', 'news', 'Temperature', 'GISTEMP', 'dataviz', 'climatechan…', 'climatechange…', 'Aeolus.', 'CLIMATEDENIERS??', 'solar', 'climatechange', 'ActOnClimate', 'cdnpoli', 'bcpoli', 'NoKXL', 'StopKM', 'WaterIsLi…', '#climatechange', 'Paris', 'innovati…', 'DYK', 'StopPipelines', 'endoil', 'climatechange', 'NoThirdRunway', 'Climatechange', 'Temperature', 'GISTEMP', 'dataviz', 'climatechan…', 'nuclear', 'California’s', 'firetornado', 'climatechange', 'Diabetes,', 'foodbanks', 'ClimateFinancePact', 'GlobalWarming', 'ClimateChange', 'FakeNews', 'Endangered', 'SmartDissent', 'C…']\n"
     ]
    }
   ],
   "source": [
    "hashtaglist = []\n",
    "for i in df_bad['full_text']:\n",
    "    for word in i.split():\n",
    "        if word[0] == '#':\n",
    "            hashtaglist.append(word[1:])\n",
    "        \n",
    "print(hashtaglist)"
   ]
  },
  {
   "cell_type": "code",
   "execution_count": 239,
   "metadata": {},
   "outputs": [],
   "source": [
    "from collections import Counter"
   ]
  },
  {
   "cell_type": "code",
   "execution_count": 265,
   "metadata": {},
   "outputs": [],
   "source": [
    "counts = Counter(hashtaglist)"
   ]
  },
  {
   "cell_type": "code",
   "execution_count": 266,
   "metadata": {
    "scrolled": true
   },
   "outputs": [
    {
     "data": {
      "text/plain": [
       "[('climatechange', 156),\n",
       " ('ClimateChange', 103),\n",
       " ('climate', 26),\n",
       " ('climatechan…', 25),\n",
       " ('Plant4Pakistan', 24)]"
      ]
     },
     "execution_count": 266,
     "metadata": {},
     "output_type": "execute_result"
    }
   ],
   "source": [
    "counts.most_common(5)"
   ]
  },
  {
   "cell_type": "code",
   "execution_count": 244,
   "metadata": {
    "scrolled": true
   },
   "outputs": [
    {
     "data": {
      "text/plain": [
       "0.027436823104693142"
      ]
     },
     "execution_count": 244,
     "metadata": {},
     "output_type": "execute_result"
    }
   ],
   "source": [
    "190 / len(df_bad)"
   ]
  },
  {
   "cell_type": "code",
   "execution_count": 248,
   "metadata": {},
   "outputs": [
    {
     "data": {
      "text/plain": [
       "Index(['created_at', 'id', 'id_str', 'full_text', 'truncated',\n",
       "       'display_text_range', 'entities', 'source', 'in_reply_to_status_id',\n",
       "       'in_reply_to_status_id_str', 'in_reply_to_user_id',\n",
       "       'in_reply_to_user_id_str', 'in_reply_to_screen_name', 'user', 'geo',\n",
       "       'coordinates', 'place', 'contributors', 'is_quote_status',\n",
       "       'quoted_status_id', 'quoted_status_id_str', 'quoted_status_permalink',\n",
       "       'quoted_status', 'retweet_count', 'favorite_count', 'favorited',\n",
       "       'retweeted', 'possibly_sensitive', 'lang', 'retweeted_status',\n",
       "       'extended_entities', 'withheld_in_countries', 'postAge',\n",
       "       'percentNumInName', 'bioLength', 'followCount'],\n",
       "      dtype='object')"
      ]
     },
     "execution_count": 248,
     "metadata": {},
     "output_type": "execute_result"
    }
   ],
   "source": [
    "df_bad.columns"
   ]
  },
  {
   "cell_type": "code",
   "execution_count": 289,
   "metadata": {
    "scrolled": true
   },
   "outputs": [
    {
     "data": {
      "text/plain": [
       "<BarContainer object of 5 artists>"
      ]
     },
     "execution_count": 289,
     "metadata": {},
     "output_type": "execute_result"
    },
    {
     "data": {
      "image/png": "[encoded data removed]",
      "text/plain": [
       "<Figure size 432x288 with 1 Axes>"
      ]
     },
     "metadata": {
      "needs_background": "light"
     },
     "output_type": "display_data"
    }
   ],
   "source": [
    "plt.bar([i[0] for i in counts.most_common(5)], [i[1] / len(df_bad) for i in counts.most_common(5)])\n"
   ]
  },
  {
   "cell_type": "code",
   "execution_count": 291,
   "metadata": {},
   "outputs": [
    {
     "data": {
      "text/plain": [
       "Index(['created_at', 'id', 'id_str', 'full_text', 'truncated',\n",
       "       'display_text_range', 'entities', 'source', 'in_reply_to_status_id',\n",
       "       'in_reply_to_status_id_str', 'in_reply_to_user_id',\n",
       "       'in_reply_to_user_id_str', 'in_reply_to_screen_name', 'user', 'geo',\n",
       "       'coordinates', 'place', 'contributors', 'is_quote_status',\n",
       "       'quoted_status_id', 'quoted_status_id_str', 'quoted_status_permalink',\n",
       "       'quoted_status', 'retweet_count', 'favorite_count', 'favorited',\n",
       "       'retweeted', 'possibly_sensitive', 'lang', 'retweeted_status',\n",
       "       'extended_entities', 'withheld_in_countries', 'postAge',\n",
       "       'percentNumInName', 'bioLength', 'followCount'],\n",
       "      dtype='object')"
      ]
     },
     "execution_count": 291,
     "metadata": {},
     "output_type": "execute_result"
    }
   ],
   "source": [
    "df_bad.columns"
   ]
  },
  {
   "cell_type": "code",
   "execution_count": 308,
   "metadata": {},
   "outputs": [
    {
     "data": {
      "text/plain": [
       "'https://t.co/unyyK8XwDl'"
      ]
     },
     "execution_count": 308,
     "metadata": {},
     "output_type": "execute_result"
    }
   ],
   "source": [
    "df_bad[\"entities\"][19]['urls'][0]['url']"
   ]
  },
  {
   "cell_type": "code",
   "execution_count": 315,
   "metadata": {
    "scrolled": true
   },
   "outputs": [
    {
     "ename": "IndexError",
     "evalue": "list index out of range",
     "output_type": "error",
     "traceback": [
      "\u001b[0;31m---------------------------------------------------------------------------\u001b[0m",
      "\u001b[0;31mIndexError\u001b[0m                                Traceback (most recent call last)",
      "\u001b[0;32m<ipython-input-315-89a33d6e7405>\u001b[0m in \u001b[0;36m<module>\u001b[0;34m\u001b[0m\n\u001b[1;32m      1\u001b[0m \u001b[0mdf_bad\u001b[0m\u001b[0;34m[\u001b[0m\u001b[0;34m\"HasURL\"\u001b[0m\u001b[0;34m]\u001b[0m \u001b[0;34m=\u001b[0m \u001b[0;32mFalse\u001b[0m\u001b[0;34m\u001b[0m\u001b[0;34m\u001b[0m\u001b[0m\n\u001b[1;32m      2\u001b[0m \u001b[0;32mfor\u001b[0m \u001b[0mi\u001b[0m \u001b[0;32min\u001b[0m \u001b[0mdf_bad\u001b[0m\u001b[0;34m[\u001b[0m\u001b[0;34m\"entities\"\u001b[0m\u001b[0;34m]\u001b[0m\u001b[0;34m:\u001b[0m\u001b[0;34m\u001b[0m\u001b[0;34m\u001b[0m\u001b[0m\n\u001b[0;32m----> 3\u001b[0;31m     \u001b[0mdf_bad\u001b[0m\u001b[0;34m[\u001b[0m\u001b[0;34m\"HasURL\"\u001b[0m\u001b[0;34m]\u001b[0m \u001b[0;34m=\u001b[0m \u001b[0mlistNotEmpty\u001b[0m\u001b[0;34m(\u001b[0m\u001b[0mi\u001b[0m\u001b[0;34m[\u001b[0m\u001b[0;34m\"urls\"\u001b[0m\u001b[0;34m]\u001b[0m\u001b[0;34m[\u001b[0m\u001b[0;36m0\u001b[0m\u001b[0;34m]\u001b[0m\u001b[0;34m)\u001b[0m\u001b[0;34m\u001b[0m\u001b[0;34m\u001b[0m\u001b[0m\n\u001b[0m",
      "\u001b[0;31mIndexError\u001b[0m: list index out of range"
     ]
    }
   ],
   "source": [
    "df_bad[\"HasURL\"] = False\n",
    "for i in df_bad[\"entities\"]:\n",
    "    df_bad[\"HasURL\"] = listNotEmpty(i[\"urls\"])"
   ]
  },
  {
   "cell_type": "code",
   "execution_count": 314,
   "metadata": {},
   "outputs": [
    {
     "data": {
      "text/plain": [
       "<AxesSubplot:>"
      ]
     },
     "execution_count": 314,
     "metadata": {},
     "output_type": "execute_result"
    },
    {
     "data": {
      "image/png": "[encoded data removed]",
      "text/plain": [
       "<Figure size 432x288 with 1 Axes>"
      ]
     },
     "metadata": {
      "needs_background": "light"
     },
     "output_type": "display_data"
    }
   ],
   "source": [
    "df_bad[\"HasURL\"].value_counts().plot(kind='bar')"
   ]
  }
 ],
 "metadata": {
  "colab": {
   "name": "Proposal.ipynb",
   "provenance": []
  },
  "kernelspec": {
   "display_name": "Python 3",
   "language": "python",
   "name": "python3"
  },
  "language_info": {
   "codemirror_mode": {
    "name": "ipython",
    "version": 3
   },
   "file_extension": ".py",
   "mimetype": "text/x-python",
   "name": "python",
   "nbconvert_exporter": "python",
   "pygments_lexer": "ipython3",
   "version": "3.6.9"
  }
 },
 "nbformat": 4,
 "nbformat_minor": 1
}
