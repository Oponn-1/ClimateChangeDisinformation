{
 "cells": [
  {
   "cell_type": "markdown",
   "metadata": {
    "id": "M6Tv5H778CqV"
   },
   "source": [
    "# Detecting Climate Change Disinformation on Twitter\n",
    "Andres De La Fuente\n",
    "\n",
    "University of Washington, 2021\n",
    "\n",
    "\n",
    "## Introduction\n",
    "\n",
    "The idea of this project is to explore a collection of tweets which are about a political topic (Climate Change), and employ specific features related to user accounts in order to potentially identify evidence of astroturfing - specifically, I focus on the presence of bots. Then I analyze whether potential bot accounts post meaningfully different content from others.\n",
    "\n",
    "## Motivation\n",
    "People today are exposed to more information than ever before, it has become completely unfeasible for an individual to really evaluate everything they see critically. It has become clear that various forms of manipulative tactics on social media are very effective, as they have been used to influence elections around the world, and more recently to sow distrust in the medical community (COVID-19 disinformation). \n",
    "\n",
    "It is necessary for us to start investigating these dynamics and treating the flow of information on the internet as the essential basis of society that it has become. My goal with this project is small relative to this problem, but is along these lines.\n",
    "\n",
    "## Data\n",
    "For this analysis, I use the following dataset of tweets about climate change:\n",
    "\n",
    "[Data](https://dataverse.harvard.edu/dataset.xhtml?persistentId=doi:10.7910/DVN/5QCCUU)\n",
    "\n",
    "The data simply contains the IDs of tweets which feature climate change related hashtags such as #climatechange or #climatehoax posted between a span of a couple years.\n",
    "\n",
    "The license for the dataset is CC0, and is for public use. The terms of service require citation. \n",
    "This data fits the project neatly as it provides a set of tweets already selected based on a specific political topic.\n",
    "\n",
    "One reason for using tweets related to climate change is that I want to focus on a political topic for which what we consider to be disinformation is widely agreed upon. There is such a broad scientific consensus on the reality of man made climate change that I can go into the analysis taking climate change denial as disinformation.\n",
    "\n",
    "A broad ethical consideration with relation to this type of analysis is the implication of using human generated content to identify intent. It is possible to mischaracterize real user behavior as disingenous organized behavior, and if this is the case the insights might falsely suggest that a particular agenda is purely pushed by artificial activity. That said, the feature of posting frequency I use here is a very strong indication of bots, as is made evident in the analysis.\n",
    "\n",
    "### How to Set Up the Data Yourself\n",
    "The referenced dataset contains identifier numbers for the selected tweets. It numbers in the millions of tweets, but I use a subset of that here. The dataset is broken into three separate text files in on the source website, download the first of these files.\n",
    "\n",
    "Next, you need a tool such as [Twarc](https://github.com/DocNow/twarc), which is what I use, to 'hydrate' the tweets. This means that you are going through Twitter's developer API to reference the tweet identifiers and retrieve all of the information for each tweet. This is returned in JSON format. \n",
    "\n",
    "**You need a Twitter Developer account to perform the hydration process**. \n",
    "\n",
    "Unfortunately, Twitter's Terms of Service do not allow the public sharing of full tweet information colleted through their API, so I can only share tweet identifiers (this is the reason my referenced dataset is also in this format).\n",
    "\n",
    "For my analysis, I use a randomly selected subset of 100,000 tweets. To select these tweets I use the following command in a Linux terminal:\n",
    "\n",
    "```\n",
    "shuf -n 100000 input_file.txt > output_file.txt\n",
    "```\n",
    "\n",
    "Once you have done this, perform the hydration using Twarc on your output_file.txt (however you wish to name it). The resulting JSON file is what you should use as input in 'Loading Data' section below. In my code, this is called \"small_tweets.jsonl\". I have included my particular sample of 100000 tweet IDs as \"small_sample.txt\" in the repository.\n",
    "\n",
    "&nbsp;\n",
    "\n",
    "*I have included a python script called \"tweetID_sampler.py\" so you can perform the random sampling of tweet IDs even if you cannot use shuf. The script will prompt you for input and output filenames as well as the number you wish to sample.*\n"
   ]
  },
  {
   "cell_type": "markdown",
   "metadata": {
    "id": "dJbVUVpAwNQ_"
   },
   "source": [
    "&nbsp;\n",
    "# Research Questions\n",
    "- **Are there accounts in this dataset that meaningfully differ from the bulk based on indicators of bot activity?**\n",
    "\n",
    "- **Are there meaningful differences in tweet content between identified potential bots and the rest?**\n",
    "\n",
    "- **Do these differences in content suggest a specific agenda for the suspected accounts?**\n",
    "\n",
    "# Background / Related Work\n",
    "[Political Astroturfing in South Korea](https://www.researchgate.net/profile/Junghwan_Yang2/publication/317290047_How_to_Manipulate_Social_Media_Analyzing_Political_Astroturfing_Using_Ground_Truth_Data_from_South_Korea/links/59305a9ca6fdcc89e7844440/How-to-Manipulate-Social-Media-Analyzing-Political-Astroturfing-Using-Ground-Truth-Data-from-South-Korea.pdf)\n",
    "\n",
    "[Russian Political Disinformation](https://secondaryinfektion.org/)\n",
    "\n",
    "[Detecting the Use of Multiple Accounts](https://onlinelibrary.wiley.com/doi/abs/10.1002/cpe.4013)\n",
    "\n",
    "[Common Signs of Bots](https://blog.mozilla.org/internetcitizen/2018/01/08/irl-how-to-spot-a-bot/)\n",
    "\n",
    "The somewhat limited work that exists in this area indicates two different kinds of analyses that are used to identify inorganic activity. First, there is the consideration of individual user features, such as an account's age and posting frequency, which can be useful for identifying bots. Second, when looking for astroturfing, it is necessary to consider trends and patterns in posting activity, finding similarities in content even across platforms. The latter type of analysis is much more involved and technically complicated, so I will focus on the former: user account features.\n",
    "\n",
    "# Methodology\n",
    "\n",
    "**Exploratory Visualizations:** \n",
    "\n",
    "I use some exploratory visualizations and statistical summaries to explore the user features which I have identified as potential indicators of inorganic activity.\n",
    "\n",
    "**Clustering Algorithms:** \n",
    "\n",
    "Since some of these features turn out to indicate strong distinctions among user accounts, and the suspicious accounts number far fewer than the overall accounts, I use Gaussian Mixture clustering to group accounts based on these features.\n",
    "\n",
    "**Manual Subset Selection:**\n",
    "\n",
    "Besides clustering, due to the very interpretable nature of the selected features, I also manually select a subset of accounts by using cutoffs for these features.\n",
    "\n",
    "**NLP:** \n",
    "\n",
    "I use simple string tokenization to calculate things such as the presence of hashtags in the different tweet groupings, as well as the use of URLs. \n",
    "\n",
    "I use the Vader sentiment analysis tool from the NLTK python package to get some simple sentiment insights. This tool uses a bag of word approach (it has a reference table of positive and negative words), as well as heuristics to take care of sentiment flipping (the use of 'not' before a word).\n",
    "\n"
   ]
  },
  {
   "cell_type": "code",
   "execution_count": 2,
   "metadata": {},
   "outputs": [
    {
     "name": "stderr",
     "output_type": "stream",
     "text": [
      "[nltk_data] Downloading package vader_lexicon to\n",
      "[nltk_data]     /home/oponn/nltk_data...\n",
      "[nltk_data]   Package vader_lexicon is already up-to-date!\n"
     ]
    }
   ],
   "source": [
    "import pandas as pd\n",
    "import numpy as np\n",
    "import re\n",
    "import matplotlib.pyplot as plt\n",
    "from scipy import stats\n",
    "from mpl_toolkits.mplot3d import Axes3D\n",
    "from sklearn.cluster import KMeans\n",
    "from sklearn.model_selection import train_test_split\n",
    "from collections import Counter\n",
    "\n",
    "import nltk\n",
    "nltk.download('vader_lexicon')\n",
    "from nltk.sentiment.vader import SentimentIntensityAnalyzer"
   ]
  },
  {
   "cell_type": "markdown",
   "metadata": {},
   "source": [
    "&nbsp;\n",
    "## Helper Functions\n",
    "Below are helper functions that are used further down through the analyses.\n",
    "\n",
    "&nbsp;\n",
    "\n",
    "**percentNumbers**\n",
    "\n",
    "This calculates the percentage of numerical digits in a string, to be used on screen names of twitter accounts."
   ]
  },
  {
   "cell_type": "code",
   "execution_count": 3,
   "metadata": {},
   "outputs": [],
   "source": [
    "def percentNumbers(my_string):\n",
    "    return (len(re.sub(\"[^0-9]\", \"\", my_string))/len(my_string))"
   ]
  },
  {
   "cell_type": "markdown",
   "metadata": {},
   "source": [
    "**listNotEmpty**\n",
    "\n",
    "This returns True if the given list is empty, to be used for noting the presence of things within a tweet of which there could be more than one (e.g. URLs)."
   ]
  },
  {
   "cell_type": "code",
   "execution_count": 4,
   "metadata": {},
   "outputs": [],
   "source": [
    "def listNotEmpty(my_list):\n",
    "    return(len(my_list) > 0)"
   ]
  },
  {
   "cell_type": "code",
   "execution_count": 5,
   "metadata": {},
   "outputs": [],
   "source": [
    "def containsOrg(url_list):\n",
    "    contains = False\n",
    "    for i in url_list:\n",
    "        if (\".org\" in i):\n",
    "            contains = True\n",
    "    return contains"
   ]
  },
  {
   "cell_type": "markdown",
   "metadata": {},
   "source": [
    "&nbsp;\n",
    "## Load and Preview Data\n",
    "First, I load the data from the json file generated by hydrating the list of tweet ID's through Twitter's API. \n",
    "\n",
    "I preview the data in the following cell."
   ]
  },
  {
   "cell_type": "code",
   "execution_count": 6,
   "metadata": {},
   "outputs": [],
   "source": [
    "dfs = pd.read_json('small_tweets.jsonl', encoding='utf-8', lines=True)"
   ]
  },
  {
   "cell_type": "code",
   "execution_count": 7,
   "metadata": {
    "scrolled": false
   },
   "outputs": [
    {
     "data": {
      "text/html": [
       "<div>\n",
       "<style scoped>\n",
       "    .dataframe tbody tr th:only-of-type {\n",
       "        vertical-align: middle;\n",
       "    }\n",
       "\n",
       "    .dataframe tbody tr th {\n",
       "        vertical-align: top;\n",
       "    }\n",
       "\n",
       "    .dataframe thead th {\n",
       "        text-align: right;\n",
       "    }\n",
       "</style>\n",
       "<table border=\"1\" class=\"dataframe\">\n",
       "  <thead>\n",
       "    <tr style=\"text-align: right;\">\n",
       "      <th></th>\n",
       "      <th>created_at</th>\n",
       "      <th>id</th>\n",
       "      <th>id_str</th>\n",
       "      <th>full_text</th>\n",
       "      <th>truncated</th>\n",
       "      <th>display_text_range</th>\n",
       "      <th>entities</th>\n",
       "      <th>source</th>\n",
       "      <th>in_reply_to_status_id</th>\n",
       "      <th>in_reply_to_status_id_str</th>\n",
       "      <th>...</th>\n",
       "      <th>quoted_status</th>\n",
       "      <th>retweet_count</th>\n",
       "      <th>favorite_count</th>\n",
       "      <th>favorited</th>\n",
       "      <th>retweeted</th>\n",
       "      <th>possibly_sensitive</th>\n",
       "      <th>lang</th>\n",
       "      <th>retweeted_status</th>\n",
       "      <th>extended_entities</th>\n",
       "      <th>withheld_in_countries</th>\n",
       "    </tr>\n",
       "  </thead>\n",
       "  <tbody>\n",
       "    <tr>\n",
       "      <th>0</th>\n",
       "      <td>2018-06-13 21:12:26+00:00</td>\n",
       "      <td>1007007810725597184</td>\n",
       "      <td>1007007810725597184</td>\n",
       "      <td>So concerned for our earth while others just w...</td>\n",
       "      <td>False</td>\n",
       "      <td>[0, 160]</td>\n",
       "      <td>{'hashtags': [], 'symbols': [], 'user_mentions...</td>\n",
       "      <td>&lt;a href=\"http://twitter.com/download/iphone\" r...</td>\n",
       "      <td>NaN</td>\n",
       "      <td>NaN</td>\n",
       "      <td>...</td>\n",
       "      <td>{'created_at': 'Wed Jun 13 19:07:30 +0000 2018...</td>\n",
       "      <td>0</td>\n",
       "      <td>0</td>\n",
       "      <td>False</td>\n",
       "      <td>False</td>\n",
       "      <td>0.0</td>\n",
       "      <td>en</td>\n",
       "      <td>NaN</td>\n",
       "      <td>NaN</td>\n",
       "      <td>NaN</td>\n",
       "    </tr>\n",
       "    <tr>\n",
       "      <th>1</th>\n",
       "      <td>2018-06-16 22:12:00+00:00</td>\n",
       "      <td>1008109966232875009</td>\n",
       "      <td>1008109966232875008</td>\n",
       "      <td>\"Poor people just get the short end of the sti...</td>\n",
       "      <td>False</td>\n",
       "      <td>[0, 223]</td>\n",
       "      <td>{'hashtags': [], 'symbols': [], 'user_mentions...</td>\n",
       "      <td>&lt;a href=\"https://about.twitter.com/products/tw...</td>\n",
       "      <td>NaN</td>\n",
       "      <td>NaN</td>\n",
       "      <td>...</td>\n",
       "      <td>NaN</td>\n",
       "      <td>1</td>\n",
       "      <td>3</td>\n",
       "      <td>False</td>\n",
       "      <td>False</td>\n",
       "      <td>0.0</td>\n",
       "      <td>en</td>\n",
       "      <td>NaN</td>\n",
       "      <td>NaN</td>\n",
       "      <td>NaN</td>\n",
       "    </tr>\n",
       "    <tr>\n",
       "      <th>2</th>\n",
       "      <td>2018-06-21 14:12:17+00:00</td>\n",
       "      <td>1009801182317932544</td>\n",
       "      <td>1009801182317932544</td>\n",
       "      <td>Even during all of this chaos, these assholes ...</td>\n",
       "      <td>False</td>\n",
       "      <td>[0, 85]</td>\n",
       "      <td>{'hashtags': [], 'symbols': [], 'user_mentions...</td>\n",
       "      <td>&lt;a href=\"http://tapbots.com/tweetbot\" rel=\"nof...</td>\n",
       "      <td>NaN</td>\n",
       "      <td>NaN</td>\n",
       "      <td>...</td>\n",
       "      <td>{'created_at': 'Thu Jun 21 13:55:07 +0000 2018...</td>\n",
       "      <td>0</td>\n",
       "      <td>1</td>\n",
       "      <td>False</td>\n",
       "      <td>False</td>\n",
       "      <td>0.0</td>\n",
       "      <td>en</td>\n",
       "      <td>NaN</td>\n",
       "      <td>NaN</td>\n",
       "      <td>NaN</td>\n",
       "    </tr>\n",
       "    <tr>\n",
       "      <th>3</th>\n",
       "      <td>2018-06-22 01:49:22+00:00</td>\n",
       "      <td>1009976609154088961</td>\n",
       "      <td>1009976609154088960</td>\n",
       "      <td>RT @MikeHudema: These Indigenous defenders are...</td>\n",
       "      <td>False</td>\n",
       "      <td>[0, 140]</td>\n",
       "      <td>{'hashtags': [], 'symbols': [], 'user_mentions...</td>\n",
       "      <td>&lt;a href=\"http://twitter.com\" rel=\"nofollow\"&gt;Tw...</td>\n",
       "      <td>NaN</td>\n",
       "      <td>NaN</td>\n",
       "      <td>...</td>\n",
       "      <td>NaN</td>\n",
       "      <td>235</td>\n",
       "      <td>0</td>\n",
       "      <td>False</td>\n",
       "      <td>False</td>\n",
       "      <td>0.0</td>\n",
       "      <td>en</td>\n",
       "      <td>{'created_at': 'Thu Jun 21 20:44:01 +0000 2018...</td>\n",
       "      <td>NaN</td>\n",
       "      <td>NaN</td>\n",
       "    </tr>\n",
       "    <tr>\n",
       "      <th>4</th>\n",
       "      <td>2018-06-22 15:17:38+00:00</td>\n",
       "      <td>1010180016418590720</td>\n",
       "      <td>1010180016418590720</td>\n",
       "      <td>RT @eugenegu: Trump’s Red Wave is another term...</td>\n",
       "      <td>False</td>\n",
       "      <td>[0, 140]</td>\n",
       "      <td>{'hashtags': [], 'symbols': [], 'user_mentions...</td>\n",
       "      <td>&lt;a href=\"http://twitter.com/download/android\" ...</td>\n",
       "      <td>NaN</td>\n",
       "      <td>NaN</td>\n",
       "      <td>...</td>\n",
       "      <td>NaN</td>\n",
       "      <td>4023</td>\n",
       "      <td>0</td>\n",
       "      <td>False</td>\n",
       "      <td>False</td>\n",
       "      <td>NaN</td>\n",
       "      <td>en</td>\n",
       "      <td>{'created_at': 'Fri Jun 22 12:09:41 +0000 2018...</td>\n",
       "      <td>NaN</td>\n",
       "      <td>NaN</td>\n",
       "    </tr>\n",
       "  </tbody>\n",
       "</table>\n",
       "<p>5 rows × 32 columns</p>\n",
       "</div>"
      ],
      "text/plain": [
       "                 created_at                   id               id_str  \\\n",
       "0 2018-06-13 21:12:26+00:00  1007007810725597184  1007007810725597184   \n",
       "1 2018-06-16 22:12:00+00:00  1008109966232875009  1008109966232875008   \n",
       "2 2018-06-21 14:12:17+00:00  1009801182317932544  1009801182317932544   \n",
       "3 2018-06-22 01:49:22+00:00  1009976609154088961  1009976609154088960   \n",
       "4 2018-06-22 15:17:38+00:00  1010180016418590720  1010180016418590720   \n",
       "\n",
       "                                           full_text  truncated  \\\n",
       "0  So concerned for our earth while others just w...      False   \n",
       "1  \"Poor people just get the short end of the sti...      False   \n",
       "2  Even during all of this chaos, these assholes ...      False   \n",
       "3  RT @MikeHudema: These Indigenous defenders are...      False   \n",
       "4  RT @eugenegu: Trump’s Red Wave is another term...      False   \n",
       "\n",
       "  display_text_range                                           entities  \\\n",
       "0           [0, 160]  {'hashtags': [], 'symbols': [], 'user_mentions...   \n",
       "1           [0, 223]  {'hashtags': [], 'symbols': [], 'user_mentions...   \n",
       "2            [0, 85]  {'hashtags': [], 'symbols': [], 'user_mentions...   \n",
       "3           [0, 140]  {'hashtags': [], 'symbols': [], 'user_mentions...   \n",
       "4           [0, 140]  {'hashtags': [], 'symbols': [], 'user_mentions...   \n",
       "\n",
       "                                              source  in_reply_to_status_id  \\\n",
       "0  <a href=\"http://twitter.com/download/iphone\" r...                    NaN   \n",
       "1  <a href=\"https://about.twitter.com/products/tw...                    NaN   \n",
       "2  <a href=\"http://tapbots.com/tweetbot\" rel=\"nof...                    NaN   \n",
       "3  <a href=\"http://twitter.com\" rel=\"nofollow\">Tw...                    NaN   \n",
       "4  <a href=\"http://twitter.com/download/android\" ...                    NaN   \n",
       "\n",
       "   in_reply_to_status_id_str  ...  \\\n",
       "0                        NaN  ...   \n",
       "1                        NaN  ...   \n",
       "2                        NaN  ...   \n",
       "3                        NaN  ...   \n",
       "4                        NaN  ...   \n",
       "\n",
       "                                       quoted_status  retweet_count  \\\n",
       "0  {'created_at': 'Wed Jun 13 19:07:30 +0000 2018...              0   \n",
       "1                                                NaN              1   \n",
       "2  {'created_at': 'Thu Jun 21 13:55:07 +0000 2018...              0   \n",
       "3                                                NaN            235   \n",
       "4                                                NaN           4023   \n",
       "\n",
       "  favorite_count favorited retweeted possibly_sensitive lang  \\\n",
       "0              0     False     False                0.0   en   \n",
       "1              3     False     False                0.0   en   \n",
       "2              1     False     False                0.0   en   \n",
       "3              0     False     False                0.0   en   \n",
       "4              0     False     False                NaN   en   \n",
       "\n",
       "                                    retweeted_status  extended_entities  \\\n",
       "0                                                NaN                NaN   \n",
       "1                                                NaN                NaN   \n",
       "2                                                NaN                NaN   \n",
       "3  {'created_at': 'Thu Jun 21 20:44:01 +0000 2018...                NaN   \n",
       "4  {'created_at': 'Fri Jun 22 12:09:41 +0000 2018...                NaN   \n",
       "\n",
       "   withheld_in_countries  \n",
       "0                    NaN  \n",
       "1                    NaN  \n",
       "2                    NaN  \n",
       "3                    NaN  \n",
       "4                    NaN  \n",
       "\n",
       "[5 rows x 32 columns]"
      ]
     },
     "execution_count": 7,
     "metadata": {},
     "output_type": "execute_result"
    }
   ],
   "source": [
    "dfs.head()"
   ]
  },
  {
   "cell_type": "markdown",
   "metadata": {},
   "source": [
    "&nbsp;\n",
    "## Account Feature Exploration\n",
    "In the following section, I calculate and explore various features related to user accounts which can be indicative of inorganic activity. The selection of these features to focus on is based on the works referenced in the 'Background' section above. The features I look into are:\n",
    "- Account Age (at the time of posting the tweet)\n",
    "- Bio Length\n",
    "- Posting Frequency (posts made per day)\n",
    "- Percentage of Numbers in Name (screen name, or 'handle')"
   ]
  },
  {
   "cell_type": "markdown",
   "metadata": {},
   "source": [
    "&nbsp;\n",
    "### Account Age Calculations\n",
    "One of the most common identifying features of inorganic activity is relatively young accounts. When batches of accounts are made for bot use or human astroturfing, the accounts are typically used right away, rather than letting them age for years before use. As can be observed below, most user accounts are years old.\n",
    "\n",
    "&nbsp;\n",
    "\n",
    "**Isolate account creation dates**\n",
    "\n",
    "First I get a list of the timestamps for account creation related to each tweet."
   ]
  },
  {
   "cell_type": "code",
   "execution_count": 8,
   "metadata": {},
   "outputs": [],
   "source": [
    "acct_start = []\n",
    "\n",
    "for i in dfs['user']:\n",
    "    acct_start.append(i['created_at'])   "
   ]
  },
  {
   "cell_type": "markdown",
   "metadata": {},
   "source": [
    "**Calculate age of account when posting each tweet**\n",
    "\n",
    "Now, I record the difference between the tweet's creation time and associated account's creation time for each tweet."
   ]
  },
  {
   "cell_type": "code",
   "execution_count": 9,
   "metadata": {},
   "outputs": [],
   "source": [
    "age_at_post = []\n",
    "\n",
    "for i in range(len(acct_start)):\n",
    "    # Get the account creation date and post date\n",
    "    a = acct_start[i]\n",
    "    b = dfs['created_at'][i]\n",
    "    \n",
    "    # Convert both into the same Timestamp format\n",
    "    a = pd.Timestamp(a).tz_localize(None)\n",
    "    b = pd.Timestamp(b).tz_localize(None)\n",
    "    \n",
    "    # Calculate the age at posting in seconds\n",
    "    age_at_post.append((b - a).total_seconds())\n",
    "    "
   ]
  },
  {
   "cell_type": "markdown",
   "metadata": {},
   "source": [
    "**Convert to days**\n",
    "\n",
    "I convert the account age at time of posting from seconds to days."
   ]
  },
  {
   "cell_type": "code",
   "execution_count": 10,
   "metadata": {},
   "outputs": [],
   "source": [
    "seconds_in_day = 60 * 60 * 24\n",
    "age_at_post_days = [x / seconds_in_day for x in age_at_post]"
   ]
  },
  {
   "cell_type": "markdown",
   "metadata": {},
   "source": [
    "&nbsp;\n",
    "### Visualizing Account Ages\n",
    "Below I visualize the spread of account ages at time of posting. I also display some summary statistics in the following cell. As expected, the distribution implies that the accounts have been created throughout the existence of Twitter, with the average age being a few years."
   ]
  },
  {
   "cell_type": "code",
   "execution_count": 11,
   "metadata": {
    "scrolled": true
   },
   "outputs": [
    {
     "data": {
      "text/plain": [
       "Text(0, 0.5, 'Accounts')"
      ]
     },
     "execution_count": 11,
     "metadata": {},
     "output_type": "execute_result"
    },
    {
     "data": {
      "image/png": "[encoded data removed]",
      "text/plain": [
       "<Figure size 432x288 with 1 Axes>"
      ]
     },
     "metadata": {
      "needs_background": "light"
     },
     "output_type": "display_data"
    }
   ],
   "source": [
    "plt.hist(age_at_post_days, bins=20)\n",
    "plt.title(\"Distribution of Account Age at Posting Time\")\n",
    "plt.xlabel(\"Days\")\n",
    "plt.ylabel(\"Accounts\")"
   ]
  },
  {
   "cell_type": "code",
   "execution_count": 12,
   "metadata": {
    "scrolled": true
   },
   "outputs": [
    {
     "data": {
      "text/plain": [
       "DescribeResult(nobs=54606, minmax=(0.001388888888888889, 4451.296400462963), mean=2006.903889598094, variance=1220622.339959223, skewness=-0.16379952022070168, kurtosis=-1.1726402652229686)"
      ]
     },
     "execution_count": 12,
     "metadata": {},
     "output_type": "execute_result"
    }
   ],
   "source": [
    "stats.describe(age_at_post_days)"
   ]
  },
  {
   "cell_type": "code",
   "execution_count": 13,
   "metadata": {
    "scrolled": true
   },
   "outputs": [
    {
     "data": {
      "text/plain": [
       "{'id': 1674050738,\n",
       " 'id_str': '1674050738',\n",
       " 'name': 'Catherine Maron',\n",
       " 'screen_name': 'CCmmaron',\n",
       " 'location': '',\n",
       " 'description': 'Proud mom of 3, grateful daughter and partner, teacher and life-long learner.',\n",
       " 'url': None,\n",
       " 'entities': {'description': {'urls': []}},\n",
       " 'protected': False,\n",
       " 'followers_count': 20,\n",
       " 'friends_count': 143,\n",
       " 'listed_count': 0,\n",
       " 'created_at': 'Thu Aug 15 20:56:49 +0000 2013',\n",
       " 'favourites_count': 74,\n",
       " 'utc_offset': None,\n",
       " 'time_zone': None,\n",
       " 'geo_enabled': False,\n",
       " 'verified': False,\n",
       " 'statuses_count': 67,\n",
       " 'lang': None,\n",
       " 'contributors_enabled': False,\n",
       " 'is_translator': False,\n",
       " 'is_translation_enabled': False,\n",
       " 'profile_background_color': 'C0DEED',\n",
       " 'profile_background_image_url': 'http://abs.twimg.com/images/themes/theme1/bg.png',\n",
       " 'profile_background_image_url_https': 'https://abs.twimg.com/images/themes/theme1/bg.png',\n",
       " 'profile_background_tile': False,\n",
       " 'profile_image_url': 'http://pbs.twimg.com/profile_images/946702944812064769/G9nrKQbU_normal.jpg',\n",
       " 'profile_image_url_https': 'https://pbs.twimg.com/profile_images/946702944812064769/G9nrKQbU_normal.jpg',\n",
       " 'profile_banner_url': 'https://pbs.twimg.com/profile_banners/1674050738/1519188356',\n",
       " 'profile_image_extensions_alt_text': None,\n",
       " 'profile_banner_extensions_alt_text': None,\n",
       " 'profile_link_color': '1DA1F2',\n",
       " 'profile_sidebar_border_color': 'C0DEED',\n",
       " 'profile_sidebar_fill_color': 'DDEEF6',\n",
       " 'profile_text_color': '333333',\n",
       " 'profile_use_background_image': True,\n",
       " 'has_extended_profile': False,\n",
       " 'default_profile': True,\n",
       " 'default_profile_image': False,\n",
       " 'following': False,\n",
       " 'follow_request_sent': False,\n",
       " 'notifications': False,\n",
       " 'translator_type': 'none'}"
      ]
     },
     "execution_count": 13,
     "metadata": {},
     "output_type": "execute_result"
    }
   ],
   "source": [
    "dfs[\"user\"][0]"
   ]
  },
  {
   "cell_type": "markdown",
   "metadata": {},
   "source": [
    "&nbsp;\n",
    "### Posting Frequency Calculations\n",
    "Another suspicious account feature which is intuitively a good indicator of inorganic activity is an account's posting frequency. Fake accounts, especially bots, are made with the goal of spreading or magnifying some message, therefore they are used to perform large amounts of activity (such as retweeting, which counts as a tweet) relative to the average human user.\n",
    "\n",
    "&nbsp;\n",
    "\n",
    "**Calculate number of posts**\n",
    "\n",
    "First I calculate the number of posts made by the account associated with each tweet."
   ]
  },
  {
   "cell_type": "code",
   "execution_count": 14,
   "metadata": {},
   "outputs": [],
   "source": [
    "num_posts = []\n",
    "for i in range(len(dfs)):\n",
    "    num = dfs['user'][i]['statuses_count']\n",
    "    num_posts.append(num)"
   ]
  },
  {
   "cell_type": "markdown",
   "metadata": {},
   "source": [
    "As evidenced by some summary statistics, there are posting amounts which are suspiciously high."
   ]
  },
  {
   "cell_type": "code",
   "execution_count": 15,
   "metadata": {
    "scrolled": true
   },
   "outputs": [
    {
     "data": {
      "text/plain": [
       "DescribeResult(nobs=54606, minmax=(1, 3655420), mean=74751.57246456433, variance=21746165132.687603, skewness=7.0802519805446655, kurtosis=98.92684000569524)"
      ]
     },
     "execution_count": 15,
     "metadata": {},
     "output_type": "execute_result"
    }
   ],
   "source": [
    "stats.describe(num_posts)"
   ]
  },
  {
   "cell_type": "markdown",
   "metadata": {},
   "source": [
    "**Caluclate frequency**\n",
    "\n",
    "Next I calculate the frequency of posts (ratio of total posts versus account age) for the account associated with each tweet."
   ]
  },
  {
   "cell_type": "code",
   "execution_count": 16,
   "metadata": {},
   "outputs": [],
   "source": [
    "post_freq = []\n",
    "\n",
    "for i in range(len(dfs)):\n",
    "    num_posts = dfs['user'][i]['statuses_count']\n",
    "    age = age_at_post_days[i]\n",
    "    frequency = num_posts / age\n",
    "    post_freq.append(frequency)"
   ]
  },
  {
   "cell_type": "markdown",
   "metadata": {},
   "source": [
    "&nbsp;\n",
    "### Visualizing Posting Frequencies\n",
    "Below I visualize the spread of posting frequencies associated with each tweet's account. I also display some summary statistics in the following cell. \n",
    "\n",
    "The resulting distribution indicates some very extreme outliers. Posting frequencies of tens of thousands of tweets per day are a huge red flag, as it is totally unfeasible for a human to perform. The vast majority of posting frequencies fall below the mean of 91 (which is heavily skewed by the outliers)."
   ]
  },
  {
   "cell_type": "code",
   "execution_count": 17,
   "metadata": {
    "scrolled": true
   },
   "outputs": [
    {
     "data": {
      "text/plain": [
       "Text(0, 0.5, 'Accounts')"
      ]
     },
     "execution_count": 17,
     "metadata": {},
     "output_type": "execute_result"
    },
    {
     "data": {
      "image/png": "[encoded data removed]",
      "text/plain": [
       "<Figure size 432x288 with 1 Axes>"
      ]
     },
     "metadata": {
      "needs_background": "light"
     },
     "output_type": "display_data"
    }
   ],
   "source": [
    "plt.hist(post_freq, bins=20)\n",
    "plt.title(\"Distribution of Posting Frequency\")\n",
    "plt.xlabel(\"Posts per Day\")\n",
    "plt.ylabel(\"Accounts\")"
   ]
  },
  {
   "cell_type": "code",
   "execution_count": 18,
   "metadata": {
    "scrolled": true
   },
   "outputs": [
    {
     "data": {
      "text/plain": [
       "DescribeResult(nobs=54606, minmax=(0.000580973055767449, 142815.7090579847), mean=91.98627413104639, variance=1558403.1677854308, skewness=71.40248719385137, kurtosis=6228.969220544044)"
      ]
     },
     "execution_count": 18,
     "metadata": {},
     "output_type": "execute_result"
    }
   ],
   "source": [
    "stats.describe(post_freq)"
   ]
  },
  {
   "cell_type": "markdown",
   "metadata": {},
   "source": [
    "&nbsp;\n",
    "### Bio Length Calculations\n",
    "Though less strongly indicative of artificial activity, two features related to the user account information might be indicative of fake accounts. Below I look into the length of bio, or 'description, for the account associated with each tweet.\n",
    "\n",
    "&nbsp;\n",
    "\n",
    "**Calculate bio length**\n",
    "\n",
    "I calculate the length of the 'description' string for the account associated with each tweet."
   ]
  },
  {
   "cell_type": "code",
   "execution_count": 19,
   "metadata": {},
   "outputs": [],
   "source": [
    "bio_len = []\n",
    "for i in range(len(dfs)):\n",
    "    length = len(dfs['user'][i]['description'])\n",
    "    bio_len.append(length)"
   ]
  },
  {
   "cell_type": "markdown",
   "metadata": {},
   "source": [
    "&nbsp;\n",
    "### Visualizing Bio Lengths\n",
    "Here I visualize the spread of bio lengths (in characters).  I also display some summary statistics in the following cell.\n",
    "\n",
    "The distribution appears bimodal, with large numbers of accounts at each end of the length spectrum. As evidenced further down, when I take a look at some sample accounts, the bio length is not as useful of a feature for identifying 'fake' accounts."
   ]
  },
  {
   "cell_type": "code",
   "execution_count": 20,
   "metadata": {
    "scrolled": false
   },
   "outputs": [
    {
     "data": {
      "text/plain": [
       "Text(0, 0.5, 'Accounts')"
      ]
     },
     "execution_count": 20,
     "metadata": {},
     "output_type": "execute_result"
    },
    {
     "data": {
      "image/png": "[encoded data removed]",
      "text/plain": [
       "<Figure size 432x288 with 1 Axes>"
      ]
     },
     "metadata": {
      "needs_background": "light"
     },
     "output_type": "display_data"
    }
   ],
   "source": [
    "plt.hist(bio_len)\n",
    "plt.title(\"Distribution of Account Bio Length\")\n",
    "plt.xlabel(\"Characters\")\n",
    "plt.ylabel(\"Accounts\")"
   ]
  },
  {
   "cell_type": "code",
   "execution_count": 190,
   "metadata": {
    "scrolled": true
   },
   "outputs": [
    {
     "data": {
      "text/plain": [
       "DescribeResult(nobs=54606, minmax=(0, 230), mean=92.64926931106471, variance=3259.9845216710105, skewness=-0.37553935975398567, kurtosis=-1.3379136618555223)"
      ]
     },
     "execution_count": 190,
     "metadata": {},
     "output_type": "execute_result"
    }
   ],
   "source": [
    "stats.describe(bio_len)"
   ]
  },
  {
   "cell_type": "markdown",
   "metadata": {},
   "source": [
    "&nbsp;\n",
    "### Percent of Numbers in Name Calculations\n",
    "As a final user account feature to explore, I look at the percentage of numerical digits in an account's screen name, or 'handle'. According to [this Mozilla resource](https://blog.mozilla.org/internetcitizen/2018/01/08/irl-how-to-spot-a-bot/) referenced in the 'Background' section above, account names with a jumble of letters and numbers can be indicative of bots. This makes sense, as creating batches of accounts in some automated fashion would be easier if generating such names.\n",
    "\n",
    "&nbsp;\n",
    "\n",
    "**Calculate percentage**\n",
    "\n",
    "I calculate the percentage of numerical digits (0 through 9) present in the account screen name associated with each tweet. I use a helper function defined above to do this."
   ]
  },
  {
   "cell_type": "code",
   "execution_count": 21,
   "metadata": {},
   "outputs": [],
   "source": [
    "num_in_name = []\n",
    "\n",
    "for i in range(len(dfs)):\n",
    "    percent_num = percentNumbers(dfs['user'][i]['screen_name'])\n",
    "    num_in_name.append(percent_num)"
   ]
  },
  {
   "cell_type": "markdown",
   "metadata": {},
   "source": [
    "&nbsp;\n",
    "### Visualizing Percent of Numbers in Names\n",
    "Below I visualize the spread of percentages of numerical digits in accounts' screen names. I also display some summary statistics in the following cell.\n",
    "\n",
    "Like posting frequency, this is a very skewed distribution. The bulk of accounts have less than 10% numbers in their screen names, yet some accounts go up to more than 50% of their names being numbers."
   ]
  },
  {
   "cell_type": "code",
   "execution_count": 22,
   "metadata": {
    "scrolled": false
   },
   "outputs": [
    {
     "data": {
      "text/plain": [
       "Text(0, 0.5, 'Accounts')"
      ]
     },
     "execution_count": 22,
     "metadata": {},
     "output_type": "execute_result"
    },
    {
     "data": {
      "image/png": "[encoded data removed]",
      "text/plain": [
       "<Figure size 432x288 with 1 Axes>"
      ]
     },
     "metadata": {
      "needs_background": "light"
     },
     "output_type": "display_data"
    }
   ],
   "source": [
    "plt.hist(num_in_name)\n",
    "plt.title(\"Distribution of Numbers in Screen Names\")\n",
    "plt.xlabel(\"Percentage of Name\")\n",
    "plt.ylabel(\"Accounts\")"
   ]
  },
  {
   "cell_type": "code",
   "execution_count": 23,
   "metadata": {},
   "outputs": [
    {
     "data": {
      "text/plain": [
       "DescribeResult(nobs=54606, minmax=(0.0, 1.0), mean=0.061592315832234526, variance=0.017366093837537244, skewness=2.5265328610515523, kurtosis=6.561384560140549)"
      ]
     },
     "execution_count": 23,
     "metadata": {},
     "output_type": "execute_result"
    }
   ],
   "source": [
    "stats.describe(num_in_name)"
   ]
  },
  {
   "cell_type": "markdown",
   "metadata": {},
   "source": [
    "&nbsp;\n",
    "### Visualizing Tweets Based on Suspect Account Features\n",
    "Below I plot the tweets according to the 3 of the potentially identifying features for inorganic activity:\n",
    "- Account Age at Time of Posting\n",
    "- Percent of Numbers in Name\n",
    "- Posting Frequency\n",
    "\n",
    "As can be observed, there are several accounts which are clear stand outs. An interesting observation is that the **bio length** is not really as useful of a differentiator as **posting frequency** and **account age**. **Posting frequency** appears to be the greatest distinguishing factor, and the highest posting frequencies are all for *very* young accounts. This is what would be expected for bot accounts. No human user would reasonably post tens of thousands of tweets within a day of making an account."
   ]
  },
  {
   "cell_type": "code",
   "execution_count": 24,
   "metadata": {
    "scrolled": false
   },
   "outputs": [
    {
     "data": {
      "text/plain": [
       "<mpl_toolkits.mplot3d.art3d.Path3DCollection at 0x7f6eeac1cf28>"
      ]
     },
     "execution_count": 24,
     "metadata": {},
     "output_type": "execute_result"
    },
    {
     "data": {
      "image/png": "[encoded data removed]",
      "text/plain": [
       "<Figure size 432x432 with 1 Axes>"
      ]
     },
     "metadata": {
      "needs_background": "light"
     },
     "output_type": "display_data"
    }
   ],
   "source": [
    "fig = plt.figure(figsize=(6, 6))\n",
    "ax = Axes3D(fig)\n",
    "ax.set_title(\"Tweets Plotted by Account Features\")\n",
    "ax.set_xlabel(\"Account Age in Days\")\n",
    "ax.set_ylabel(\"Percent Numbers in Name\")\n",
    "ax.set_zlabel(\"Posting Frequency (Posts/Day)\")\n",
    "ax.scatter(age_at_post_days, num_in_name, post_freq)"
   ]
  },
  {
   "cell_type": "markdown",
   "metadata": {},
   "source": [
    "&nbsp;\n",
    "## Adding Features to the Dataframe\n",
    "In this section I add both the user features selected above and a couple of feature related to content to the main dataframe. This way, once the clustering is performed on the user features, the dataframe can be separated while already containing the content features that will be needed for analysis.\n",
    "\n",
    "&nbsp;\n",
    "\n",
    "**User features columns**\n",
    "\n",
    "First I add a column for each user feature calculated."
   ]
  },
  {
   "cell_type": "code",
   "execution_count": 25,
   "metadata": {
    "scrolled": true
   },
   "outputs": [],
   "source": [
    "dfs['posting_age'] = age_at_post_days\n",
    "dfs['num_in_name'] = num_in_name\n",
    "dfs['posting_frequency'] = post_freq"
   ]
  },
  {
   "cell_type": "markdown",
   "metadata": {},
   "source": [
    "**Content features columns**\n",
    "\n",
    "I add a column for the presence of URLs (boolean), and the sentiment (positive and negative) rating in each tweet.\n",
    "\n",
    "First I use the Vader sentiment analysis tool from the NLTK python package to generate sentiment scores to associate with each tweet. I add these as a column."
   ]
  },
  {
   "cell_type": "code",
   "execution_count": 26,
   "metadata": {},
   "outputs": [],
   "source": [
    "# initialize the sentiment analysis tool\n",
    "sid = SentimentIntensityAnalyzer()\n",
    "\n",
    "# define lists to contain positive and negative scores for each tweet\n",
    "pos_score = []\n",
    "neg_score = []\n",
    "\n",
    "for i in range(len(dfs)):\n",
    "    # calculate the scores for this tweet\n",
    "    scores = sid.polarity_scores(dfs['full_text'][i])\n",
    "    positive = scores['pos']\n",
    "    negative = scores['neg']\n",
    "    \n",
    "    # add them to the respective lists\n",
    "    pos_score.append(positive)\n",
    "    neg_score.append(negative)\n",
    "    \n",
    "    "
   ]
  },
  {
   "cell_type": "markdown",
   "metadata": {},
   "source": [
    "Now I use my helper function to mark the presence of URLs in each tweet."
   ]
  },
  {
   "cell_type": "code",
   "execution_count": 27,
   "metadata": {},
   "outputs": [],
   "source": [
    "has_url = []\n",
    "\n",
    "for i in range(len(dfs)):\n",
    "    presence = listNotEmpty(dfs['entities'][i]['urls'])\n",
    "    has_url.append(presence)"
   ]
  },
  {
   "cell_type": "markdown",
   "metadata": {},
   "source": [
    "**Add content feature columns**\n",
    "\n",
    "Next I add these three content features (positive rating, negative rating, url presence) as columns to the dataframe."
   ]
  },
  {
   "cell_type": "code",
   "execution_count": 28,
   "metadata": {},
   "outputs": [],
   "source": [
    "dfs['pos'] = pos_score\n",
    "dfs['neg'] = neg_score\n",
    "dfs['has_url'] = has_url"
   ]
  },
  {
   "cell_type": "markdown",
   "metadata": {},
   "source": [
    "&nbsp;\n",
    "## Clustering and Manual Selection\n",
    "Below I perform simple k means clustering on the selected user features, and I also perform a manual selection using cutoffs for these features. I do this because the nature of what I am trying to isolate (a small percentage of accounts with intuitive and interpretable distinctions in features) does not lend itself to basic clustering where the cluster shape and size is assumed.\n",
    "\n",
    "Manual selection is acceptable because the features being used are very easily interpretable - it makes intuitive sense to say that a human user would not have a posting frequency of above 1,000 tweets per day, while also having an account a day or two old.\n",
    "\n",
    "&nbsp;\n",
    "\n",
    "**Select clustering features**\n",
    "\n",
    "First I isolate the features being clustered on."
   ]
  },
  {
   "cell_type": "code",
   "execution_count": 69,
   "metadata": {},
   "outputs": [],
   "source": [
    "cluster_features = dfs[['posting_age', 'num_in_name', 'posting_frequency']]"
   ]
  },
  {
   "cell_type": "markdown",
   "metadata": {},
   "source": [
    "**Train a K Means model on the whole dataset**\n",
    "\n",
    "I show the results of training over the whole dataset simply to ovserve how adequate the method may be for selecting the suspicious accounts. Thankfully the accounts we want to target are clearly visible and justified already so we can evaluate based on this.\n",
    "\n",
    "The apparent result is that two of our clusters capture the most suspicious data points."
   ]
  },
  {
   "cell_type": "code",
   "execution_count": 73,
   "metadata": {
    "scrolled": false
   },
   "outputs": [
    {
     "data": {
      "text/plain": [
       "<mpl_toolkits.mplot3d.art3d.Path3DCollection at 0x7f6ed7c03f98>"
      ]
     },
     "execution_count": 73,
     "metadata": {},
     "output_type": "execute_result"
    },
    {
     "data": {
      "image/png": "[encoded data removed]",
      "text/plain": [
       "<Figure size 432x288 with 1 Axes>"
      ]
     },
     "metadata": {
      "needs_background": "light"
     },
     "output_type": "display_data"
    }
   ],
   "source": [
    "kmeans = KMeans(n_clusters=4).fit(cluster_features)\n",
    "predictions = kmeans.predict(cluster_features)\n",
    "fig = plt.figure()\n",
    "ax = Axes3D(fig)\n",
    "ax.scatter(cluster_features['posting_age'], cluster_features['num_in_name'], cluster_features['posting_frequency'], \n",
    "            c=predictions)"
   ]
  },
  {
   "cell_type": "markdown",
   "metadata": {},
   "source": [
    "**Select tweets from the suspicious clusters**\n",
    "\n",
    "Here I select the 27 tweets which have the most suspicious user account features based on clustering."
   ]
  },
  {
   "cell_type": "code",
   "execution_count": 74,
   "metadata": {},
   "outputs": [],
   "source": [
    "dfs['cluster'] = predictions"
   ]
  },
  {
   "cell_type": "code",
   "execution_count": 79,
   "metadata": {},
   "outputs": [],
   "source": [
    "dfs_select = dfs.loc[(dfs['cluster'] == 3) | (dfs['cluster'] == 2)]"
   ]
  },
  {
   "cell_type": "markdown",
   "metadata": {},
   "source": [
    "I also select suspicious data points using some manual feature cutoffs based on my own intuitive understanding of these features."
   ]
  },
  {
   "cell_type": "code",
   "execution_count": 80,
   "metadata": {},
   "outputs": [],
   "source": [
    "dfs_manual = dfs.loc[(dfs['posting_age'] < 2) | (dfs['posting_frequency'] > 1000)]"
   ]
  },
  {
   "cell_type": "markdown",
   "metadata": {},
   "source": [
    "&nbsp;\n",
    "## Hashtag Use Calculation\n",
    "Below I calculate the last feature I am interested in for analyzing between suspicious accounts and the rest: the use of hashtags. \n",
    "\n",
    "In the following two cells, I generate a list of all hashtags used in both the clustering selection and the manual selection of tweets."
   ]
  },
  {
   "cell_type": "code",
   "execution_count": 81,
   "metadata": {},
   "outputs": [],
   "source": [
    "dfs_select = dfs_select.reset_index(drop=True)\n",
    "dfs_manual = dfs_manual.reset_index(drop=True)"
   ]
  },
  {
   "cell_type": "code",
   "execution_count": 82,
   "metadata": {
    "scrolled": true
   },
   "outputs": [],
   "source": [
    "hashtags_cluster = []\n",
    "for i in dfs_select['full_text']:\n",
    "    for word in i.split():\n",
    "        if word[0] == '#':\n",
    "            hashtags_cluster.append(word[1:])"
   ]
  },
  {
   "cell_type": "code",
   "execution_count": 83,
   "metadata": {},
   "outputs": [],
   "source": [
    "hashtags_manual = []\n",
    "for i in dfs_manual['full_text']:\n",
    "    for word in i.split():\n",
    "        if word[0] == '#':\n",
    "            hashtags_manual.append(word[1:])"
   ]
  },
  {
   "cell_type": "markdown",
   "metadata": {},
   "source": [
    "Also create a list for hashtags overall."
   ]
  },
  {
   "cell_type": "code",
   "execution_count": 84,
   "metadata": {},
   "outputs": [],
   "source": [
    "hashtags_all = []\n",
    "for i in dfs['full_text']:\n",
    "    for word in i.split():\n",
    "        if word[0] == '#':\n",
    "            hashtags_all.append(word[1:])"
   ]
  },
  {
   "cell_type": "markdown",
   "metadata": {},
   "source": [
    "&nbsp;\n",
    "## Examining the Differences\n",
    "In this section I compare the content features for the selected suspicious tweets versus the overall tweets.\n",
    "\n",
    "First I get the hashtag counts for tweets in each grouping."
   ]
  },
  {
   "cell_type": "code",
   "execution_count": 85,
   "metadata": {},
   "outputs": [],
   "source": [
    "all_hash_count = Counter(hashtags_all)\n",
    "cluster_hash_count = Counter(hashtags_cluster)\n",
    "manual_hash_count = Counter(hashtags_manual)"
   ]
  },
  {
   "cell_type": "markdown",
   "metadata": {},
   "source": [
    "### Visualizing Hashtag Usage\n",
    "Below I visualize the top 5 hashtags by the percent they make up of total hashtags in each of the selections."
   ]
  },
  {
   "cell_type": "code",
   "execution_count": 86,
   "metadata": {
    "scrolled": true
   },
   "outputs": [
    {
     "data": {
      "text/plain": [
       "Text(0, 0.5, 'Percentage of hashtags')"
      ]
     },
     "execution_count": 86,
     "metadata": {},
     "output_type": "execute_result"
    },
    {
     "data": {
      "image/png": "[encoded data removed]",
      "text/plain": [
       "<Figure size 432x288 with 1 Axes>"
      ]
     },
     "metadata": {
      "needs_background": "light"
     },
     "output_type": "display_data"
    }
   ],
   "source": [
    "plt.bar([i[0] for i in all_hash_count.most_common(5)], \n",
    "        [i[1] / len(hashtags_all) for i in all_hash_count.most_common(5)])\n",
    "plt.title('Most Common Hashtags Overall')\n",
    "plt.ylabel('Percentage of hashtags')"
   ]
  },
  {
   "cell_type": "code",
   "execution_count": 87,
   "metadata": {
    "scrolled": true
   },
   "outputs": [
    {
     "data": {
      "text/plain": [
       "Text(0, 0.5, 'Percentage of hashtags')"
      ]
     },
     "execution_count": 87,
     "metadata": {},
     "output_type": "execute_result"
    },
    {
     "data": {
      "image/png": "[encoded data removed]",
      "text/plain": [
       "<Figure size 432x288 with 1 Axes>"
      ]
     },
     "metadata": {
      "needs_background": "light"
     },
     "output_type": "display_data"
    }
   ],
   "source": [
    "plt.bar([i[0] for i in cluster_hash_count.most_common(5)], \n",
    "        [i[1] / len(hashtags_cluster) for i in cluster_hash_count.most_common(5)])\n",
    "plt.title('Most Common Hashtags in Cluster Selection')\n",
    "plt.ylabel('Percentage of hashtags')"
   ]
  },
  {
   "cell_type": "code",
   "execution_count": 88,
   "metadata": {
    "scrolled": true
   },
   "outputs": [
    {
     "data": {
      "text/plain": [
       "Text(0, 0.5, 'Percentage of hashtags')"
      ]
     },
     "execution_count": 88,
     "metadata": {},
     "output_type": "execute_result"
    },
    {
     "data": {
      "image/png": "[encoded data removed]",
      "text/plain": [
       "<Figure size 432x288 with 1 Axes>"
      ]
     },
     "metadata": {
      "needs_background": "light"
     },
     "output_type": "display_data"
    }
   ],
   "source": [
    "plt.bar([i[0] for i in manual_hash_count.most_common(5)], \n",
    "        [i[1] / len(hashtags_manual) for i in manual_hash_count.most_common(5)])\n",
    "plt.title('Most Common Hashtags in Manual Selection')\n",
    "plt.ylabel('Percentage of hashtags')"
   ]
  },
  {
   "cell_type": "markdown",
   "metadata": {},
   "source": [
    "### Use of Hashtags Insights\n",
    "The tweets selected by clustering show a significant difference in the top 5 used hashtags, though the topics suggested by these do not appear to have a negative tilt towards climate change: the top hashtag \"#Plant4Pakistan\" refers to a tree planting initiative, and \"#WaronWaste\" referes to a public initiative to limit trash.\n",
    "\n",
    "Overall it appears the general use of hashtags is not a sufficient analysis to suggest political astroturfing by the accounts we suspect of being bots.\n"
   ]
  },
  {
   "cell_type": "markdown",
   "metadata": {},
   "source": [
    "&nbsp;\n",
    "### Visualizing URL Use\n",
    "Below I visualize the use of URLs in each of the selections."
   ]
  },
  {
   "cell_type": "code",
   "execution_count": 89,
   "metadata": {},
   "outputs": [],
   "source": [
    "overall_url = dfs['has_url'].value_counts() / len(dfs)\n",
    "select_url = dfs_select['has_url'].value_counts() / len(dfs_select)\n",
    "manual_url = dfs_manual['has_url'].value_counts() / len(dfs_manual)"
   ]
  },
  {
   "cell_type": "code",
   "execution_count": 90,
   "metadata": {},
   "outputs": [
    {
     "data": {
      "text/plain": [
       "Text(0, 0.5, 'Percentage')"
      ]
     },
     "execution_count": 90,
     "metadata": {},
     "output_type": "execute_result"
    },
    {
     "data": {
      "image/png": "[encoded data removed]",
      "text/plain": [
       "<Figure size 432x288 with 1 Axes>"
      ]
     },
     "metadata": {
      "needs_background": "light"
     },
     "output_type": "display_data"
    }
   ],
   "source": [
    "overall_url.plot(kind='bar')\n",
    "plt.title(\"URL Use Overall\")\n",
    "plt.ylabel(\"Percentage\")"
   ]
  },
  {
   "cell_type": "code",
   "execution_count": 91,
   "metadata": {
    "scrolled": false
   },
   "outputs": [
    {
     "data": {
      "text/plain": [
       "Text(0, 0.5, 'Percentage')"
      ]
     },
     "execution_count": 91,
     "metadata": {},
     "output_type": "execute_result"
    },
    {
     "data": {
      "image/png": "[encoded data removed]",
      "text/plain": [
       "<Figure size 432x288 with 1 Axes>"
      ]
     },
     "metadata": {
      "needs_background": "light"
     },
     "output_type": "display_data"
    }
   ],
   "source": [
    "select_url.plot(kind='bar')\n",
    "plt.title(\"URL Use for Cluster Selection\")\n",
    "plt.ylabel(\"Percentage\")"
   ]
  },
  {
   "cell_type": "code",
   "execution_count": 92,
   "metadata": {
    "scrolled": false
   },
   "outputs": [
    {
     "data": {
      "text/plain": [
       "Text(0, 0.5, 'Percentage')"
      ]
     },
     "execution_count": 92,
     "metadata": {},
     "output_type": "execute_result"
    },
    {
     "data": {
      "image/png": "[encoded data removed]",
      "text/plain": [
       "<Figure size 432x288 with 1 Axes>"
      ]
     },
     "metadata": {
      "needs_background": "light"
     },
     "output_type": "display_data"
    }
   ],
   "source": [
    "manual_url.plot(kind='bar')\n",
    "plt.title(\"URL Use for Manual Selection\")\n",
    "plt.ylabel(\"Percentage\")"
   ]
  },
  {
   "cell_type": "markdown",
   "metadata": {},
   "source": [
    "### Use of URLs Insights\n",
    "The tweets selected by clustering show a difference in the percentage of tweets using URLs. Where overall, URLs are used in around 30% of the tweets, they are used in less than 20% of the tweets from suspicious accounts. This could be explained by a high number of retweets - it does not match our intuition from background reading.\n",
    "\n",
    "This breakdown does suggest a difference in posting activity for the suspected bot accounts versus overall, and the difference lines up with intuitive expecations."
   ]
  },
  {
   "cell_type": "markdown",
   "metadata": {},
   "source": [
    "&nbsp;\n",
    "### Exploring Sentiment\n",
    "Below I visualize the sentiment breakdown in each grouping."
   ]
  },
  {
   "cell_type": "markdown",
   "metadata": {},
   "source": [
    "**Sentiment for Overall**"
   ]
  },
  {
   "cell_type": "code",
   "execution_count": 93,
   "metadata": {},
   "outputs": [],
   "source": [
    "all_sentiment = dfs[['pos', 'neg']]"
   ]
  },
  {
   "cell_type": "code",
   "execution_count": 94,
   "metadata": {},
   "outputs": [
    {
     "name": "stdout",
     "output_type": "stream",
     "text": [
      "Positive:\n",
      "0.08008422151411933\n",
      "Negative\n",
      "0.08898069809178479\n"
     ]
    }
   ],
   "source": [
    "print(\"Positive:\")\n",
    "print(np.mean(all_sentiment['pos']))\n",
    "print(\"Negative\")\n",
    "print(np.mean(all_sentiment['neg']))"
   ]
  },
  {
   "cell_type": "markdown",
   "metadata": {},
   "source": [
    "**Sentiment for Clustered Selection**"
   ]
  },
  {
   "cell_type": "code",
   "execution_count": 95,
   "metadata": {},
   "outputs": [
    {
     "name": "stdout",
     "output_type": "stream",
     "text": [
      "Positive:\n",
      "0.06244444444444445\n",
      "Negative:\n",
      "0.10944444444444444\n"
     ]
    }
   ],
   "source": [
    "cluster_sentiment = dfs_select[['pos', 'neg']]\n",
    "print(\"Positive:\")\n",
    "print(np.mean(cluster_sentiment['pos']))\n",
    "print(\"Negative:\")\n",
    "print(np.mean(cluster_sentiment['neg']))"
   ]
  },
  {
   "cell_type": "markdown",
   "metadata": {},
   "source": [
    "**Sentiment for Manual Selection**"
   ]
  },
  {
   "cell_type": "code",
   "execution_count": 96,
   "metadata": {
    "scrolled": true
   },
   "outputs": [
    {
     "name": "stdout",
     "output_type": "stream",
     "text": [
      "Positive:\n",
      "0.08076138828633404\n",
      "Negative:\n",
      "0.08218221258134491\n"
     ]
    }
   ],
   "source": [
    "manual_sentiment = dfs_manual[['pos', 'neg']]\n",
    "print(\"Positive:\")\n",
    "print(np.mean(manual_sentiment['pos']))\n",
    "print(\"Negative:\")\n",
    "print(np.mean(manual_sentiment['neg']))"
   ]
  },
  {
   "cell_type": "code",
   "execution_count": 107,
   "metadata": {
    "scrolled": true
   },
   "outputs": [
    {
     "data": {
      "text/html": [
       "<div>\n",
       "<style scoped>\n",
       "    .dataframe tbody tr th:only-of-type {\n",
       "        vertical-align: middle;\n",
       "    }\n",
       "\n",
       "    .dataframe tbody tr th {\n",
       "        vertical-align: top;\n",
       "    }\n",
       "\n",
       "    .dataframe thead th {\n",
       "        text-align: right;\n",
       "    }\n",
       "</style>\n",
       "<table border=\"1\" class=\"dataframe\">\n",
       "  <thead>\n",
       "    <tr style=\"text-align: right;\">\n",
       "      <th></th>\n",
       "      <th>created_at</th>\n",
       "      <th>id</th>\n",
       "      <th>id_str</th>\n",
       "      <th>full_text</th>\n",
       "      <th>truncated</th>\n",
       "      <th>display_text_range</th>\n",
       "      <th>entities</th>\n",
       "      <th>source</th>\n",
       "      <th>in_reply_to_status_id</th>\n",
       "      <th>in_reply_to_status_id_str</th>\n",
       "      <th>...</th>\n",
       "      <th>retweeted_status</th>\n",
       "      <th>extended_entities</th>\n",
       "      <th>withheld_in_countries</th>\n",
       "      <th>posting_age</th>\n",
       "      <th>num_in_name</th>\n",
       "      <th>posting_frequency</th>\n",
       "      <th>pos</th>\n",
       "      <th>neg</th>\n",
       "      <th>has_url</th>\n",
       "      <th>cluster</th>\n",
       "    </tr>\n",
       "  </thead>\n",
       "  <tbody>\n",
       "    <tr>\n",
       "      <th>0</th>\n",
       "      <td>2018-09-12 06:31:06+00:00</td>\n",
       "      <td>1039763314337820672</td>\n",
       "      <td>1039763314337820672</td>\n",
       "      <td>Looking forward to meeting @craigreucassel ton...</td>\n",
       "      <td>False</td>\n",
       "      <td>[0, 139]</td>\n",
       "      <td>{'hashtags': [{'text': 'WaronWaste', 'indices'...</td>\n",
       "      <td>&lt;a href=\"http://twitter.com\" rel=\"nofollow\"&gt;Tw...</td>\n",
       "      <td>NaN</td>\n",
       "      <td>NaN</td>\n",
       "      <td>...</td>\n",
       "      <td>NaN</td>\n",
       "      <td>{'media': [{'id': 1039762810459250688, 'id_str...</td>\n",
       "      <td>NaN</td>\n",
       "      <td>0.013160</td>\n",
       "      <td>0.000000</td>\n",
       "      <td>81840.633245</td>\n",
       "      <td>0.000</td>\n",
       "      <td>0.261</td>\n",
       "      <td>False</td>\n",
       "      <td>2</td>\n",
       "    </tr>\n",
       "    <tr>\n",
       "      <th>1</th>\n",
       "      <td>2018-08-07 17:15:49+00:00</td>\n",
       "      <td>1026879598481563648</td>\n",
       "      <td>1026879598481563648</td>\n",
       "      <td>RT @JerryDunleavy: Bill Cosby, Kevin Spacey, a...</td>\n",
       "      <td>False</td>\n",
       "      <td>[0, 140]</td>\n",
       "      <td>{'hashtags': [], 'symbols': [], 'user_mentions...</td>\n",
       "      <td>&lt;a href=\"http://twitter.com/download/iphone\" r...</td>\n",
       "      <td>NaN</td>\n",
       "      <td>NaN</td>\n",
       "      <td>...</td>\n",
       "      <td>{'created_at': 'Mon Aug 06 20:33:50 +0000 2018...</td>\n",
       "      <td>NaN</td>\n",
       "      <td>NaN</td>\n",
       "      <td>3.102407</td>\n",
       "      <td>0.000000</td>\n",
       "      <td>21925.875963</td>\n",
       "      <td>0.000</td>\n",
       "      <td>0.207</td>\n",
       "      <td>False</td>\n",
       "      <td>3</td>\n",
       "    </tr>\n",
       "    <tr>\n",
       "      <th>2</th>\n",
       "      <td>2018-09-24 18:53:40+00:00</td>\n",
       "      <td>1044298840684212224</td>\n",
       "      <td>1044298840684212224</td>\n",
       "      <td>RT @mack3636: If she really believes in equali...</td>\n",
       "      <td>False</td>\n",
       "      <td>[0, 140]</td>\n",
       "      <td>{'hashtags': [], 'symbols': [], 'user_mentions...</td>\n",
       "      <td>&lt;a href=\"http://twitter.com\" rel=\"nofollow\"&gt;Tw...</td>\n",
       "      <td>NaN</td>\n",
       "      <td>NaN</td>\n",
       "      <td>...</td>\n",
       "      <td>{'created_at': 'Mon Sep 24 18:45:51 +0000 2018...</td>\n",
       "      <td>NaN</td>\n",
       "      <td>NaN</td>\n",
       "      <td>10.949896</td>\n",
       "      <td>0.000000</td>\n",
       "      <td>21023.396341</td>\n",
       "      <td>0.079</td>\n",
       "      <td>0.000</td>\n",
       "      <td>False</td>\n",
       "      <td>3</td>\n",
       "    </tr>\n",
       "    <tr>\n",
       "      <th>3</th>\n",
       "      <td>2018-07-31 13:27:31+00:00</td>\n",
       "      <td>1024285428445138944</td>\n",
       "      <td>1024285428445138944</td>\n",
       "      <td>RT @MoneyFemDom: HeadMistress Cleo &amp;amp; Rinse...</td>\n",
       "      <td>False</td>\n",
       "      <td>[0, 144]</td>\n",
       "      <td>{'hashtags': [], 'symbols': [], 'user_mentions...</td>\n",
       "      <td>&lt;a href=\"http://twitter.com/download/iphone\" r...</td>\n",
       "      <td>NaN</td>\n",
       "      <td>NaN</td>\n",
       "      <td>...</td>\n",
       "      <td>{'created_at': 'Mon Jul 30 14:04:58 +0000 2018...</td>\n",
       "      <td>NaN</td>\n",
       "      <td>NaN</td>\n",
       "      <td>0.037118</td>\n",
       "      <td>0.000000</td>\n",
       "      <td>86804.115996</td>\n",
       "      <td>0.000</td>\n",
       "      <td>0.000</td>\n",
       "      <td>True</td>\n",
       "      <td>2</td>\n",
       "    </tr>\n",
       "    <tr>\n",
       "      <th>4</th>\n",
       "      <td>2018-07-10 13:07:06+00:00</td>\n",
       "      <td>1016670148407775234</td>\n",
       "      <td>1016670148407775232</td>\n",
       "      <td>.@cathmckenna, women &amp;amp; girls are vulnerabl...</td>\n",
       "      <td>False</td>\n",
       "      <td>[0, 178]</td>\n",
       "      <td>{'hashtags': [], 'symbols': [], 'user_mentions...</td>\n",
       "      <td>&lt;a href=\"https://www.globalcitizen.org/\" rel=\"...</td>\n",
       "      <td>NaN</td>\n",
       "      <td>NaN</td>\n",
       "      <td>...</td>\n",
       "      <td>NaN</td>\n",
       "      <td>NaN</td>\n",
       "      <td>NaN</td>\n",
       "      <td>0.006319</td>\n",
       "      <td>0.363636</td>\n",
       "      <td>17564.835165</td>\n",
       "      <td>0.173</td>\n",
       "      <td>0.061</td>\n",
       "      <td>False</td>\n",
       "      <td>3</td>\n",
       "    </tr>\n",
       "    <tr>\n",
       "      <th>5</th>\n",
       "      <td>2018-08-07 01:29:13+00:00</td>\n",
       "      <td>1026641380632715264</td>\n",
       "      <td>1026641380632715264</td>\n",
       "      <td>RT @ajplus: West Hollywood's City Council will...</td>\n",
       "      <td>False</td>\n",
       "      <td>[0, 140]</td>\n",
       "      <td>{'hashtags': [], 'symbols': [], 'user_mentions...</td>\n",
       "      <td>&lt;a href=\"http://twitter.com/download/android\" ...</td>\n",
       "      <td>NaN</td>\n",
       "      <td>NaN</td>\n",
       "      <td>...</td>\n",
       "      <td>{'created_at': 'Mon Aug 06 19:14:50 +0000 2018...</td>\n",
       "      <td>NaN</td>\n",
       "      <td>NaN</td>\n",
       "      <td>0.833854</td>\n",
       "      <td>0.000000</td>\n",
       "      <td>97940.387258</td>\n",
       "      <td>0.000</td>\n",
       "      <td>0.000</td>\n",
       "      <td>False</td>\n",
       "      <td>2</td>\n",
       "    </tr>\n",
       "    <tr>\n",
       "      <th>6</th>\n",
       "      <td>2018-08-21 21:15:27+00:00</td>\n",
       "      <td>1032013332591665155</td>\n",
       "      <td>1032013332591665152</td>\n",
       "      <td>“SIN, NOT CARBON, CAUSES CLIMATE CHANGE.</td>\n",
       "      <td>False</td>\n",
       "      <td>[0, 40]</td>\n",
       "      <td>{'hashtags': [], 'symbols': [], 'user_mentions...</td>\n",
       "      <td>&lt;a href=\"http://twitter.com\" rel=\"nofollow\"&gt;Tw...</td>\n",
       "      <td>NaN</td>\n",
       "      <td>NaN</td>\n",
       "      <td>...</td>\n",
       "      <td>NaN</td>\n",
       "      <td>NaN</td>\n",
       "      <td>NaN</td>\n",
       "      <td>0.180602</td>\n",
       "      <td>0.000000</td>\n",
       "      <td>36561.086901</td>\n",
       "      <td>0.000</td>\n",
       "      <td>0.000</td>\n",
       "      <td>False</td>\n",
       "      <td>3</td>\n",
       "    </tr>\n",
       "    <tr>\n",
       "      <th>7</th>\n",
       "      <td>2018-09-29 13:49:52+00:00</td>\n",
       "      <td>1046034326410809349</td>\n",
       "      <td>1046034326410809344</td>\n",
       "      <td>RT @_cingraham: Incredible story: Trump admini...</td>\n",
       "      <td>False</td>\n",
       "      <td>[0, 140]</td>\n",
       "      <td>{'hashtags': [], 'symbols': [], 'user_mentions...</td>\n",
       "      <td>&lt;a href=\"http://twitter.com/download/android\" ...</td>\n",
       "      <td>NaN</td>\n",
       "      <td>NaN</td>\n",
       "      <td>...</td>\n",
       "      <td>{'created_at': 'Fri Sep 28 13:51:31 +0000 2018...</td>\n",
       "      <td>NaN</td>\n",
       "      <td>NaN</td>\n",
       "      <td>0.955602</td>\n",
       "      <td>0.071429</td>\n",
       "      <td>106740.061044</td>\n",
       "      <td>0.069</td>\n",
       "      <td>0.196</td>\n",
       "      <td>False</td>\n",
       "      <td>2</td>\n",
       "    </tr>\n",
       "    <tr>\n",
       "      <th>8</th>\n",
       "      <td>2018-09-02 11:35:04+00:00</td>\n",
       "      <td>1036215932199346176</td>\n",
       "      <td>1036215932199346176</td>\n",
       "      <td>RT @FawadPTIUpdates: Pakistan is one of the 7 ...</td>\n",
       "      <td>False</td>\n",
       "      <td>[0, 140]</td>\n",
       "      <td>{'hashtags': [], 'symbols': [], 'user_mentions...</td>\n",
       "      <td>&lt;a href=\"http://twitter.com/download/android\" ...</td>\n",
       "      <td>NaN</td>\n",
       "      <td>NaN</td>\n",
       "      <td>...</td>\n",
       "      <td>{'created_at': 'Sun Sep 02 08:49:58 +0000 2018...</td>\n",
       "      <td>NaN</td>\n",
       "      <td>NaN</td>\n",
       "      <td>0.011794</td>\n",
       "      <td>0.000000</td>\n",
       "      <td>35102.649657</td>\n",
       "      <td>0.154</td>\n",
       "      <td>0.073</td>\n",
       "      <td>False</td>\n",
       "      <td>3</td>\n",
       "    </tr>\n",
       "    <tr>\n",
       "      <th>9</th>\n",
       "      <td>2018-10-09 13:49:57+00:00</td>\n",
       "      <td>1049658227372249093</td>\n",
       "      <td>1049658227372249088</td>\n",
       "      <td>RT @ialhusseini: Help me change the world. For...</td>\n",
       "      <td>False</td>\n",
       "      <td>[0, 140]</td>\n",
       "      <td>{'hashtags': [], 'symbols': [], 'user_mentions...</td>\n",
       "      <td>&lt;a href=\"http://twitter.com/download/iphone\" r...</td>\n",
       "      <td>NaN</td>\n",
       "      <td>NaN</td>\n",
       "      <td>...</td>\n",
       "      <td>{'created_at': 'Mon Apr 02 18:38:56 +0000 2018...</td>\n",
       "      <td>NaN</td>\n",
       "      <td>NaN</td>\n",
       "      <td>3.848218</td>\n",
       "      <td>0.666667</td>\n",
       "      <td>26217.592320</td>\n",
       "      <td>0.114</td>\n",
       "      <td>0.000</td>\n",
       "      <td>False</td>\n",
       "      <td>3</td>\n",
       "    </tr>\n",
       "    <tr>\n",
       "      <th>10</th>\n",
       "      <td>2018-08-23 00:34:41+00:00</td>\n",
       "      <td>1032425862837219328</td>\n",
       "      <td>1032425862837219328</td>\n",
       "      <td>RT @NancySinatra: This is terrifying for Hawai...</td>\n",
       "      <td>False</td>\n",
       "      <td>[0, 140]</td>\n",
       "      <td>{'hashtags': [], 'symbols': [], 'user_mentions...</td>\n",
       "      <td>&lt;a href=\"http://twitter.com/download/iphone\" r...</td>\n",
       "      <td>NaN</td>\n",
       "      <td>NaN</td>\n",
       "      <td>...</td>\n",
       "      <td>{'created_at': 'Wed Aug 22 15:15:48 +0000 2018...</td>\n",
       "      <td>NaN</td>\n",
       "      <td>NaN</td>\n",
       "      <td>5.088194</td>\n",
       "      <td>0.166667</td>\n",
       "      <td>42702.770575</td>\n",
       "      <td>0.000</td>\n",
       "      <td>0.208</td>\n",
       "      <td>False</td>\n",
       "      <td>3</td>\n",
       "    </tr>\n",
       "    <tr>\n",
       "      <th>11</th>\n",
       "      <td>2018-07-12 23:24:37+00:00</td>\n",
       "      <td>1017550325060755457</td>\n",
       "      <td>1017550325060755456</td>\n",
       "      <td>RT @Anoopnautiyal1: Media reports have attribu...</td>\n",
       "      <td>False</td>\n",
       "      <td>[0, 140]</td>\n",
       "      <td>{'hashtags': [{'text': 'CloudBurst', 'indices'...</td>\n",
       "      <td>&lt;a href=\"http://twitter.com/download/android\" ...</td>\n",
       "      <td>NaN</td>\n",
       "      <td>NaN</td>\n",
       "      <td>...</td>\n",
       "      <td>{'created_at': 'Thu Jul 12 12:20:10 +0000 2018...</td>\n",
       "      <td>NaN</td>\n",
       "      <td>NaN</td>\n",
       "      <td>0.015995</td>\n",
       "      <td>0.000000</td>\n",
       "      <td>31384.081042</td>\n",
       "      <td>0.000</td>\n",
       "      <td>0.000</td>\n",
       "      <td>False</td>\n",
       "      <td>3</td>\n",
       "    </tr>\n",
       "    <tr>\n",
       "      <th>12</th>\n",
       "      <td>2018-08-08 01:20:20+00:00</td>\n",
       "      <td>1027001529654497281</td>\n",
       "      <td>1027001529654497280</td>\n",
       "      <td>RT @PaulEDawson: “There is a real danger that ...</td>\n",
       "      <td>False</td>\n",
       "      <td>[0, 140]</td>\n",
       "      <td>{'hashtags': [{'text': 'ActOnClimate', 'indice...</td>\n",
       "      <td>&lt;a href=\"http://twitter.com/download/iphone\" r...</td>\n",
       "      <td>NaN</td>\n",
       "      <td>NaN</td>\n",
       "      <td>...</td>\n",
       "      <td>{'created_at': 'Wed Aug 08 00:56:00 +0000 2018...</td>\n",
       "      <td>NaN</td>\n",
       "      <td>NaN</td>\n",
       "      <td>3.070451</td>\n",
       "      <td>0.000000</td>\n",
       "      <td>29887.787943</td>\n",
       "      <td>0.000</td>\n",
       "      <td>0.213</td>\n",
       "      <td>False</td>\n",
       "      <td>3</td>\n",
       "    </tr>\n",
       "    <tr>\n",
       "      <th>13</th>\n",
       "      <td>2018-09-02 23:52:48+00:00</td>\n",
       "      <td>1036401585763565569</td>\n",
       "      <td>1036401585763565568</td>\n",
       "      <td>RT @ImranKhanPTI: Today we launch our tree pla...</td>\n",
       "      <td>False</td>\n",
       "      <td>[0, 140]</td>\n",
       "      <td>{'hashtags': [{'text': 'Plant4Pakistan', 'indi...</td>\n",
       "      <td>&lt;a href=\"http://twitter.com/download/android\" ...</td>\n",
       "      <td>NaN</td>\n",
       "      <td>NaN</td>\n",
       "      <td>...</td>\n",
       "      <td>{'created_at': 'Sun Sep 02 10:22:03 +0000 2018...</td>\n",
       "      <td>NaN</td>\n",
       "      <td>NaN</td>\n",
       "      <td>0.025556</td>\n",
       "      <td>0.615385</td>\n",
       "      <td>32008.695652</td>\n",
       "      <td>0.163</td>\n",
       "      <td>0.000</td>\n",
       "      <td>False</td>\n",
       "      <td>3</td>\n",
       "    </tr>\n",
       "    <tr>\n",
       "      <th>14</th>\n",
       "      <td>2018-10-15 00:24:38+00:00</td>\n",
       "      <td>1051629888531288065</td>\n",
       "      <td>1051629888531288064</td>\n",
       "      <td>RT @chuckwoolery: 60 min. Climate change. Stah...</td>\n",
       "      <td>False</td>\n",
       "      <td>[0, 140]</td>\n",
       "      <td>{'hashtags': [], 'symbols': [], 'user_mentions...</td>\n",
       "      <td>&lt;a href=\"http://twitter.com/download/android\" ...</td>\n",
       "      <td>NaN</td>\n",
       "      <td>NaN</td>\n",
       "      <td>...</td>\n",
       "      <td>{'created_at': 'Sun Oct 14 23:41:49 +0000 2018...</td>\n",
       "      <td>NaN</td>\n",
       "      <td>NaN</td>\n",
       "      <td>0.306794</td>\n",
       "      <td>0.666667</td>\n",
       "      <td>142815.709058</td>\n",
       "      <td>0.000</td>\n",
       "      <td>0.000</td>\n",
       "      <td>False</td>\n",
       "      <td>2</td>\n",
       "    </tr>\n",
       "    <tr>\n",
       "      <th>15</th>\n",
       "      <td>2018-07-29 14:38:21+00:00</td>\n",
       "      <td>1023578480582303744</td>\n",
       "      <td>1023578480582303744</td>\n",
       "      <td>RT @ZanderKelly30: California Wildfires Are So...</td>\n",
       "      <td>False</td>\n",
       "      <td>[0, 132]</td>\n",
       "      <td>{'hashtags': [], 'symbols': [], 'user_mentions...</td>\n",
       "      <td>&lt;a href=\"http://twitter.com\" rel=\"nofollow\"&gt;Tw...</td>\n",
       "      <td>NaN</td>\n",
       "      <td>NaN</td>\n",
       "      <td>...</td>\n",
       "      <td>{'created_at': 'Sat Jul 28 21:02:13 +0000 2018...</td>\n",
       "      <td>NaN</td>\n",
       "      <td>NaN</td>\n",
       "      <td>21.655694</td>\n",
       "      <td>0.000000</td>\n",
       "      <td>14957.035935</td>\n",
       "      <td>0.118</td>\n",
       "      <td>0.129</td>\n",
       "      <td>True</td>\n",
       "      <td>3</td>\n",
       "    </tr>\n",
       "    <tr>\n",
       "      <th>16</th>\n",
       "      <td>2018-07-11 23:46:31+00:00</td>\n",
       "      <td>1017193448439537664</td>\n",
       "      <td>1017193448439537664</td>\n",
       "      <td>RT @Mambotjiie: Ekse ama\"Global Warming Citize...</td>\n",
       "      <td>False</td>\n",
       "      <td>[0, 82]</td>\n",
       "      <td>{'hashtags': [], 'symbols': [], 'user_mentions...</td>\n",
       "      <td>&lt;a href=\"http://twitter.com/download/android\" ...</td>\n",
       "      <td>NaN</td>\n",
       "      <td>NaN</td>\n",
       "      <td>...</td>\n",
       "      <td>{'created_at': 'Wed Jul 11 21:40:43 +0000 2018...</td>\n",
       "      <td>NaN</td>\n",
       "      <td>NaN</td>\n",
       "      <td>1.095150</td>\n",
       "      <td>0.000000</td>\n",
       "      <td>21101.210091</td>\n",
       "      <td>0.138</td>\n",
       "      <td>0.000</td>\n",
       "      <td>False</td>\n",
       "      <td>3</td>\n",
       "    </tr>\n",
       "    <tr>\n",
       "      <th>17</th>\n",
       "      <td>2018-08-23 16:47:08+00:00</td>\n",
       "      <td>1032670584654639104</td>\n",
       "      <td>1032670584654639104</td>\n",
       "      <td>And then there was Starbucks.. how did we ever...</td>\n",
       "      <td>False</td>\n",
       "      <td>[0, 143]</td>\n",
       "      <td>{'hashtags': [], 'symbols': [], 'user_mentions...</td>\n",
       "      <td>&lt;a href=\"http://twitter.com/download/android\" ...</td>\n",
       "      <td>NaN</td>\n",
       "      <td>NaN</td>\n",
       "      <td>...</td>\n",
       "      <td>NaN</td>\n",
       "      <td>{'media': [{'id': 1032670575204790272, 'id_str...</td>\n",
       "      <td>NaN</td>\n",
       "      <td>0.700810</td>\n",
       "      <td>0.000000</td>\n",
       "      <td>14643.052023</td>\n",
       "      <td>0.000</td>\n",
       "      <td>0.104</td>\n",
       "      <td>False</td>\n",
       "      <td>3</td>\n",
       "    </tr>\n",
       "    <tr>\n",
       "      <th>18</th>\n",
       "      <td>2018-07-26 06:42:24+00:00</td>\n",
       "      <td>1022371539147206662</td>\n",
       "      <td>1022371539147206656</td>\n",
       "      <td>Planning trip to YSP with Eve. Trying to rise ...</td>\n",
       "      <td>False</td>\n",
       "      <td>[0, 125]</td>\n",
       "      <td>{'hashtags': [], 'symbols': [], 'user_mentions...</td>\n",
       "      <td>&lt;a href=\"http://twitter.com/download/iphone\" r...</td>\n",
       "      <td>NaN</td>\n",
       "      <td>NaN</td>\n",
       "      <td>...</td>\n",
       "      <td>NaN</td>\n",
       "      <td>NaN</td>\n",
       "      <td>NaN</td>\n",
       "      <td>0.004838</td>\n",
       "      <td>0.066667</td>\n",
       "      <td>91980.861244</td>\n",
       "      <td>0.063</td>\n",
       "      <td>0.262</td>\n",
       "      <td>False</td>\n",
       "      <td>2</td>\n",
       "    </tr>\n",
       "    <tr>\n",
       "      <th>19</th>\n",
       "      <td>2018-07-22 16:13:16+00:00</td>\n",
       "      <td>1021065653451706368</td>\n",
       "      <td>1021065653451706368</td>\n",
       "      <td>RT @CASE_forAmerica: How the left’s deranged c...</td>\n",
       "      <td>False</td>\n",
       "      <td>[0, 131]</td>\n",
       "      <td>{'hashtags': [], 'symbols': [], 'user_mentions...</td>\n",
       "      <td>&lt;a href=\"http://twitter.com/download/iphone\" r...</td>\n",
       "      <td>NaN</td>\n",
       "      <td>NaN</td>\n",
       "      <td>...</td>\n",
       "      <td>{'created_at': 'Tue Feb 27 10:31:11 +0000 2018...</td>\n",
       "      <td>NaN</td>\n",
       "      <td>NaN</td>\n",
       "      <td>2.679028</td>\n",
       "      <td>0.363636</td>\n",
       "      <td>21925.491213</td>\n",
       "      <td>0.000</td>\n",
       "      <td>0.188</td>\n",
       "      <td>True</td>\n",
       "      <td>3</td>\n",
       "    </tr>\n",
       "    <tr>\n",
       "      <th>20</th>\n",
       "      <td>2018-06-26 13:49:03+00:00</td>\n",
       "      <td>1011607273540448257</td>\n",
       "      <td>1011607273540448256</td>\n",
       "      <td>RT @PaulEDawson: “It is outrageous that indust...</td>\n",
       "      <td>False</td>\n",
       "      <td>[0, 140]</td>\n",
       "      <td>{'hashtags': [], 'symbols': [], 'user_mentions...</td>\n",
       "      <td>&lt;a href=\"http://twitter.com/download/android\" ...</td>\n",
       "      <td>NaN</td>\n",
       "      <td>NaN</td>\n",
       "      <td>...</td>\n",
       "      <td>{'created_at': 'Tue Jun 26 04:56:00 +0000 2018...</td>\n",
       "      <td>NaN</td>\n",
       "      <td>NaN</td>\n",
       "      <td>5.935683</td>\n",
       "      <td>0.153846</td>\n",
       "      <td>15475.051819</td>\n",
       "      <td>0.000</td>\n",
       "      <td>0.240</td>\n",
       "      <td>False</td>\n",
       "      <td>3</td>\n",
       "    </tr>\n",
       "    <tr>\n",
       "      <th>21</th>\n",
       "      <td>2018-07-10 09:38:12+00:00</td>\n",
       "      <td>1016617575084589056</td>\n",
       "      <td>1016617575084589056</td>\n",
       "      <td>.@cathmckenna, women &amp;amp; girls are vulnerabl...</td>\n",
       "      <td>False</td>\n",
       "      <td>[0, 178]</td>\n",
       "      <td>{'hashtags': [], 'symbols': [], 'user_mentions...</td>\n",
       "      <td>&lt;a href=\"https://www.globalcitizen.org/\" rel=\"...</td>\n",
       "      <td>NaN</td>\n",
       "      <td>NaN</td>\n",
       "      <td>...</td>\n",
       "      <td>NaN</td>\n",
       "      <td>NaN</td>\n",
       "      <td>NaN</td>\n",
       "      <td>0.003148</td>\n",
       "      <td>0.111111</td>\n",
       "      <td>23823.529412</td>\n",
       "      <td>0.173</td>\n",
       "      <td>0.061</td>\n",
       "      <td>False</td>\n",
       "      <td>3</td>\n",
       "    </tr>\n",
       "    <tr>\n",
       "      <th>22</th>\n",
       "      <td>2018-09-03 11:32:23+00:00</td>\n",
       "      <td>1036577644685524992</td>\n",
       "      <td>1036577644685524992</td>\n",
       "      <td>RT @ImranKhanPTI: Today we launch our tree pla...</td>\n",
       "      <td>False</td>\n",
       "      <td>[0, 140]</td>\n",
       "      <td>{'hashtags': [{'text': 'Plant4Pakistan', 'indi...</td>\n",
       "      <td>&lt;a href=\"http://twitter.com/download/android\" ...</td>\n",
       "      <td>NaN</td>\n",
       "      <td>NaN</td>\n",
       "      <td>...</td>\n",
       "      <td>{'created_at': 'Sun Sep 02 10:22:03 +0000 2018...</td>\n",
       "      <td>NaN</td>\n",
       "      <td>NaN</td>\n",
       "      <td>0.069190</td>\n",
       "      <td>0.000000</td>\n",
       "      <td>38358.246905</td>\n",
       "      <td>0.163</td>\n",
       "      <td>0.000</td>\n",
       "      <td>False</td>\n",
       "      <td>3</td>\n",
       "    </tr>\n",
       "    <tr>\n",
       "      <th>23</th>\n",
       "      <td>2018-07-24 06:14:45+00:00</td>\n",
       "      <td>1021639804520411141</td>\n",
       "      <td>1021639804520411136</td>\n",
       "      <td>RT @James_BG: Got so fed up with the reporting...</td>\n",
       "      <td>False</td>\n",
       "      <td>[0, 140]</td>\n",
       "      <td>{'hashtags': [], 'symbols': [], 'user_mentions...</td>\n",
       "      <td>&lt;a href=\"https://mobile.twitter.com\" rel=\"nofo...</td>\n",
       "      <td>NaN</td>\n",
       "      <td>NaN</td>\n",
       "      <td>...</td>\n",
       "      <td>{'created_at': 'Mon Jul 23 12:28:54 +0000 2018...</td>\n",
       "      <td>NaN</td>\n",
       "      <td>NaN</td>\n",
       "      <td>4.307373</td>\n",
       "      <td>0.285714</td>\n",
       "      <td>23842.840522</td>\n",
       "      <td>0.000</td>\n",
       "      <td>0.121</td>\n",
       "      <td>False</td>\n",
       "      <td>3</td>\n",
       "    </tr>\n",
       "    <tr>\n",
       "      <th>24</th>\n",
       "      <td>2018-07-18 18:28:32+00:00</td>\n",
       "      <td>1019650140070694912</td>\n",
       "      <td>1019650140070694912</td>\n",
       "      <td>RT @RealJamesWoods: A drought “destroyed civil...</td>\n",
       "      <td>False</td>\n",
       "      <td>[0, 140]</td>\n",
       "      <td>{'hashtags': [], 'symbols': [], 'user_mentions...</td>\n",
       "      <td>&lt;a href=\"http://twitter.com/download/android\" ...</td>\n",
       "      <td>NaN</td>\n",
       "      <td>NaN</td>\n",
       "      <td>...</td>\n",
       "      <td>{'created_at': 'Wed Jul 18 18:18:59 +0000 2018...</td>\n",
       "      <td>NaN</td>\n",
       "      <td>NaN</td>\n",
       "      <td>5.751875</td>\n",
       "      <td>0.166667</td>\n",
       "      <td>33778.376616</td>\n",
       "      <td>0.100</td>\n",
       "      <td>0.000</td>\n",
       "      <td>False</td>\n",
       "      <td>3</td>\n",
       "    </tr>\n",
       "    <tr>\n",
       "      <th>25</th>\n",
       "      <td>2018-10-12 21:53:10+00:00</td>\n",
       "      <td>1050866995871313920</td>\n",
       "      <td>1050866995871313920</td>\n",
       "      <td>RT @elonmusk: Tesla exists to help reduce risk...</td>\n",
       "      <td>False</td>\n",
       "      <td>[0, 140]</td>\n",
       "      <td>{'hashtags': [], 'symbols': [], 'user_mentions...</td>\n",
       "      <td>&lt;a href=\"http://twitter.com/download/android\" ...</td>\n",
       "      <td>NaN</td>\n",
       "      <td>NaN</td>\n",
       "      <td>...</td>\n",
       "      <td>{'created_at': 'Fri Oct 12 18:03:45 +0000 2018...</td>\n",
       "      <td>NaN</td>\n",
       "      <td>NaN</td>\n",
       "      <td>0.856690</td>\n",
       "      <td>0.000000</td>\n",
       "      <td>39544.067659</td>\n",
       "      <td>0.179</td>\n",
       "      <td>0.172</td>\n",
       "      <td>False</td>\n",
       "      <td>3</td>\n",
       "    </tr>\n",
       "    <tr>\n",
       "      <th>26</th>\n",
       "      <td>2018-09-08 22:23:40+00:00</td>\n",
       "      <td>1038553482821869570</td>\n",
       "      <td>1038553482821869568</td>\n",
       "      <td>Can’t make this shit up. https://t.co/pPQKoXr3mg</td>\n",
       "      <td>False</td>\n",
       "      <td>[0, 24]</td>\n",
       "      <td>{'hashtags': [], 'symbols': [], 'user_mentions...</td>\n",
       "      <td>&lt;a href=\"http://twitter.com/download/iphone\" r...</td>\n",
       "      <td>NaN</td>\n",
       "      <td>NaN</td>\n",
       "      <td>...</td>\n",
       "      <td>NaN</td>\n",
       "      <td>NaN</td>\n",
       "      <td>NaN</td>\n",
       "      <td>1.275822</td>\n",
       "      <td>0.000000</td>\n",
       "      <td>24833.406211</td>\n",
       "      <td>0.000</td>\n",
       "      <td>0.459</td>\n",
       "      <td>True</td>\n",
       "      <td>3</td>\n",
       "    </tr>\n",
       "  </tbody>\n",
       "</table>\n",
       "<p>27 rows × 39 columns</p>\n",
       "</div>"
      ],
      "text/plain": [
       "                  created_at                   id               id_str  \\\n",
       "0  2018-09-12 06:31:06+00:00  1039763314337820672  1039763314337820672   \n",
       "1  2018-08-07 17:15:49+00:00  1026879598481563648  1026879598481563648   \n",
       "2  2018-09-24 18:53:40+00:00  1044298840684212224  1044298840684212224   \n",
       "3  2018-07-31 13:27:31+00:00  1024285428445138944  1024285428445138944   \n",
       "4  2018-07-10 13:07:06+00:00  1016670148407775234  1016670148407775232   \n",
       "5  2018-08-07 01:29:13+00:00  1026641380632715264  1026641380632715264   \n",
       "6  2018-08-21 21:15:27+00:00  1032013332591665155  1032013332591665152   \n",
       "7  2018-09-29 13:49:52+00:00  1046034326410809349  1046034326410809344   \n",
       "8  2018-09-02 11:35:04+00:00  1036215932199346176  1036215932199346176   \n",
       "9  2018-10-09 13:49:57+00:00  1049658227372249093  1049658227372249088   \n",
       "10 2018-08-23 00:34:41+00:00  1032425862837219328  1032425862837219328   \n",
       "11 2018-07-12 23:24:37+00:00  1017550325060755457  1017550325060755456   \n",
       "12 2018-08-08 01:20:20+00:00  1027001529654497281  1027001529654497280   \n",
       "13 2018-09-02 23:52:48+00:00  1036401585763565569  1036401585763565568   \n",
       "14 2018-10-15 00:24:38+00:00  1051629888531288065  1051629888531288064   \n",
       "15 2018-07-29 14:38:21+00:00  1023578480582303744  1023578480582303744   \n",
       "16 2018-07-11 23:46:31+00:00  1017193448439537664  1017193448439537664   \n",
       "17 2018-08-23 16:47:08+00:00  1032670584654639104  1032670584654639104   \n",
       "18 2018-07-26 06:42:24+00:00  1022371539147206662  1022371539147206656   \n",
       "19 2018-07-22 16:13:16+00:00  1021065653451706368  1021065653451706368   \n",
       "20 2018-06-26 13:49:03+00:00  1011607273540448257  1011607273540448256   \n",
       "21 2018-07-10 09:38:12+00:00  1016617575084589056  1016617575084589056   \n",
       "22 2018-09-03 11:32:23+00:00  1036577644685524992  1036577644685524992   \n",
       "23 2018-07-24 06:14:45+00:00  1021639804520411141  1021639804520411136   \n",
       "24 2018-07-18 18:28:32+00:00  1019650140070694912  1019650140070694912   \n",
       "25 2018-10-12 21:53:10+00:00  1050866995871313920  1050866995871313920   \n",
       "26 2018-09-08 22:23:40+00:00  1038553482821869570  1038553482821869568   \n",
       "\n",
       "                                            full_text  truncated  \\\n",
       "0   Looking forward to meeting @craigreucassel ton...      False   \n",
       "1   RT @JerryDunleavy: Bill Cosby, Kevin Spacey, a...      False   \n",
       "2   RT @mack3636: If she really believes in equali...      False   \n",
       "3   RT @MoneyFemDom: HeadMistress Cleo &amp; Rinse...      False   \n",
       "4   .@cathmckenna, women &amp; girls are vulnerabl...      False   \n",
       "5   RT @ajplus: West Hollywood's City Council will...      False   \n",
       "6            “SIN, NOT CARBON, CAUSES CLIMATE CHANGE.      False   \n",
       "7   RT @_cingraham: Incredible story: Trump admini...      False   \n",
       "8   RT @FawadPTIUpdates: Pakistan is one of the 7 ...      False   \n",
       "9   RT @ialhusseini: Help me change the world. For...      False   \n",
       "10  RT @NancySinatra: This is terrifying for Hawai...      False   \n",
       "11  RT @Anoopnautiyal1: Media reports have attribu...      False   \n",
       "12  RT @PaulEDawson: “There is a real danger that ...      False   \n",
       "13  RT @ImranKhanPTI: Today we launch our tree pla...      False   \n",
       "14  RT @chuckwoolery: 60 min. Climate change. Stah...      False   \n",
       "15  RT @ZanderKelly30: California Wildfires Are So...      False   \n",
       "16  RT @Mambotjiie: Ekse ama\"Global Warming Citize...      False   \n",
       "17  And then there was Starbucks.. how did we ever...      False   \n",
       "18  Planning trip to YSP with Eve. Trying to rise ...      False   \n",
       "19  RT @CASE_forAmerica: How the left’s deranged c...      False   \n",
       "20  RT @PaulEDawson: “It is outrageous that indust...      False   \n",
       "21  .@cathmckenna, women &amp; girls are vulnerabl...      False   \n",
       "22  RT @ImranKhanPTI: Today we launch our tree pla...      False   \n",
       "23  RT @James_BG: Got so fed up with the reporting...      False   \n",
       "24  RT @RealJamesWoods: A drought “destroyed civil...      False   \n",
       "25  RT @elonmusk: Tesla exists to help reduce risk...      False   \n",
       "26   Can’t make this shit up. https://t.co/pPQKoXr3mg      False   \n",
       "\n",
       "   display_text_range                                           entities  \\\n",
       "0            [0, 139]  {'hashtags': [{'text': 'WaronWaste', 'indices'...   \n",
       "1            [0, 140]  {'hashtags': [], 'symbols': [], 'user_mentions...   \n",
       "2            [0, 140]  {'hashtags': [], 'symbols': [], 'user_mentions...   \n",
       "3            [0, 144]  {'hashtags': [], 'symbols': [], 'user_mentions...   \n",
       "4            [0, 178]  {'hashtags': [], 'symbols': [], 'user_mentions...   \n",
       "5            [0, 140]  {'hashtags': [], 'symbols': [], 'user_mentions...   \n",
       "6             [0, 40]  {'hashtags': [], 'symbols': [], 'user_mentions...   \n",
       "7            [0, 140]  {'hashtags': [], 'symbols': [], 'user_mentions...   \n",
       "8            [0, 140]  {'hashtags': [], 'symbols': [], 'user_mentions...   \n",
       "9            [0, 140]  {'hashtags': [], 'symbols': [], 'user_mentions...   \n",
       "10           [0, 140]  {'hashtags': [], 'symbols': [], 'user_mentions...   \n",
       "11           [0, 140]  {'hashtags': [{'text': 'CloudBurst', 'indices'...   \n",
       "12           [0, 140]  {'hashtags': [{'text': 'ActOnClimate', 'indice...   \n",
       "13           [0, 140]  {'hashtags': [{'text': 'Plant4Pakistan', 'indi...   \n",
       "14           [0, 140]  {'hashtags': [], 'symbols': [], 'user_mentions...   \n",
       "15           [0, 132]  {'hashtags': [], 'symbols': [], 'user_mentions...   \n",
       "16            [0, 82]  {'hashtags': [], 'symbols': [], 'user_mentions...   \n",
       "17           [0, 143]  {'hashtags': [], 'symbols': [], 'user_mentions...   \n",
       "18           [0, 125]  {'hashtags': [], 'symbols': [], 'user_mentions...   \n",
       "19           [0, 131]  {'hashtags': [], 'symbols': [], 'user_mentions...   \n",
       "20           [0, 140]  {'hashtags': [], 'symbols': [], 'user_mentions...   \n",
       "21           [0, 178]  {'hashtags': [], 'symbols': [], 'user_mentions...   \n",
       "22           [0, 140]  {'hashtags': [{'text': 'Plant4Pakistan', 'indi...   \n",
       "23           [0, 140]  {'hashtags': [], 'symbols': [], 'user_mentions...   \n",
       "24           [0, 140]  {'hashtags': [], 'symbols': [], 'user_mentions...   \n",
       "25           [0, 140]  {'hashtags': [], 'symbols': [], 'user_mentions...   \n",
       "26            [0, 24]  {'hashtags': [], 'symbols': [], 'user_mentions...   \n",
       "\n",
       "                                               source  in_reply_to_status_id  \\\n",
       "0   <a href=\"http://twitter.com\" rel=\"nofollow\">Tw...                    NaN   \n",
       "1   <a href=\"http://twitter.com/download/iphone\" r...                    NaN   \n",
       "2   <a href=\"http://twitter.com\" rel=\"nofollow\">Tw...                    NaN   \n",
       "3   <a href=\"http://twitter.com/download/iphone\" r...                    NaN   \n",
       "4   <a href=\"https://www.globalcitizen.org/\" rel=\"...                    NaN   \n",
       "5   <a href=\"http://twitter.com/download/android\" ...                    NaN   \n",
       "6   <a href=\"http://twitter.com\" rel=\"nofollow\">Tw...                    NaN   \n",
       "7   <a href=\"http://twitter.com/download/android\" ...                    NaN   \n",
       "8   <a href=\"http://twitter.com/download/android\" ...                    NaN   \n",
       "9   <a href=\"http://twitter.com/download/iphone\" r...                    NaN   \n",
       "10  <a href=\"http://twitter.com/download/iphone\" r...                    NaN   \n",
       "11  <a href=\"http://twitter.com/download/android\" ...                    NaN   \n",
       "12  <a href=\"http://twitter.com/download/iphone\" r...                    NaN   \n",
       "13  <a href=\"http://twitter.com/download/android\" ...                    NaN   \n",
       "14  <a href=\"http://twitter.com/download/android\" ...                    NaN   \n",
       "15  <a href=\"http://twitter.com\" rel=\"nofollow\">Tw...                    NaN   \n",
       "16  <a href=\"http://twitter.com/download/android\" ...                    NaN   \n",
       "17  <a href=\"http://twitter.com/download/android\" ...                    NaN   \n",
       "18  <a href=\"http://twitter.com/download/iphone\" r...                    NaN   \n",
       "19  <a href=\"http://twitter.com/download/iphone\" r...                    NaN   \n",
       "20  <a href=\"http://twitter.com/download/android\" ...                    NaN   \n",
       "21  <a href=\"https://www.globalcitizen.org/\" rel=\"...                    NaN   \n",
       "22  <a href=\"http://twitter.com/download/android\" ...                    NaN   \n",
       "23  <a href=\"https://mobile.twitter.com\" rel=\"nofo...                    NaN   \n",
       "24  <a href=\"http://twitter.com/download/android\" ...                    NaN   \n",
       "25  <a href=\"http://twitter.com/download/android\" ...                    NaN   \n",
       "26  <a href=\"http://twitter.com/download/iphone\" r...                    NaN   \n",
       "\n",
       "    in_reply_to_status_id_str  ...  \\\n",
       "0                         NaN  ...   \n",
       "1                         NaN  ...   \n",
       "2                         NaN  ...   \n",
       "3                         NaN  ...   \n",
       "4                         NaN  ...   \n",
       "5                         NaN  ...   \n",
       "6                         NaN  ...   \n",
       "7                         NaN  ...   \n",
       "8                         NaN  ...   \n",
       "9                         NaN  ...   \n",
       "10                        NaN  ...   \n",
       "11                        NaN  ...   \n",
       "12                        NaN  ...   \n",
       "13                        NaN  ...   \n",
       "14                        NaN  ...   \n",
       "15                        NaN  ...   \n",
       "16                        NaN  ...   \n",
       "17                        NaN  ...   \n",
       "18                        NaN  ...   \n",
       "19                        NaN  ...   \n",
       "20                        NaN  ...   \n",
       "21                        NaN  ...   \n",
       "22                        NaN  ...   \n",
       "23                        NaN  ...   \n",
       "24                        NaN  ...   \n",
       "25                        NaN  ...   \n",
       "26                        NaN  ...   \n",
       "\n",
       "                                     retweeted_status  \\\n",
       "0                                                 NaN   \n",
       "1   {'created_at': 'Mon Aug 06 20:33:50 +0000 2018...   \n",
       "2   {'created_at': 'Mon Sep 24 18:45:51 +0000 2018...   \n",
       "3   {'created_at': 'Mon Jul 30 14:04:58 +0000 2018...   \n",
       "4                                                 NaN   \n",
       "5   {'created_at': 'Mon Aug 06 19:14:50 +0000 2018...   \n",
       "6                                                 NaN   \n",
       "7   {'created_at': 'Fri Sep 28 13:51:31 +0000 2018...   \n",
       "8   {'created_at': 'Sun Sep 02 08:49:58 +0000 2018...   \n",
       "9   {'created_at': 'Mon Apr 02 18:38:56 +0000 2018...   \n",
       "10  {'created_at': 'Wed Aug 22 15:15:48 +0000 2018...   \n",
       "11  {'created_at': 'Thu Jul 12 12:20:10 +0000 2018...   \n",
       "12  {'created_at': 'Wed Aug 08 00:56:00 +0000 2018...   \n",
       "13  {'created_at': 'Sun Sep 02 10:22:03 +0000 2018...   \n",
       "14  {'created_at': 'Sun Oct 14 23:41:49 +0000 2018...   \n",
       "15  {'created_at': 'Sat Jul 28 21:02:13 +0000 2018...   \n",
       "16  {'created_at': 'Wed Jul 11 21:40:43 +0000 2018...   \n",
       "17                                                NaN   \n",
       "18                                                NaN   \n",
       "19  {'created_at': 'Tue Feb 27 10:31:11 +0000 2018...   \n",
       "20  {'created_at': 'Tue Jun 26 04:56:00 +0000 2018...   \n",
       "21                                                NaN   \n",
       "22  {'created_at': 'Sun Sep 02 10:22:03 +0000 2018...   \n",
       "23  {'created_at': 'Mon Jul 23 12:28:54 +0000 2018...   \n",
       "24  {'created_at': 'Wed Jul 18 18:18:59 +0000 2018...   \n",
       "25  {'created_at': 'Fri Oct 12 18:03:45 +0000 2018...   \n",
       "26                                                NaN   \n",
       "\n",
       "                                    extended_entities withheld_in_countries  \\\n",
       "0   {'media': [{'id': 1039762810459250688, 'id_str...                   NaN   \n",
       "1                                                 NaN                   NaN   \n",
       "2                                                 NaN                   NaN   \n",
       "3                                                 NaN                   NaN   \n",
       "4                                                 NaN                   NaN   \n",
       "5                                                 NaN                   NaN   \n",
       "6                                                 NaN                   NaN   \n",
       "7                                                 NaN                   NaN   \n",
       "8                                                 NaN                   NaN   \n",
       "9                                                 NaN                   NaN   \n",
       "10                                                NaN                   NaN   \n",
       "11                                                NaN                   NaN   \n",
       "12                                                NaN                   NaN   \n",
       "13                                                NaN                   NaN   \n",
       "14                                                NaN                   NaN   \n",
       "15                                                NaN                   NaN   \n",
       "16                                                NaN                   NaN   \n",
       "17  {'media': [{'id': 1032670575204790272, 'id_str...                   NaN   \n",
       "18                                                NaN                   NaN   \n",
       "19                                                NaN                   NaN   \n",
       "20                                                NaN                   NaN   \n",
       "21                                                NaN                   NaN   \n",
       "22                                                NaN                   NaN   \n",
       "23                                                NaN                   NaN   \n",
       "24                                                NaN                   NaN   \n",
       "25                                                NaN                   NaN   \n",
       "26                                                NaN                   NaN   \n",
       "\n",
       "   posting_age num_in_name posting_frequency    pos    neg  has_url  cluster  \n",
       "0     0.013160    0.000000      81840.633245  0.000  0.261    False        2  \n",
       "1     3.102407    0.000000      21925.875963  0.000  0.207    False        3  \n",
       "2    10.949896    0.000000      21023.396341  0.079  0.000    False        3  \n",
       "3     0.037118    0.000000      86804.115996  0.000  0.000     True        2  \n",
       "4     0.006319    0.363636      17564.835165  0.173  0.061    False        3  \n",
       "5     0.833854    0.000000      97940.387258  0.000  0.000    False        2  \n",
       "6     0.180602    0.000000      36561.086901  0.000  0.000    False        3  \n",
       "7     0.955602    0.071429     106740.061044  0.069  0.196    False        2  \n",
       "8     0.011794    0.000000      35102.649657  0.154  0.073    False        3  \n",
       "9     3.848218    0.666667      26217.592320  0.114  0.000    False        3  \n",
       "10    5.088194    0.166667      42702.770575  0.000  0.208    False        3  \n",
       "11    0.015995    0.000000      31384.081042  0.000  0.000    False        3  \n",
       "12    3.070451    0.000000      29887.787943  0.000  0.213    False        3  \n",
       "13    0.025556    0.615385      32008.695652  0.163  0.000    False        3  \n",
       "14    0.306794    0.666667     142815.709058  0.000  0.000    False        2  \n",
       "15   21.655694    0.000000      14957.035935  0.118  0.129     True        3  \n",
       "16    1.095150    0.000000      21101.210091  0.138  0.000    False        3  \n",
       "17    0.700810    0.000000      14643.052023  0.000  0.104    False        3  \n",
       "18    0.004838    0.066667      91980.861244  0.063  0.262    False        2  \n",
       "19    2.679028    0.363636      21925.491213  0.000  0.188     True        3  \n",
       "20    5.935683    0.153846      15475.051819  0.000  0.240    False        3  \n",
       "21    0.003148    0.111111      23823.529412  0.173  0.061    False        3  \n",
       "22    0.069190    0.000000      38358.246905  0.163  0.000    False        3  \n",
       "23    4.307373    0.285714      23842.840522  0.000  0.121    False        3  \n",
       "24    5.751875    0.166667      33778.376616  0.100  0.000    False        3  \n",
       "25    0.856690    0.000000      39544.067659  0.179  0.172    False        3  \n",
       "26    1.275822    0.000000      24833.406211  0.000  0.459     True        3  \n",
       "\n",
       "[27 rows x 39 columns]"
      ]
     },
     "execution_count": 107,
     "metadata": {},
     "output_type": "execute_result"
    }
   ],
   "source": [
    "dfs_select"
   ]
  },
  {
   "cell_type": "code",
   "execution_count": 99,
   "metadata": {
    "scrolled": true
   },
   "outputs": [
    {
     "data": {
      "text/plain": [
       "'Looking forward to meeting @craigreucassel tonight in Mudgee to talk about the War on Waste for forests. #WaronWaste #forest #ClimateChange https://t.co/2HTB6ZrDSe'"
      ]
     },
     "execution_count": 99,
     "metadata": {},
     "output_type": "execute_result"
    }
   ],
   "source": [
    "dfs_select['full_text'][0]"
   ]
  },
  {
   "cell_type": "code",
   "execution_count": 105,
   "metadata": {},
   "outputs": [
    {
     "name": "stdout",
     "output_type": "stream",
     "text": [
      "RT @JerryDunleavy: Bill Cosby, Kevin Spacey, and countless rape enablers get to keep their stars though, because Drumpf. https://t.co/iuzId…\n"
     ]
    }
   ],
   "source": [
    "dfs_select['full_text'][1]"
   ]
  },
  {
   "cell_type": "code",
   "execution_count": 101,
   "metadata": {
    "scrolled": true
   },
   "outputs": [
    {
     "data": {
      "text/plain": [
       "'RT @mack3636: If she really believes in equality for women she would be working to allow @FaithGoldy to be heard in Canada. https://t.co/ec…'"
      ]
     },
     "execution_count": 101,
     "metadata": {},
     "output_type": "execute_result"
    }
   ],
   "source": [
    "dfs_select['full_text'][2]"
   ]
  },
  {
   "cell_type": "code",
   "execution_count": 102,
   "metadata": {},
   "outputs": [
    {
     "data": {
      "text/plain": [
       "'RT @MoneyFemDom: HeadMistress Cleo &amp; Rinser Girls on Skype\\n\\nhttps://t.co/w3N7vY6Vm5\\nIntox rinse session!\\n\\n@MoneyFemDom @TheQueenMorgan @Mon…'"
      ]
     },
     "execution_count": 102,
     "metadata": {},
     "output_type": "execute_result"
    }
   ],
   "source": [
    "dfs_select['full_text'][3]"
   ]
  },
  {
   "cell_type": "code",
   "execution_count": 103,
   "metadata": {
    "scrolled": true
   },
   "outputs": [
    {
     "data": {
      "text/plain": [
       "'.@cathmckenna, women &amp; girls are vulnerable to climate change and they need your help to adapt. Will you announce support for women around the world? @glblctzncan @foodgrains'"
      ]
     },
     "execution_count": 103,
     "metadata": {},
     "output_type": "execute_result"
    }
   ],
   "source": [
    "dfs_select['full_text'][4]"
   ]
  },
  {
   "cell_type": "code",
   "execution_count": 104,
   "metadata": {
    "scrolled": true
   },
   "outputs": [
    {
     "data": {
      "text/plain": [
       "\"RT @ajplus: West Hollywood's City Council will vote on a resolution to permanently remove President Trump’s star from the Hollywood Walk of…\""
      ]
     },
     "execution_count": 104,
     "metadata": {},
     "output_type": "execute_result"
    }
   ],
   "source": [
    "dfs_select['full_text'][5]"
   ]
  },
  {
   "cell_type": "code",
   "execution_count": 106,
   "metadata": {},
   "outputs": [
    {
     "data": {
      "text/plain": [
       "'“SIN, NOT CARBON, CAUSES CLIMATE CHANGE.'"
      ]
     },
     "execution_count": 106,
     "metadata": {},
     "output_type": "execute_result"
    }
   ],
   "source": [
    "dfs_select['full_text'][6]"
   ]
  },
  {
   "cell_type": "code",
   "execution_count": 108,
   "metadata": {},
   "outputs": [
    {
     "data": {
      "text/plain": [
       "\"RT @_cingraham: Incredible story: Trump administration finds that catastrophic global warming is inevitable so it doesn't matter if we loos…\""
      ]
     },
     "execution_count": 108,
     "metadata": {},
     "output_type": "execute_result"
    }
   ],
   "source": [
    "dfs_select['full_text'][7]"
   ]
  },
  {
   "cell_type": "code",
   "execution_count": 109,
   "metadata": {},
   "outputs": [
    {
     "data": {
      "text/plain": [
       "\"RT @FawadPTIUpdates: Pakistan is one of the 7 countries most affected by global warming. Let's play our role in saving future of our coming…\""
      ]
     },
     "execution_count": 109,
     "metadata": {},
     "output_type": "execute_result"
    }
   ],
   "source": [
    "dfs_select['full_text'][8]"
   ]
  },
  {
   "cell_type": "code",
   "execution_count": 111,
   "metadata": {},
   "outputs": [
    {
     "data": {
      "text/plain": [
       "'RT @ialhusseini: Help me change the world. For every 1,000 new followers I receive, I will donate $1,000 to @RAN. The Rainforest Action Net…'"
      ]
     },
     "execution_count": 111,
     "metadata": {},
     "output_type": "execute_result"
    }
   ],
   "source": [
    "dfs_select['full_text'][9]"
   ]
  },
  {
   "cell_type": "code",
   "execution_count": 112,
   "metadata": {},
   "outputs": [
    {
     "data": {
      "text/plain": [
       "\"RT @NancySinatra: This is terrifying for Hawaii and it doesn't bode well for our planet. Earthquakes in Fiji too. After we impeach @realDon…\""
      ]
     },
     "execution_count": 112,
     "metadata": {},
     "output_type": "execute_result"
    }
   ],
   "source": [
    "dfs_select['full_text'][10]"
   ]
  },
  {
   "cell_type": "code",
   "execution_count": 113,
   "metadata": {},
   "outputs": [
    {
     "data": {
      "text/plain": [
       "'RT @Anoopnautiyal1: Media reports have attributed #CloudBurst as the cause for 7 deaths due to heavy rains in #Dehradun. Perhaps one of the…'"
      ]
     },
     "execution_count": 113,
     "metadata": {},
     "output_type": "execute_result"
    }
   ],
   "source": [
    "dfs_select['full_text'][11]"
   ]
  },
  {
   "cell_type": "code",
   "execution_count": 114,
   "metadata": {},
   "outputs": [
    {
     "data": {
      "text/plain": [
       "'RT @PaulEDawson: “There is a real danger that we will leave future generations only rubble, deserts and refuse,”\\n\\n#ActOnClimate #ClimateCha…'"
      ]
     },
     "execution_count": 114,
     "metadata": {},
     "output_type": "execute_result"
    }
   ],
   "source": [
    "dfs_select['full_text'][12]"
   ]
  },
  {
   "cell_type": "code",
   "execution_count": 115,
   "metadata": {},
   "outputs": [
    {
     "data": {
      "text/plain": [
       "'RT @ImranKhanPTI: Today we launch our tree plantation drive #Plant4Pakistan across the entire country. I want everyone to join this #GreenP…'"
      ]
     },
     "execution_count": 115,
     "metadata": {},
     "output_type": "execute_result"
    }
   ],
   "source": [
    "dfs_select['full_text'][13]"
   ]
  },
  {
   "cell_type": "code",
   "execution_count": 117,
   "metadata": {
    "scrolled": true
   },
   "outputs": [
    {
     "data": {
      "text/plain": [
       "\"RT @chuckwoolery: 60 min. Climate change. Stahl do you believe all the scientists who say it's real? Trump these scientists have a Politica…\""
      ]
     },
     "execution_count": 117,
     "metadata": {},
     "output_type": "execute_result"
    }
   ],
   "source": [
    "dfs_select['full_text'][14]"
   ]
  },
  {
   "cell_type": "code",
   "execution_count": 118,
   "metadata": {},
   "outputs": [
    {
     "data": {
      "text/plain": [
       "'RT @ZanderKelly30: California Wildfires Are So Big They Are Creating Massive Fire Tornadoes https://t.co/T0SeLEFw6J via @dailycaller'"
      ]
     },
     "execution_count": 118,
     "metadata": {},
     "output_type": "execute_result"
    }
   ],
   "source": [
    "dfs_select['full_text'][15]"
   ]
  },
  {
   "cell_type": "code",
   "execution_count": 119,
   "metadata": {},
   "outputs": [
    {
     "data": {
      "text/plain": [
       "'RT @Mambotjiie: Ekse ama\"Global Warming Citizens\" how\\'s the assignment going ? 😂😂😂'"
      ]
     },
     "execution_count": 119,
     "metadata": {},
     "output_type": "execute_result"
    }
   ],
   "source": [
    "dfs_select['full_text'][16]"
   ]
  },
  {
   "cell_type": "code",
   "execution_count": 120,
   "metadata": {},
   "outputs": [
    {
     "data": {
      "text/plain": [
       "\"And then there was Starbucks.. how did we ever get through without Starbucks.... Please.. please climate change don't take our Starbucks away!! https://t.co/VVyDnueZEc\""
      ]
     },
     "execution_count": 120,
     "metadata": {},
     "output_type": "execute_result"
    }
   ],
   "source": [
    "dfs_select['full_text'][17]"
   ]
  },
  {
   "cell_type": "code",
   "execution_count": 121,
   "metadata": {},
   "outputs": [
    {
     "data": {
      "text/plain": [
       "'Planning trip to YSP with Eve. Trying to rise above global warming hysteria and Brexit insanity. Having counselling for both.'"
      ]
     },
     "execution_count": 121,
     "metadata": {},
     "output_type": "execute_result"
    }
   ],
   "source": [
    "dfs_select['full_text'][18]"
   ]
  },
  {
   "cell_type": "code",
   "execution_count": 122,
   "metadata": {},
   "outputs": [
    {
     "data": {
      "text/plain": [
       "'RT @CASE_forAmerica: How the left’s deranged climate change lawsuits will make Americans pay - https://t.co/w9F2WVs2MQ - @washtimes'"
      ]
     },
     "execution_count": 122,
     "metadata": {},
     "output_type": "execute_result"
    }
   ],
   "source": [
    "dfs_select['full_text'][19]"
   ]
  },
  {
   "cell_type": "code",
   "execution_count": 123,
   "metadata": {},
   "outputs": [
    {
     "data": {
      "text/plain": [
       "'RT @PaulEDawson: “It is outrageous that industrial climate-killers banned several years ago continue to be produced, used and emitted at th…'"
      ]
     },
     "execution_count": 123,
     "metadata": {},
     "output_type": "execute_result"
    }
   ],
   "source": [
    "dfs_select['full_text'][20]"
   ]
  },
  {
   "cell_type": "code",
   "execution_count": 124,
   "metadata": {},
   "outputs": [
    {
     "data": {
      "text/plain": [
       "'.@cathmckenna, women &amp; girls are vulnerable to climate change and they need your help to adapt. Will you announce support for women around the world? @glblctzncan @foodgrains'"
      ]
     },
     "execution_count": 124,
     "metadata": {},
     "output_type": "execute_result"
    }
   ],
   "source": [
    "dfs_select['full_text'][21]"
   ]
  },
  {
   "cell_type": "code",
   "execution_count": 125,
   "metadata": {},
   "outputs": [
    {
     "data": {
      "text/plain": [
       "'RT @ImranKhanPTI: Today we launch our tree plantation drive #Plant4Pakistan across the entire country. I want everyone to join this #GreenP…'"
      ]
     },
     "execution_count": 125,
     "metadata": {},
     "output_type": "execute_result"
    }
   ],
   "source": [
    "dfs_select['full_text'][22]"
   ]
  },
  {
   "cell_type": "code",
   "execution_count": 126,
   "metadata": {},
   "outputs": [
    {
     "data": {
      "text/plain": [
       "'RT @James_BG: Got so fed up with the reporting on the heat wave that failed to mention or underplayed climate change that I wrote a thing h…'"
      ]
     },
     "execution_count": 126,
     "metadata": {},
     "output_type": "execute_result"
    }
   ],
   "source": [
    "dfs_select['full_text'][23]"
   ]
  },
  {
   "cell_type": "code",
   "execution_count": 127,
   "metadata": {},
   "outputs": [
    {
     "data": {
      "text/plain": [
       "'RT @RealJamesWoods: A drought “destroyed civilizations around the world” 4200 years ago. Well, that’s what they get for not driving electri…'"
      ]
     },
     "execution_count": 127,
     "metadata": {},
     "output_type": "execute_result"
    }
   ],
   "source": [
    "dfs_select['full_text'][24]"
   ]
  },
  {
   "cell_type": "code",
   "execution_count": 128,
   "metadata": {},
   "outputs": [
    {
     "data": {
      "text/plain": [
       "'RT @elonmusk: Tesla exists to help reduce risk of catastrophic climate change, which affects all species on Earth. Even if your faith in hu…'"
      ]
     },
     "execution_count": 128,
     "metadata": {},
     "output_type": "execute_result"
    }
   ],
   "source": [
    "dfs_select['full_text'][25]"
   ]
  },
  {
   "cell_type": "code",
   "execution_count": 129,
   "metadata": {},
   "outputs": [
    {
     "data": {
      "text/plain": [
       "'Can’t make this shit up. https://t.co/pPQKoXr3mg'"
      ]
     },
     "execution_count": 129,
     "metadata": {},
     "output_type": "execute_result"
    }
   ],
   "source": [
    "dfs_select['full_text'][26]"
   ]
  },
  {
   "cell_type": "markdown",
   "metadata": {},
   "source": [
    "### Sentiment Insights\n",
    "The cluster selection has about 10% of posts with a negative rating and 6% positive, the overall posts have about 8% with negative and 8% positive. So the tweets from suspicious accounts show a higher negative rating and lower positive rating by a difference of 2% each way. This would line up with the expectation that the bots would be used to spread anti-climate-change disinformation."
   ]
  },
  {
   "cell_type": "markdown",
   "metadata": {},
   "source": [
    "&nbsp;\n",
    "## Discussion\n",
    "Overall, the grouping of users based on features suggested from previous work done in the field was very successful. Accounts were found with posting frequencies in the tens of thousands of tweets per day, which is far beyond what any human could reasonably do.\n",
    "\n",
    "Ultimately the interest lies in wheter these likely bot accounts show meaningful differences in posting activity versus the rest. The results of analyzing the use of hashtags, the use of URLs, and sentiment ratings showed some promising differences which line up with expectations. \n",
    "\n",
    "However, each of these analyses were performed in a fairly limited way. The hashtag use only looks at the overall usage, rather than the use of specific hashtags such as ones that contain the word 'hoax'. Certianly more could be explored in the area of hashtag usage. Similarly, the sentiment analysis is performed with a general purpose bag-of-words tool (the Vader analyzer from the NLTK package). This has provided some promising general insights, but there are limitations: this approach can have difficulty with words that are not in its bag-of-words, and it ignores the pecularities of speech use in a specific context. This might be especially relevant with a subject such a climate change, which centers around scientific claims and thus might involve language unlike what is used in overall speech.\n",
    "\n",
    "&nbsp;\n",
    "\n",
    "The results of my analyses, though somewhat limited, line up with expectations about bot activity, and seem to confirm some of the claims made by the referenced materials. Perhaps these user features are actually useful in the initial stages of identifying astroturfing, particularly from bots. However, there is much room to perform more sophisticated analyses on the content of the tweets once the identification is done."
   ]
  }
 ],
 "metadata": {
  "colab": {
   "name": "Proposal.ipynb",
   "provenance": []
  },
  "kernelspec": {
   "display_name": "Python 3",
   "language": "python",
   "name": "python3"
  },
  "language_info": {
   "codemirror_mode": {
    "name": "ipython",
    "version": 3
   },
   "file_extension": ".py",
   "mimetype": "text/x-python",
   "name": "python",
   "nbconvert_exporter": "python",
   "pygments_lexer": "ipython3",
   "version": "3.6.9"
  }
 },
 "nbformat": 4,
 "nbformat_minor": 1
}
