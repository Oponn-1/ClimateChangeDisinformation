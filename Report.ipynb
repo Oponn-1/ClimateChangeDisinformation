{
 "cells": [
  {
   "cell_type": "markdown",
   "metadata": {
    "id": "M6Tv5H778CqV"
   },
   "source": [
    "# Detecting Climate Change Disinformation on Twitter\n",
    "Andres De La Fuente\n",
    "\n",
    "University of Washington, 2021\n",
    "\n",
    "\n",
    "## Introduction\n",
    "\n",
    "The idea of this project is to explore a collection of tweets which are about a political topic (Climate Change), and employ specific features related to user accounts in order to potentially identify evidence of astroturfing. In this project I focus on identifying the presence of bots, and analyzing whether these suspicious accounts display differences in the content of their posts (relative to the overall trends) which would suggest a particular agenda.\n",
    "\n",
    "## Motivation\n",
    "The way we consume information has changed dramatically in the past decade or so. People are exposed to more information than ever before, and it has become completely unfeasible for a given individual to identify the trustowrthiness of the content they are seeing. It has become clear that various forms of manipulative tactics on social media are very effective, as they have been used to influence elections, and more recently to sow distrust in the medical community (Coronavirus disinformation). \n",
    "\n",
    "It would be incredibly useful for us to start investigating these dynamics and treating the flow of information on the internet as the essential basis of society that it has become. Ideally, this project would successfully find evidence of politically motivated astroturfing by bot accounts with relation to the subject of climate change.\n",
    "\n",
    "## Data\n",
    "For this analysis, I use the following dataset of tweets about climate change:\n",
    "\n",
    "[Data](https://dataverse.harvard.edu/dataset.xhtml?persistentId=doi:10.7910/DVN/5QCCUU)\n",
    "\n",
    "The data simply contains the IDs of tweets which feature climate change related hashtags such as #climatechange or #climatehoax.\n",
    "\n",
    "The license for the dataset is CC0, and is for public use. The terms of service require citation. \n",
    "This data fulfills my purposes because it provides a set of tweets already grouped by focus on a specific political topic.\n",
    "\n",
    "The primary reason for using tweets related to climate change is that I want to focus on a political topic for which what we consider to be disinformation is widely agreed upon. There is such a broad scientific consensus on the reality of man made climate change that I can go into the analysis with the assumption that climate denial is a form of disinformation.\n",
    "\n",
    "A broad ethical consideration with relation to this type of analysis is the implication of using human generated content to identify intent. It is possible to mischaracterize real user behavior as disingenous organized behavior, and if this is the case the insights might falsely suggest that a particular agenda is purely pushed by artificial activity. That said, the feature of posting frequency I use in this analysis is a very strong indication of bots, and I have confidence that the accounts identified as potential bots, thanks to this feature, are indeed not human users.\n",
    "\n",
    "### How to Set Up the Data Yourself\n",
    "The referenced dataset contains identifier numbers for the selected tweets. It numbers in the millions of tweets, but I use a subset of that here. The dataset is broken into three separate text files in on the source website, download the first of these files.\n",
    "\n",
    "Next, you need a tool such as [Twarc](https://github.com/DocNow/twarc), which is what I use, to 'hydrate' the tweets. This means that you are going through Twitter's developer API to reference the tweet identifiers and retrieve all of the information for each tweet. This is returned in JSON format. \n",
    "\n",
    "**You need a Twitter Developer account to perform the hydration process**. \n",
    "\n",
    "Unfortunately, Twitter's Terms of Service do not allow the public sharing of full tweet information colleted through their API, so I can only share tweet identifiers (this is the reason my referenced dataset is also in this format).\n",
    "\n",
    "For my analysis, I use a randomly selected subset of 100,000 tweets. To select these tweets I use the following command in a Linux terminal:\n",
    "\n",
    "```\n",
    "shuf -n 100000 input_file.txt > output_file.txt\n",
    "```\n",
    "\n",
    "Once you have done this, perform the hydration using Twarc on your output_file.txt (however you wish to name it). The resulting JSON file is what you should use as input in 'Loading Data' section below. In my code, this is called \"small_tweets.jsonl\". I have included my particular sample of 100000 tweet IDs as \"small_sample.txt\" in the repository.\n",
    "\n",
    "&nbsp;\n",
    "\n",
    "*I have included a python script called \"tweetID_sampler.py\" so you can perform the random sampling of tweet IDs even if you cannot use shuf. The script will prompt you for input and output filenames as well as the number you wish to sample.*\n"
   ]
  },
  {
   "cell_type": "markdown",
   "metadata": {
    "id": "dJbVUVpAwNQ_"
   },
   "source": [
    "&nbsp;\n",
    "# Research Questions\n",
    "- **Are there features about user accounts which are indicative of inorganic activity and which can effectively distinguish the accounts in this dataset?**\n",
    "\n",
    "- **Given groupings based on these features, are there meaningful differences in tweet content? Do tweets in the suspect user group feature more of a certain hashtag or use of URLs?**\n",
    "\n",
    "- **Do these differences suggest a particular agenda for the suspected accounts?**\n",
    "\n",
    "# Background / Related Work\n",
    "[Political Astroturfing in South Korea](https://www.researchgate.net/profile/Junghwan_Yang2/publication/317290047_How_to_Manipulate_Social_Media_Analyzing_Political_Astroturfing_Using_Ground_Truth_Data_from_South_Korea/links/59305a9ca6fdcc89e7844440/How-to-Manipulate-Social-Media-Analyzing-Political-Astroturfing-Using-Ground-Truth-Data-from-South-Korea.pdf)\n",
    "\n",
    "[Russian Political Disinformation](https://secondaryinfektion.org/)\n",
    "\n",
    "[Detecting the Use of Multiple Accounts](https://onlinelibrary.wiley.com/doi/abs/10.1002/cpe.4013)\n",
    "\n",
    "[Common Signs of Bots](https://blog.mozilla.org/internetcitizen/2018/01/08/irl-how-to-spot-a-bot/)\n",
    "\n",
    "The somewhat limited work that exists in this area indicates two different kinds of analyses that are used to identify inorganic activity. First, there is the consideration of individual user features, such as an account's age and posting frequency, which can be useful for identifying bots. Second, when looking for astroturfing, it is necessary to consider trends and patterns in posting activity, finding similarities in content even across platforms. The latter type of analysis is much more involved and technically complicated, so I will focus on the former: user account features.\n",
    "\n",
    "# Methodology\n",
    "\n",
    "**Exploratory Visualizations:** \n",
    "\n",
    "I use some exploratory visualizations and statistical summaries to explore the user features which I have identified as potential indicators of inorganic activity.\n",
    "\n",
    "**Clustering Algorithms:** \n",
    "\n",
    "Since some of these features turn out to indicate strong distinctions among user accounts, and the suspicious accounts number far fewer than the overall accounts, I use Gaussian Mixture clustering to group accounts based on these features.\n",
    "\n",
    "**Manual Subset Selection:**\n",
    "\n",
    "Besides clustering, due to the very interpretable nature of the selected features, I also manually select a subset of accounts by using cutoffs for these features.\n",
    "\n",
    "**NLP:** \n",
    "\n",
    "I use simple string tokenization to calculate things such as the presence of hashtags in the different tweet groupings, as well as the use of URLs. \n",
    "\n",
    "I use the Vader sentiment analysis tool from the NLTK python package to get some simple sentiment insights. This tool uses a bag of word approach (it has a reference table of positive and negative words), as well as heuristics to take care of sentiment flipping (the use of 'not' before a word).\n",
    "\n"
   ]
  },
  {
   "cell_type": "code",
   "execution_count": 254,
   "metadata": {},
   "outputs": [
    {
     "name": "stderr",
     "output_type": "stream",
     "text": [
      "[nltk_data] Downloading package vader_lexicon to\n",
      "[nltk_data]     /home/oponn/nltk_data...\n",
      "[nltk_data]   Package vader_lexicon is already up-to-date!\n"
     ]
    }
   ],
   "source": [
    "import pandas as pd\n",
    "import numpy as np\n",
    "import re\n",
    "import matplotlib.pyplot as plt\n",
    "from scipy import stats\n",
    "from mpl_toolkits.mplot3d import Axes3D\n",
    "from sklearn.cluster import KMeans\n",
    "from sklearn.model_selection import train_test_split\n",
    "from collections import Counter\n",
    "\n",
    "import nltk\n",
    "nltk.download('vader_lexicon')\n",
    "from nltk.sentiment.vader import SentimentIntensityAnalyzer"
   ]
  },
  {
   "cell_type": "markdown",
   "metadata": {},
   "source": [
    "&nbsp;\n",
    "## Helper Functions\n",
    "Below are helper functions that are used further down through the analyses.\n",
    "\n",
    "&nbsp;\n",
    "\n",
    "**percentNumbers**\n",
    "\n",
    "This calculates the percentage of numerical digits in a string, to be used on screen names of twitter accounts."
   ]
  },
  {
   "cell_type": "code",
   "execution_count": 131,
   "metadata": {},
   "outputs": [],
   "source": [
    "def percentNumbers(my_string):\n",
    "    return (len(re.sub(\"[^0-9]\", \"\", my_string))/len(my_string))"
   ]
  },
  {
   "cell_type": "markdown",
   "metadata": {},
   "source": [
    "**listNotEmpty**\n",
    "\n",
    "This returns True if the given list is empty, to be used for noting the presence of things within a tweet of which there could be more than one (e.g. URLs)."
   ]
  },
  {
   "cell_type": "code",
   "execution_count": 223,
   "metadata": {},
   "outputs": [],
   "source": [
    "def listNotEmpty(my_list):\n",
    "    return(len(my_list) > 0)"
   ]
  },
  {
   "cell_type": "code",
   "execution_count": 67,
   "metadata": {},
   "outputs": [],
   "source": [
    "def containsOrg(url_list):\n",
    "    contains = False\n",
    "    for i in url_list:\n",
    "        if (\".org\" in i):\n",
    "            contains = True\n",
    "    return contains"
   ]
  },
  {
   "cell_type": "markdown",
   "metadata": {},
   "source": [
    "&nbsp;\n",
    "## Load and Preview Data\n",
    "First, I load the data from the json file generated by hydrating the list of tweet ID's through Twitter's API. \n",
    "\n",
    "I preview the data in the following cell."
   ]
  },
  {
   "cell_type": "code",
   "execution_count": 79,
   "metadata": {},
   "outputs": [],
   "source": [
    "dfs = pd.read_json('small_tweets.jsonl', encoding='utf-8', lines=True)"
   ]
  },
  {
   "cell_type": "code",
   "execution_count": 89,
   "metadata": {
    "scrolled": false
   },
   "outputs": [
    {
     "data": {
      "text/html": [
       "<div>\n",
       "<style scoped>\n",
       "    .dataframe tbody tr th:only-of-type {\n",
       "        vertical-align: middle;\n",
       "    }\n",
       "\n",
       "    .dataframe tbody tr th {\n",
       "        vertical-align: top;\n",
       "    }\n",
       "\n",
       "    .dataframe thead th {\n",
       "        text-align: right;\n",
       "    }\n",
       "</style>\n",
       "<table border=\"1\" class=\"dataframe\">\n",
       "  <thead>\n",
       "    <tr style=\"text-align: right;\">\n",
       "      <th></th>\n",
       "      <th>created_at</th>\n",
       "      <th>id</th>\n",
       "      <th>id_str</th>\n",
       "      <th>full_text</th>\n",
       "      <th>truncated</th>\n",
       "      <th>display_text_range</th>\n",
       "      <th>entities</th>\n",
       "      <th>source</th>\n",
       "      <th>in_reply_to_status_id</th>\n",
       "      <th>in_reply_to_status_id_str</th>\n",
       "      <th>...</th>\n",
       "      <th>quoted_status</th>\n",
       "      <th>retweet_count</th>\n",
       "      <th>favorite_count</th>\n",
       "      <th>favorited</th>\n",
       "      <th>retweeted</th>\n",
       "      <th>possibly_sensitive</th>\n",
       "      <th>lang</th>\n",
       "      <th>retweeted_status</th>\n",
       "      <th>extended_entities</th>\n",
       "      <th>withheld_in_countries</th>\n",
       "    </tr>\n",
       "  </thead>\n",
       "  <tbody>\n",
       "    <tr>\n",
       "      <th>0</th>\n",
       "      <td>2018-06-13 21:12:26+00:00</td>\n",
       "      <td>1007007810725597184</td>\n",
       "      <td>1007007810725597184</td>\n",
       "      <td>So concerned for our earth while others just w...</td>\n",
       "      <td>False</td>\n",
       "      <td>[0, 160]</td>\n",
       "      <td>{'hashtags': [], 'symbols': [], 'user_mentions...</td>\n",
       "      <td>&lt;a href=\"http://twitter.com/download/iphone\" r...</td>\n",
       "      <td>NaN</td>\n",
       "      <td>NaN</td>\n",
       "      <td>...</td>\n",
       "      <td>{'created_at': 'Wed Jun 13 19:07:30 +0000 2018...</td>\n",
       "      <td>0</td>\n",
       "      <td>0</td>\n",
       "      <td>False</td>\n",
       "      <td>False</td>\n",
       "      <td>0.0</td>\n",
       "      <td>en</td>\n",
       "      <td>NaN</td>\n",
       "      <td>NaN</td>\n",
       "      <td>NaN</td>\n",
       "    </tr>\n",
       "    <tr>\n",
       "      <th>1</th>\n",
       "      <td>2018-06-16 22:12:00+00:00</td>\n",
       "      <td>1008109966232875009</td>\n",
       "      <td>1008109966232875008</td>\n",
       "      <td>\"Poor people just get the short end of the sti...</td>\n",
       "      <td>False</td>\n",
       "      <td>[0, 223]</td>\n",
       "      <td>{'hashtags': [], 'symbols': [], 'user_mentions...</td>\n",
       "      <td>&lt;a href=\"https://about.twitter.com/products/tw...</td>\n",
       "      <td>NaN</td>\n",
       "      <td>NaN</td>\n",
       "      <td>...</td>\n",
       "      <td>NaN</td>\n",
       "      <td>1</td>\n",
       "      <td>3</td>\n",
       "      <td>False</td>\n",
       "      <td>False</td>\n",
       "      <td>0.0</td>\n",
       "      <td>en</td>\n",
       "      <td>NaN</td>\n",
       "      <td>NaN</td>\n",
       "      <td>NaN</td>\n",
       "    </tr>\n",
       "    <tr>\n",
       "      <th>2</th>\n",
       "      <td>2018-06-21 14:12:17+00:00</td>\n",
       "      <td>1009801182317932544</td>\n",
       "      <td>1009801182317932544</td>\n",
       "      <td>Even during all of this chaos, these assholes ...</td>\n",
       "      <td>False</td>\n",
       "      <td>[0, 85]</td>\n",
       "      <td>{'hashtags': [], 'symbols': [], 'user_mentions...</td>\n",
       "      <td>&lt;a href=\"http://tapbots.com/tweetbot\" rel=\"nof...</td>\n",
       "      <td>NaN</td>\n",
       "      <td>NaN</td>\n",
       "      <td>...</td>\n",
       "      <td>{'created_at': 'Thu Jun 21 13:55:07 +0000 2018...</td>\n",
       "      <td>0</td>\n",
       "      <td>1</td>\n",
       "      <td>False</td>\n",
       "      <td>False</td>\n",
       "      <td>0.0</td>\n",
       "      <td>en</td>\n",
       "      <td>NaN</td>\n",
       "      <td>NaN</td>\n",
       "      <td>NaN</td>\n",
       "    </tr>\n",
       "    <tr>\n",
       "      <th>3</th>\n",
       "      <td>2018-06-22 01:49:22+00:00</td>\n",
       "      <td>1009976609154088961</td>\n",
       "      <td>1009976609154088960</td>\n",
       "      <td>RT @MikeHudema: These Indigenous defenders are...</td>\n",
       "      <td>False</td>\n",
       "      <td>[0, 140]</td>\n",
       "      <td>{'hashtags': [], 'symbols': [], 'user_mentions...</td>\n",
       "      <td>&lt;a href=\"http://twitter.com\" rel=\"nofollow\"&gt;Tw...</td>\n",
       "      <td>NaN</td>\n",
       "      <td>NaN</td>\n",
       "      <td>...</td>\n",
       "      <td>NaN</td>\n",
       "      <td>235</td>\n",
       "      <td>0</td>\n",
       "      <td>False</td>\n",
       "      <td>False</td>\n",
       "      <td>0.0</td>\n",
       "      <td>en</td>\n",
       "      <td>{'created_at': 'Thu Jun 21 20:44:01 +0000 2018...</td>\n",
       "      <td>NaN</td>\n",
       "      <td>NaN</td>\n",
       "    </tr>\n",
       "    <tr>\n",
       "      <th>4</th>\n",
       "      <td>2018-06-22 15:17:38+00:00</td>\n",
       "      <td>1010180016418590720</td>\n",
       "      <td>1010180016418590720</td>\n",
       "      <td>RT @eugenegu: Trump’s Red Wave is another term...</td>\n",
       "      <td>False</td>\n",
       "      <td>[0, 140]</td>\n",
       "      <td>{'hashtags': [], 'symbols': [], 'user_mentions...</td>\n",
       "      <td>&lt;a href=\"http://twitter.com/download/android\" ...</td>\n",
       "      <td>NaN</td>\n",
       "      <td>NaN</td>\n",
       "      <td>...</td>\n",
       "      <td>NaN</td>\n",
       "      <td>4023</td>\n",
       "      <td>0</td>\n",
       "      <td>False</td>\n",
       "      <td>False</td>\n",
       "      <td>NaN</td>\n",
       "      <td>en</td>\n",
       "      <td>{'created_at': 'Fri Jun 22 12:09:41 +0000 2018...</td>\n",
       "      <td>NaN</td>\n",
       "      <td>NaN</td>\n",
       "    </tr>\n",
       "  </tbody>\n",
       "</table>\n",
       "<p>5 rows × 32 columns</p>\n",
       "</div>"
      ],
      "text/plain": [
       "                 created_at                   id               id_str  \\\n",
       "0 2018-06-13 21:12:26+00:00  1007007810725597184  1007007810725597184   \n",
       "1 2018-06-16 22:12:00+00:00  1008109966232875009  1008109966232875008   \n",
       "2 2018-06-21 14:12:17+00:00  1009801182317932544  1009801182317932544   \n",
       "3 2018-06-22 01:49:22+00:00  1009976609154088961  1009976609154088960   \n",
       "4 2018-06-22 15:17:38+00:00  1010180016418590720  1010180016418590720   \n",
       "\n",
       "                                           full_text  truncated  \\\n",
       "0  So concerned for our earth while others just w...      False   \n",
       "1  \"Poor people just get the short end of the sti...      False   \n",
       "2  Even during all of this chaos, these assholes ...      False   \n",
       "3  RT @MikeHudema: These Indigenous defenders are...      False   \n",
       "4  RT @eugenegu: Trump’s Red Wave is another term...      False   \n",
       "\n",
       "  display_text_range                                           entities  \\\n",
       "0           [0, 160]  {'hashtags': [], 'symbols': [], 'user_mentions...   \n",
       "1           [0, 223]  {'hashtags': [], 'symbols': [], 'user_mentions...   \n",
       "2            [0, 85]  {'hashtags': [], 'symbols': [], 'user_mentions...   \n",
       "3           [0, 140]  {'hashtags': [], 'symbols': [], 'user_mentions...   \n",
       "4           [0, 140]  {'hashtags': [], 'symbols': [], 'user_mentions...   \n",
       "\n",
       "                                              source  in_reply_to_status_id  \\\n",
       "0  <a href=\"http://twitter.com/download/iphone\" r...                    NaN   \n",
       "1  <a href=\"https://about.twitter.com/products/tw...                    NaN   \n",
       "2  <a href=\"http://tapbots.com/tweetbot\" rel=\"nof...                    NaN   \n",
       "3  <a href=\"http://twitter.com\" rel=\"nofollow\">Tw...                    NaN   \n",
       "4  <a href=\"http://twitter.com/download/android\" ...                    NaN   \n",
       "\n",
       "   in_reply_to_status_id_str  ...  \\\n",
       "0                        NaN  ...   \n",
       "1                        NaN  ...   \n",
       "2                        NaN  ...   \n",
       "3                        NaN  ...   \n",
       "4                        NaN  ...   \n",
       "\n",
       "                                       quoted_status  retweet_count  \\\n",
       "0  {'created_at': 'Wed Jun 13 19:07:30 +0000 2018...              0   \n",
       "1                                                NaN              1   \n",
       "2  {'created_at': 'Thu Jun 21 13:55:07 +0000 2018...              0   \n",
       "3                                                NaN            235   \n",
       "4                                                NaN           4023   \n",
       "\n",
       "  favorite_count favorited retweeted possibly_sensitive lang  \\\n",
       "0              0     False     False                0.0   en   \n",
       "1              3     False     False                0.0   en   \n",
       "2              1     False     False                0.0   en   \n",
       "3              0     False     False                0.0   en   \n",
       "4              0     False     False                NaN   en   \n",
       "\n",
       "                                    retweeted_status  extended_entities  \\\n",
       "0                                                NaN                NaN   \n",
       "1                                                NaN                NaN   \n",
       "2                                                NaN                NaN   \n",
       "3  {'created_at': 'Thu Jun 21 20:44:01 +0000 2018...                NaN   \n",
       "4  {'created_at': 'Fri Jun 22 12:09:41 +0000 2018...                NaN   \n",
       "\n",
       "   withheld_in_countries  \n",
       "0                    NaN  \n",
       "1                    NaN  \n",
       "2                    NaN  \n",
       "3                    NaN  \n",
       "4                    NaN  \n",
       "\n",
       "[5 rows x 32 columns]"
      ]
     },
     "execution_count": 89,
     "metadata": {},
     "output_type": "execute_result"
    }
   ],
   "source": [
    "dfs.head()"
   ]
  },
  {
   "cell_type": "markdown",
   "metadata": {},
   "source": [
    "&nbsp;\n",
    "## Account Feature Exploration\n",
    "In the following section, I calculate and explore various features related to user accounts which can be indicative of inorganic activity. The selection of these features to focus on is based on the works referenced in the 'Background' section above. The features I look into are:\n",
    "- Account Age (at the time of posting the tweet)\n",
    "- Bio Length\n",
    "- Posting Frequency (posts made per day)\n",
    "- Percentage of Numbers in Name (screen name, or 'handle')"
   ]
  },
  {
   "cell_type": "markdown",
   "metadata": {},
   "source": [
    "&nbsp;\n",
    "### Account Age Calculations\n",
    "One of the most common identifying features of inorganic activity is relatively young accounts. When batches of accounts are made for bot use or human astroturfing, the accounts are typically used right away, rather than letting them age for years before use. As can be observed below, most user accounts are years old.\n",
    "\n",
    "&nbsp;\n",
    "\n",
    "**Isolate account creation dates**\n",
    "\n",
    "First I get a list of the timestamps for account creation related to each tweet."
   ]
  },
  {
   "cell_type": "code",
   "execution_count": 80,
   "metadata": {},
   "outputs": [],
   "source": [
    "acct_start = []\n",
    "\n",
    "for i in dfs['user']:\n",
    "    acct_start.append(i['created_at'])   "
   ]
  },
  {
   "cell_type": "markdown",
   "metadata": {},
   "source": [
    "**Calculate age of account when posting each tweet**\n",
    "\n",
    "Now, I record the difference between the tweet's creation time and associated account's creation time for each tweet."
   ]
  },
  {
   "cell_type": "code",
   "execution_count": 180,
   "metadata": {},
   "outputs": [],
   "source": [
    "age_at_post = []\n",
    "\n",
    "for i in range(len(acct_start)):\n",
    "    # Get the account creation date and post date\n",
    "    a = acct_start[i]\n",
    "    b = dfs['created_at'][i]\n",
    "    \n",
    "    # Convert both into the same Timestamp format\n",
    "    a = pd.Timestamp(a).tz_localize(None)\n",
    "    b = pd.Timestamp(b).tz_localize(None)\n",
    "    \n",
    "    # Calculate the age at posting in seconds\n",
    "    age_at_post.append((b - a).total_seconds())\n",
    "    "
   ]
  },
  {
   "cell_type": "markdown",
   "metadata": {},
   "source": [
    "**Convert to days**\n",
    "\n",
    "I convert the account age at time of posting from seconds to days."
   ]
  },
  {
   "cell_type": "code",
   "execution_count": 181,
   "metadata": {},
   "outputs": [],
   "source": [
    "seconds_in_day = 60 * 60 * 24\n",
    "age_at_post_days = [x / seconds_in_day for x in age_at_post]"
   ]
  },
  {
   "cell_type": "markdown",
   "metadata": {},
   "source": [
    "&nbsp;\n",
    "### Visualizing Account Ages\n",
    "Below I visualize the spread of account ages at time of posting. I also display some summary statistics in the following cell. As expected, the distribution implies that the accounts have been created throughout the existence of Twitter, with the average age being a few years."
   ]
  },
  {
   "cell_type": "code",
   "execution_count": 182,
   "metadata": {
    "scrolled": true
   },
   "outputs": [
    {
     "data": {
      "text/plain": [
       "Text(0, 0.5, 'Accounts')"
      ]
     },
     "execution_count": 182,
     "metadata": {},
     "output_type": "execute_result"
    },
    {
     "data": {
      "image/png": "[encoded data removed]",
      "text/plain": [
       "<Figure size 432x288 with 1 Axes>"
      ]
     },
     "metadata": {
      "needs_background": "light"
     },
     "output_type": "display_data"
    }
   ],
   "source": [
    "plt.hist(age_at_post_days, bins=20)\n",
    "plt.title(\"Distribution of Account Age at Posting Time\")\n",
    "plt.xlabel(\"Days\")\n",
    "plt.ylabel(\"Accounts\")"
   ]
  },
  {
   "cell_type": "code",
   "execution_count": 183,
   "metadata": {
    "scrolled": true
   },
   "outputs": [
    {
     "data": {
      "text/plain": [
       "DescribeResult(nobs=54606, minmax=(0.001388888888888889, 4451.296400462963), mean=2006.903889598094, variance=1220622.339959223, skewness=-0.16379952022070168, kurtosis=-1.1726402652229686)"
      ]
     },
     "execution_count": 183,
     "metadata": {},
     "output_type": "execute_result"
    }
   ],
   "source": [
    "stats.describe(age_at_post_days)"
   ]
  },
  {
   "cell_type": "code",
   "execution_count": 124,
   "metadata": {
    "scrolled": true
   },
   "outputs": [
    {
     "data": {
      "text/plain": [
       "{'id': 1674050738,\n",
       " 'id_str': '1674050738',\n",
       " 'name': 'Catherine Maron',\n",
       " 'screen_name': 'CCmmaron',\n",
       " 'location': '',\n",
       " 'description': 'Proud mom of 3, grateful daughter and partner, teacher and life-long learner.',\n",
       " 'url': None,\n",
       " 'entities': {'description': {'urls': []}},\n",
       " 'protected': False,\n",
       " 'followers_count': 20,\n",
       " 'friends_count': 143,\n",
       " 'listed_count': 0,\n",
       " 'created_at': 'Thu Aug 15 20:56:49 +0000 2013',\n",
       " 'favourites_count': 74,\n",
       " 'utc_offset': None,\n",
       " 'time_zone': None,\n",
       " 'geo_enabled': False,\n",
       " 'verified': False,\n",
       " 'statuses_count': 67,\n",
       " 'lang': None,\n",
       " 'contributors_enabled': False,\n",
       " 'is_translator': False,\n",
       " 'is_translation_enabled': False,\n",
       " 'profile_background_color': 'C0DEED',\n",
       " 'profile_background_image_url': 'http://abs.twimg.com/images/themes/theme1/bg.png',\n",
       " 'profile_background_image_url_https': 'https://abs.twimg.com/images/themes/theme1/bg.png',\n",
       " 'profile_background_tile': False,\n",
       " 'profile_image_url': 'http://pbs.twimg.com/profile_images/946702944812064769/G9nrKQbU_normal.jpg',\n",
       " 'profile_image_url_https': 'https://pbs.twimg.com/profile_images/946702944812064769/G9nrKQbU_normal.jpg',\n",
       " 'profile_banner_url': 'https://pbs.twimg.com/profile_banners/1674050738/1519188356',\n",
       " 'profile_image_extensions_alt_text': None,\n",
       " 'profile_banner_extensions_alt_text': None,\n",
       " 'profile_link_color': '1DA1F2',\n",
       " 'profile_sidebar_border_color': 'C0DEED',\n",
       " 'profile_sidebar_fill_color': 'DDEEF6',\n",
       " 'profile_text_color': '333333',\n",
       " 'profile_use_background_image': True,\n",
       " 'has_extended_profile': False,\n",
       " 'default_profile': True,\n",
       " 'default_profile_image': False,\n",
       " 'following': False,\n",
       " 'follow_request_sent': False,\n",
       " 'notifications': False,\n",
       " 'translator_type': 'none'}"
      ]
     },
     "execution_count": 124,
     "metadata": {},
     "output_type": "execute_result"
    }
   ],
   "source": [
    "dfs[\"user\"][0]"
   ]
  },
  {
   "cell_type": "markdown",
   "metadata": {},
   "source": [
    "&nbsp;\n",
    "### Posting Frequency Calculations\n",
    "Another suspicious account feature which is intuitively a good indicator of inorganic activity is an account's posting frequency. Fake accounts, especially bots, are made with the goal of spreading or magnifying some message, therefore they are used to perform large amounts of activity (such as retweeting, which counts as a tweet) relative to the average human user.\n",
    "\n",
    "&nbsp;\n",
    "\n",
    "**Calculate number of posts**\n",
    "\n",
    "First I calculate the number of posts made by the account associated with each tweet."
   ]
  },
  {
   "cell_type": "code",
   "execution_count": 184,
   "metadata": {},
   "outputs": [],
   "source": [
    "num_posts = []\n",
    "for i in range(len(dfs)):\n",
    "    num = dfs['user'][i]['statuses_count']\n",
    "    num_posts.append(num)"
   ]
  },
  {
   "cell_type": "markdown",
   "metadata": {},
   "source": [
    "As evidenced by some summary statistics, there are posting amounts which are suspiciously high."
   ]
  },
  {
   "cell_type": "code",
   "execution_count": 185,
   "metadata": {
    "scrolled": true
   },
   "outputs": [
    {
     "data": {
      "text/plain": [
       "DescribeResult(nobs=54606, minmax=(1, 3655420), mean=74751.57246456433, variance=21746165132.687603, skewness=7.0802519805446655, kurtosis=98.92684000569524)"
      ]
     },
     "execution_count": 185,
     "metadata": {},
     "output_type": "execute_result"
    }
   ],
   "source": [
    "stats.describe(num_posts)"
   ]
  },
  {
   "cell_type": "markdown",
   "metadata": {},
   "source": [
    "**Caluclate frequency**\n",
    "\n",
    "Next I calculate the frequency of posts (ratio of total posts versus account age) for the account associated with each tweet."
   ]
  },
  {
   "cell_type": "code",
   "execution_count": 199,
   "metadata": {},
   "outputs": [],
   "source": [
    "post_freq = []\n",
    "\n",
    "for i in range(len(dfs)):\n",
    "    num_posts = dfs['user'][i]['statuses_count']\n",
    "    age = age_at_post_days[i]\n",
    "    frequency = num_posts / age\n",
    "    post_freq.append(frequency)"
   ]
  },
  {
   "cell_type": "markdown",
   "metadata": {},
   "source": [
    "&nbsp;\n",
    "### Visualizing Posting Frequencies\n",
    "Below I visualize the spread of posting frequencies associated with each tweet's account. I also display some summary statistics in the following cell. \n",
    "\n",
    "The resulting distribution indicates some very extreme outliers. Posting frequencies of tens of thousands of tweets per day are a huge red flag, as it is totally unfeasible for a human to perform. The vast majority of posting frequencies fall below the mean of 91 (which is heavily skewed by the outliers)."
   ]
  },
  {
   "cell_type": "code",
   "execution_count": 200,
   "metadata": {
    "scrolled": true
   },
   "outputs": [
    {
     "data": {
      "text/plain": [
       "Text(0, 0.5, 'Accounts')"
      ]
     },
     "execution_count": 200,
     "metadata": {},
     "output_type": "execute_result"
    },
    {
     "data": {
      "image/png": "[encoded data removed]",
      "text/plain": [
       "<Figure size 432x288 with 1 Axes>"
      ]
     },
     "metadata": {
      "needs_background": "light"
     },
     "output_type": "display_data"
    }
   ],
   "source": [
    "plt.hist(post_freq, bins=20)\n",
    "plt.title(\"Distribution of Posting Frequency\")\n",
    "plt.xlabel(\"Posts per Day\")\n",
    "plt.ylabel(\"Accounts\")"
   ]
  },
  {
   "cell_type": "code",
   "execution_count": 201,
   "metadata": {
    "scrolled": true
   },
   "outputs": [
    {
     "data": {
      "text/plain": [
       "DescribeResult(nobs=54606, minmax=(0.000580973055767449, 142815.7090579847), mean=91.98627413104639, variance=1558403.1677854308, skewness=71.40248719385137, kurtosis=6228.969220544044)"
      ]
     },
     "execution_count": 201,
     "metadata": {},
     "output_type": "execute_result"
    }
   ],
   "source": [
    "stats.describe(post_freq)"
   ]
  },
  {
   "cell_type": "markdown",
   "metadata": {},
   "source": [
    "&nbsp;\n",
    "### Bio Length Calculations\n",
    "Though less strongly indicative of artificial activity, two features related to the user account information might be indicative of fake accounts. Below I look into the length of bio, or 'description, for the account associated with each tweet.\n",
    "\n",
    "&nbsp;\n",
    "\n",
    "**Calculate bio length**\n",
    "\n",
    "I calculate the length of the 'description' string for the account associated with each tweet."
   ]
  },
  {
   "cell_type": "code",
   "execution_count": 188,
   "metadata": {},
   "outputs": [],
   "source": [
    "bio_len = []\n",
    "for i in range(len(dfs)):\n",
    "    length = len(dfs['user'][i]['description'])\n",
    "    bio_len.append(length)"
   ]
  },
  {
   "cell_type": "markdown",
   "metadata": {},
   "source": [
    "&nbsp;\n",
    "### Visualizing Bio Lengths\n",
    "Here I visualize the spread of bio lengths (in characters).  I also display some summary statistics in the following cell.\n",
    "\n",
    "The distribution appears bimodal, with large numbers of accounts at each end of the length spectrum. As evidenced further down, when I take a look at some sample accounts, the bio length is not as useful of a feature for identifying 'fake' accounts."
   ]
  },
  {
   "cell_type": "code",
   "execution_count": 189,
   "metadata": {
    "scrolled": false
   },
   "outputs": [
    {
     "data": {
      "text/plain": [
       "Text(0, 0.5, 'Accounts')"
      ]
     },
     "execution_count": 189,
     "metadata": {},
     "output_type": "execute_result"
    },
    {
     "data": {
      "image/png": "[encoded data removed]",
      "text/plain": [
       "<Figure size 432x288 with 1 Axes>"
      ]
     },
     "metadata": {
      "needs_background": "light"
     },
     "output_type": "display_data"
    }
   ],
   "source": [
    "plt.hist(bio_len)\n",
    "plt.title(\"Distribution of Account Bio Length\")\n",
    "plt.xlabel(\"Characters\")\n",
    "plt.ylabel(\"Accounts\")"
   ]
  },
  {
   "cell_type": "code",
   "execution_count": 190,
   "metadata": {
    "scrolled": true
   },
   "outputs": [
    {
     "data": {
      "text/plain": [
       "DescribeResult(nobs=54606, minmax=(0, 230), mean=92.64926931106471, variance=3259.9845216710105, skewness=-0.37553935975398567, kurtosis=-1.3379136618555223)"
      ]
     },
     "execution_count": 190,
     "metadata": {},
     "output_type": "execute_result"
    }
   ],
   "source": [
    "stats.describe(bio_len)"
   ]
  },
  {
   "cell_type": "markdown",
   "metadata": {},
   "source": [
    "&nbsp;\n",
    "### Percent of Numbers in Name Calculations\n",
    "As a final user account feature to explore, I look at the percentage of numerical digits in an account's screen name, or 'handle'. According to [this Mozilla resource](https://blog.mozilla.org/internetcitizen/2018/01/08/irl-how-to-spot-a-bot/) referenced in the 'Background' section above, account names with a jumble of letters and numbers can be indicative of bots. This makes sense, as creating batches of accounts in some automated fashion would be easier if generating such names.\n",
    "\n",
    "&nbsp;\n",
    "\n",
    "**Calculate percentage**\n",
    "\n",
    "I calculate the percentage of numerical digits (0 through 9) present in the account screen name associated with each tweet. I use a helper function defined above to do this."
   ]
  },
  {
   "cell_type": "code",
   "execution_count": 191,
   "metadata": {},
   "outputs": [],
   "source": [
    "num_in_name = []\n",
    "\n",
    "for i in range(len(dfs)):\n",
    "    percent_num = percentNumbers(dfs['user'][i]['screen_name'])\n",
    "    num_in_name.append(percent_num)"
   ]
  },
  {
   "cell_type": "markdown",
   "metadata": {},
   "source": [
    "&nbsp;\n",
    "### Visualizing Percent of Numbers in Names\n",
    "Below I visualize the spread of percentages of numerical digits in accounts' screen names. I also display some summary statistics in the following cell.\n",
    "\n",
    "Like posting frequency, this is a very skewed distribution. The bulk of accounts have less than 10% numbers in their screen names, yet some accounts go up to more than 50% of their names being numbers."
   ]
  },
  {
   "cell_type": "code",
   "execution_count": 192,
   "metadata": {
    "scrolled": false
   },
   "outputs": [
    {
     "data": {
      "text/plain": [
       "Text(0, 0.5, 'Accounts')"
      ]
     },
     "execution_count": 192,
     "metadata": {},
     "output_type": "execute_result"
    },
    {
     "data": {
      "image/png": "[encoded data removed]",
      "text/plain": [
       "<Figure size 432x288 with 1 Axes>"
      ]
     },
     "metadata": {
      "needs_background": "light"
     },
     "output_type": "display_data"
    }
   ],
   "source": [
    "plt.hist(num_in_name)\n",
    "plt.title(\"Distribution of Numbers in Screen Names\")\n",
    "plt.xlabel(\"Percentage of Name\")\n",
    "plt.ylabel(\"Accounts\")"
   ]
  },
  {
   "cell_type": "code",
   "execution_count": 193,
   "metadata": {},
   "outputs": [
    {
     "data": {
      "text/plain": [
       "DescribeResult(nobs=54606, minmax=(0.0, 1.0), mean=0.061592315832234526, variance=0.017366093837537244, skewness=2.5265328610515523, kurtosis=6.561384560140549)"
      ]
     },
     "execution_count": 193,
     "metadata": {},
     "output_type": "execute_result"
    }
   ],
   "source": [
    "stats.describe(num_in_name)"
   ]
  },
  {
   "cell_type": "markdown",
   "metadata": {},
   "source": [
    "&nbsp;\n",
    "### Visualizing Tweets Based on Suspect Account Features\n",
    "Below I plot the tweets according to the 3 of the potentially identifying features for inorganic activity:\n",
    "- Account Age at Time of Posting\n",
    "- Percent of Numbers in Name\n",
    "- Posting Frequency\n",
    "\n",
    "As can be observed, there are several accounts which are clear stand outs. An interesting observation is that the **bio length** is not really as useful of a differentiator as **posting frequency** and **account age**. **Posting frequency** appears to be the greatest distinguishing factor, and the highest posting frequencies are all for *very* young accounts. This is what would be expected for bot accounts. No human user would reasonably post tens of thousands of tweets within a day of making an account."
   ]
  },
  {
   "cell_type": "code",
   "execution_count": 202,
   "metadata": {
    "scrolled": false
   },
   "outputs": [
    {
     "data": {
      "text/plain": [
       "<mpl_toolkits.mplot3d.art3d.Path3DCollection at 0x7faeb2649c88>"
      ]
     },
     "execution_count": 202,
     "metadata": {},
     "output_type": "execute_result"
    },
    {
     "data": {
      "image/png": "[encoded data removed]",
      "text/plain": [
       "<Figure size 432x432 with 1 Axes>"
      ]
     },
     "metadata": {
      "needs_background": "light"
     },
     "output_type": "display_data"
    }
   ],
   "source": [
    "fig = plt.figure(figsize=(6, 6))\n",
    "ax = Axes3D(fig)\n",
    "ax.set_title(\"Tweets Plotted by Account Features\")\n",
    "ax.set_xlabel(\"Account Age in Days\")\n",
    "ax.set_ylabel(\"Percent Numbers in Name\")\n",
    "ax.set_zlabel(\"Posting Frequency (Posts/Day)\")\n",
    "ax.scatter(age_at_post_days, num_in_name, post_freq)"
   ]
  },
  {
   "cell_type": "markdown",
   "metadata": {},
   "source": [
    "&nbsp;\n",
    "## Adding Features to the Dataframe\n",
    "In this section I add both the user features selected above and a couple of feature related to content to the main dataframe. This way, once the clustering is performed on the user features, the dataframe can be separated while already containing the content features that will be needed for analysis.\n",
    "\n",
    "&nbsp;\n",
    "\n",
    "**User features columns**\n",
    "\n",
    "First I add a column for each user feature calculated."
   ]
  },
  {
   "cell_type": "code",
   "execution_count": 203,
   "metadata": {
    "scrolled": true
   },
   "outputs": [],
   "source": [
    "dfs['posting_age'] = age_at_post_days\n",
    "dfs['num_in_name'] = num_in_name\n",
    "dfs['posting_frequency'] = post_freq"
   ]
  },
  {
   "cell_type": "markdown",
   "metadata": {},
   "source": [
    "**Content features columns**\n",
    "\n",
    "I add a column for the presence of URLs (boolean), and the sentiment (positive and negative) rating in each tweet.\n",
    "\n",
    "First I use the Vader sentiment analysis tool from the NLTK python package to generate sentiment scores to associate with each tweet. I add these as a column."
   ]
  },
  {
   "cell_type": "code",
   "execution_count": 213,
   "metadata": {},
   "outputs": [],
   "source": [
    "# initialize the sentiment analysis tool\n",
    "sid = SentimentIntensityAnalyzer()\n",
    "\n",
    "# define lists to contain positive and negative scores for each tweet\n",
    "pos_score = []\n",
    "neg_score = []\n",
    "\n",
    "for i in range(len(dfs)):\n",
    "    # calculate the scores for this tweet\n",
    "    scores = sid.polarity_scores(dfs['full_text'][i])\n",
    "    positive = scores['pos']\n",
    "    negative = scores['neg']\n",
    "    \n",
    "    # add them to the respective lists\n",
    "    pos_score.append(positive)\n",
    "    neg_score.append(negative)\n",
    "    \n",
    "    "
   ]
  },
  {
   "cell_type": "markdown",
   "metadata": {},
   "source": [
    "Now I use my helper function to mark the presence of URLs in each tweet."
   ]
  },
  {
   "cell_type": "code",
   "execution_count": 230,
   "metadata": {},
   "outputs": [],
   "source": [
    "has_url = []\n",
    "\n",
    "for i in range(len(dfs)):\n",
    "    presence = listNotEmpty(dfs['entities'][i]['urls'])\n",
    "    has_url.append(presence)"
   ]
  },
  {
   "cell_type": "markdown",
   "metadata": {},
   "source": [
    "**Add content feature columns**\n",
    "\n",
    "Next I add these three content features (positive rating, negative rating, url presence) as columns to the dataframe."
   ]
  },
  {
   "cell_type": "code",
   "execution_count": 231,
   "metadata": {},
   "outputs": [],
   "source": [
    "dfs['pos'] = pos_score\n",
    "dfs['neg'] = neg_score\n",
    "dfs['has_url'] = has_url"
   ]
  },
  {
   "cell_type": "markdown",
   "metadata": {},
   "source": [
    "&nbsp;\n",
    "## Clustering and Manual Selection\n",
    "Below I perform simple k means clustering on the selected user features, and I also perform a manual selection using cutoffs for these features. I do this because the nature of what I am trying to isolate (a small percentage of accounts with intuitive and interpretable distinctions in features) does not lend itself to basic clustering where the cluster shape and size is assumed.\n",
    "\n",
    "Manual selection is acceptable because the features being used are very easily interpretable - it makes intuitive sense to say that a human user would not have a posting frequency of above 1,000 tweets per day, while also having an account a day or two old.\n",
    "\n",
    "&nbsp;\n",
    "\n",
    "**Select clustering features**\n",
    "\n",
    "First I isolate the features being clustered on."
   ]
  },
  {
   "cell_type": "code",
   "execution_count": 234,
   "metadata": {},
   "outputs": [],
   "source": [
    "cluster_features = dfs[['posting_age', 'num_in_name', 'posting_frequency']]"
   ]
  },
  {
   "cell_type": "markdown",
   "metadata": {},
   "source": [
    "**Train a K Means model on the whole dataset**\n",
    "\n",
    "I show the results of training over the whole dataset simply to ovserve how adequate the method may be for selecting the suspicious accounts. Thankfully the accounts we want to target are clearly visible and justified already so we can evaluate based on this.\n",
    "\n",
    "The apparent result is that two of our clusters capture the most suspicious data points."
   ]
  },
  {
   "cell_type": "code",
   "execution_count": 240,
   "metadata": {
    "scrolled": false
   },
   "outputs": [
    {
     "data": {
      "text/plain": [
       "<mpl_toolkits.mplot3d.art3d.Path3DCollection at 0x7faea90829b0>"
      ]
     },
     "execution_count": 240,
     "metadata": {},
     "output_type": "execute_result"
    },
    {
     "data": {
      "image/png": "[encoded data removed]",
      "text/plain": [
       "<Figure size 432x288 with 1 Axes>"
      ]
     },
     "metadata": {
      "needs_background": "light"
     },
     "output_type": "display_data"
    }
   ],
   "source": [
    "kmeans = KMeans(n_clusters=4).fit(cluster_features)\n",
    "predictions = kmeans.predict(cluster_features)\n",
    "fig = plt.figure()\n",
    "ax = Axes3D(fig)\n",
    "ax.scatter(cluster_features['posting_age'], cluster_features['num_in_name'], cluster_features['posting_frequency'], \n",
    "            c=predictions)"
   ]
  },
  {
   "cell_type": "markdown",
   "metadata": {},
   "source": [
    "**Select tweets from the suspicious clusters**\n",
    "\n",
    "Here I select the 27 tweets which have the most suspicious user account features based on clustering."
   ]
  },
  {
   "cell_type": "code",
   "execution_count": 241,
   "metadata": {},
   "outputs": [],
   "source": [
    "dfs['cluster'] = predictions"
   ]
  },
  {
   "cell_type": "code",
   "execution_count": 251,
   "metadata": {},
   "outputs": [],
   "source": [
    "dfs_select = dfs.loc[(dfs['cluster'] == 3) | (dfs['cluster'] == 1)]"
   ]
  },
  {
   "cell_type": "markdown",
   "metadata": {},
   "source": [
    "I also select suspicious data points using some manual feature cutoffs based on my own intuitive understanding of these features."
   ]
  },
  {
   "cell_type": "code",
   "execution_count": 252,
   "metadata": {},
   "outputs": [],
   "source": [
    "dfs_manual = dfs.loc[(dfs['posting_age'] < 2) | (dfs['posting_frequency'] > 1000)]"
   ]
  },
  {
   "cell_type": "markdown",
   "metadata": {},
   "source": [
    "&nbsp;\n",
    "## Hashtag Use Calculation\n",
    "Below I calculate the last feature I am interested in for analyzing between suspicious accounts and the rest: the use of hashtags. \n",
    "\n",
    "In the following two cells, I generate a list of all hashtags used in both the clustering selection and the manual selection of tweets."
   ]
  },
  {
   "cell_type": "code",
   "execution_count": null,
   "metadata": {},
   "outputs": [],
   "source": [
    "dfs_select = dfs_select.reset_index(drop=True)\n",
    "dfs_manual = dfs_manual.reset_index(drop=True)"
   ]
  },
  {
   "cell_type": "code",
   "execution_count": 264,
   "metadata": {
    "scrolled": true
   },
   "outputs": [],
   "source": [
    "hashtags_cluster = []\n",
    "for i in dfs_select['full_text']:\n",
    "    for word in i.split():\n",
    "        if word[0] == '#':\n",
    "            hashtags_cluster.append(word[1:])"
   ]
  },
  {
   "cell_type": "code",
   "execution_count": 265,
   "metadata": {},
   "outputs": [],
   "source": [
    "hashtags_manual = []\n",
    "for i in dfs_manual['full_text']:\n",
    "    for word in i.split():\n",
    "        if word[0] == '#':\n",
    "            hashtags_manual.append(word[1:])"
   ]
  },
  {
   "cell_type": "markdown",
   "metadata": {},
   "source": [
    "Also create a list for hashtags overall."
   ]
  },
  {
   "cell_type": "code",
   "execution_count": 266,
   "metadata": {},
   "outputs": [],
   "source": [
    "hashtags_all = []\n",
    "for i in dfs['full_text']:\n",
    "    for word in i.split():\n",
    "        if word[0] == '#':\n",
    "            hashtags_all.append(word[1:])"
   ]
  },
  {
   "cell_type": "markdown",
   "metadata": {},
   "source": [
    "&nbsp;\n",
    "## Examining the Differences\n",
    "In this section I compare the content features for the selected suspicious tweets versus the overall tweets.\n",
    "\n",
    "First I get the hashtag counts for tweets in each grouping."
   ]
  },
  {
   "cell_type": "code",
   "execution_count": 268,
   "metadata": {},
   "outputs": [],
   "source": [
    "all_hash_count = Counter(hashtags_all)\n",
    "cluster_hash_count = Counter(hashtags_cluster)\n",
    "manual_hash_count = Counter(hashtags_manual)"
   ]
  },
  {
   "cell_type": "markdown",
   "metadata": {},
   "source": [
    "### Visualizing Hashtag Usage\n",
    "Below I visualize the top 5 hashtags by the percent they make up of total hashtags in each of the selections."
   ]
  },
  {
   "cell_type": "code",
   "execution_count": 274,
   "metadata": {
    "scrolled": true
   },
   "outputs": [
    {
     "data": {
      "text/plain": [
       "Text(0, 0.5, 'Percentage of hashtags')"
      ]
     },
     "execution_count": 274,
     "metadata": {},
     "output_type": "execute_result"
    },
    {
     "data": {
      "image/png": "[encoded data removed]",
      "text/plain": [
       "<Figure size 432x288 with 1 Axes>"
      ]
     },
     "metadata": {
      "needs_background": "light"
     },
     "output_type": "display_data"
    }
   ],
   "source": [
    "plt.bar([i[0] for i in all_hash_count.most_common(5)], \n",
    "        [i[1] / len(hashtags_all) for i in all_hash_count.most_common(5)])\n",
    "plt.title('Most Common Hashtags Overall')\n",
    "plt.ylabel('Percentage of hashtags')"
   ]
  },
  {
   "cell_type": "code",
   "execution_count": 275,
   "metadata": {
    "scrolled": true
   },
   "outputs": [
    {
     "data": {
      "text/plain": [
       "Text(0, 0.5, 'Percentage of hashtags')"
      ]
     },
     "execution_count": 275,
     "metadata": {},
     "output_type": "execute_result"
    },
    {
     "data": {
      "image/png": "[encoded data removed]",
      "text/plain": [
       "<Figure size 432x288 with 1 Axes>"
      ]
     },
     "metadata": {
      "needs_background": "light"
     },
     "output_type": "display_data"
    }
   ],
   "source": [
    "plt.bar([i[0] for i in cluster_hash_count.most_common(5)], \n",
    "        [i[1] / len(hashtags_cluster) for i in cluster_hash_count.most_common(5)])\n",
    "plt.title('Most Common Hashtags in Cluster Selection')\n",
    "plt.ylabel('Percentage of hashtags')"
   ]
  },
  {
   "cell_type": "code",
   "execution_count": 276,
   "metadata": {
    "scrolled": true
   },
   "outputs": [
    {
     "data": {
      "text/plain": [
       "Text(0, 0.5, 'Percentage of hashtags')"
      ]
     },
     "execution_count": 276,
     "metadata": {},
     "output_type": "execute_result"
    },
    {
     "data": {
      "image/png": "[encoded data removed]",
      "text/plain": [
       "<Figure size 432x288 with 1 Axes>"
      ]
     },
     "metadata": {
      "needs_background": "light"
     },
     "output_type": "display_data"
    }
   ],
   "source": [
    "plt.bar([i[0] for i in manual_hash_count.most_common(5)], \n",
    "        [i[1] / len(hashtags_manual) for i in manual_hash_count.most_common(5)])\n",
    "plt.title('Most Common Hashtags in Manual Selection')\n",
    "plt.ylabel('Percentage of hashtags')"
   ]
  },
  {
   "cell_type": "markdown",
   "metadata": {},
   "source": [
    "### Use of Hashtags Insights\n",
    "The tweets selected by clustering show a significant difference in the top 5 used hashtags, though the topics suggested by these do not appear to have a negative tilt towards climate change: the top hashtag \"#Plant4Pakistan\" refers to a tree planting initiative, and \"#WaronWaste\" referes to a public initiative to limit trash.\n",
    "\n",
    "Overall it appears the general use of hashtags is not a sufficient analysis to suggest political astroturfing by the accounts we suspect of being bots.\n"
   ]
  },
  {
   "cell_type": "markdown",
   "metadata": {},
   "source": [
    "&nbsp;\n",
    "### Visualizing URL Use\n",
    "Below I visualize the use of URLs in each of the selections."
   ]
  },
  {
   "cell_type": "code",
   "execution_count": 291,
   "metadata": {},
   "outputs": [],
   "source": [
    "overall_url = dfs['has_url'].value_counts() / len(dfs)\n",
    "select_url = dfs_select['has_url'].value_counts() / len(dfs_select)\n",
    "manual_url = dfs_manual['has_url'].value_counts() / len(dfs_manual)"
   ]
  },
  {
   "cell_type": "code",
   "execution_count": 292,
   "metadata": {},
   "outputs": [
    {
     "data": {
      "text/plain": [
       "Text(0, 0.5, 'Percentage')"
      ]
     },
     "execution_count": 292,
     "metadata": {},
     "output_type": "execute_result"
    },
    {
     "data": {
      "image/png": "[encoded data removed]",
      "text/plain": [
       "<Figure size 432x288 with 1 Axes>"
      ]
     },
     "metadata": {
      "needs_background": "light"
     },
     "output_type": "display_data"
    }
   ],
   "source": [
    "overall_url.plot(kind='bar')\n",
    "plt.title(\"URL Use Overall\")\n",
    "plt.ylabel(\"Percentage\")"
   ]
  },
  {
   "cell_type": "code",
   "execution_count": 293,
   "metadata": {
    "scrolled": false
   },
   "outputs": [
    {
     "data": {
      "text/plain": [
       "Text(0, 0.5, 'Percentage')"
      ]
     },
     "execution_count": 293,
     "metadata": {},
     "output_type": "execute_result"
    },
    {
     "data": {
      "image/png": "[encoded data removed]",
      "text/plain": [
       "<Figure size 432x288 with 1 Axes>"
      ]
     },
     "metadata": {
      "needs_background": "light"
     },
     "output_type": "display_data"
    }
   ],
   "source": [
    "select_url.plot(kind='bar')\n",
    "plt.title(\"URL Use for Cluster Selection\")\n",
    "plt.ylabel(\"Percentage\")"
   ]
  },
  {
   "cell_type": "code",
   "execution_count": 294,
   "metadata": {
    "scrolled": false
   },
   "outputs": [
    {
     "data": {
      "text/plain": [
       "Text(0, 0.5, 'Percentage')"
      ]
     },
     "execution_count": 294,
     "metadata": {},
     "output_type": "execute_result"
    },
    {
     "data": {
      "image/png": "[encoded data removed]",
      "text/plain": [
       "<Figure size 432x288 with 1 Axes>"
      ]
     },
     "metadata": {
      "needs_background": "light"
     },
     "output_type": "display_data"
    }
   ],
   "source": [
    "manual_url.plot(kind='bar')\n",
    "plt.title(\"URL Use for Manual Selection\")\n",
    "plt.ylabel(\"Percentage\")"
   ]
  },
  {
   "cell_type": "markdown",
   "metadata": {},
   "source": [
    "### Use of URLs Insights\n",
    "The tweets selected by clustering show a difference in the percentage of tweets using URLs. Where overall, URLs are used in around 70% of the tweets, they are used in over 80% of the tweets from suspicious accounts. This makes some sense, as bot accounts are typically going to link to existing content rather than generate original content for the tens of thousands of tweets they make.\n",
    "\n",
    "This breakdown does suggest a difference in posting activity for the suspected bot accounts versus overall, and the difference lines up with intuitive expecations."
   ]
  },
  {
   "cell_type": "markdown",
   "metadata": {},
   "source": [
    "&nbsp;\n",
    "### Exploring Sentiment\n",
    "Below I visualize the sentiment breakdown in each grouping."
   ]
  },
  {
   "cell_type": "markdown",
   "metadata": {},
   "source": [
    "**Sentiment for Overall**"
   ]
  },
  {
   "cell_type": "code",
   "execution_count": 298,
   "metadata": {},
   "outputs": [],
   "source": [
    "all_sentiment = dfs[['pos', 'neg']]"
   ]
  },
  {
   "cell_type": "code",
   "execution_count": 300,
   "metadata": {},
   "outputs": [
    {
     "data": {
      "text/plain": [
       "0.08008422151411933"
      ]
     },
     "execution_count": 300,
     "metadata": {},
     "output_type": "execute_result"
    }
   ],
   "source": [
    "np.mean(all_sentiment['pos'])"
   ]
  },
  {
   "cell_type": "code",
   "execution_count": 301,
   "metadata": {},
   "outputs": [
    {
     "data": {
      "text/plain": [
       "0.08898069809178479"
      ]
     },
     "execution_count": 301,
     "metadata": {},
     "output_type": "execute_result"
    }
   ],
   "source": [
    "np.mean(all_sentiment['neg'])"
   ]
  },
  {
   "cell_type": "markdown",
   "metadata": {},
   "source": [
    "**Sentiment for Clustered Selection**"
   ]
  },
  {
   "cell_type": "code",
   "execution_count": 302,
   "metadata": {},
   "outputs": [
    {
     "name": "stdout",
     "output_type": "stream",
     "text": [
      "0.06244444444444445\n",
      "0.10944444444444444\n"
     ]
    }
   ],
   "source": [
    "cluster_sentiment = dfs_select[['pos', 'neg']]\n",
    "print(np.mean(cluster_sentiment['pos']))\n",
    "print(np.mean(cluster_sentiment['neg']))"
   ]
  },
  {
   "cell_type": "markdown",
   "metadata": {},
   "source": [
    "**Sentiment for Manual Selection**"
   ]
  },
  {
   "cell_type": "code",
   "execution_count": 303,
   "metadata": {},
   "outputs": [
    {
     "name": "stdout",
     "output_type": "stream",
     "text": [
      "0.08076138828633404\n",
      "0.08218221258134491\n"
     ]
    }
   ],
   "source": [
    "manual_sentiment = dfs_manual[['pos', 'neg']]\n",
    "print(np.mean(manual_sentiment['pos']))\n",
    "print(np.mean(manual_sentiment['neg']))"
   ]
  },
  {
   "cell_type": "markdown",
   "metadata": {},
   "source": [
    "### Sentiment Insights\n",
    "The cluster selection has about 10% of posts with a negative rating and 6% positive, the overall posts have about 8% with negative and 8% positive. So the tweets from suspicious accounts show a higher negative rating and lower positive rating by a difference of 2% each way. This would line up with the expectation that the bots would be used to spread anti-climate-change disinformation."
   ]
  },
  {
   "cell_type": "markdown",
   "metadata": {},
   "source": [
    "&nbsp;\n",
    "## Discussion\n",
    "Overall, the grouping of users based on features suggested from previous work done in the field was very successful. Accounts were found with posting frequencies in the tens of thousands of tweets per day, which is far beyond what any human could reasonably do.\n",
    "\n",
    "Ultimately the interest lies in wheter these likely bot accounts show meaningful differences in posting activity versus the rest. The results of analyzing the use of hashtags, the use of URLs, and sentiment ratings showed some promising differences which line up with expectations. \n",
    "\n",
    "However, each of these analyses were performed in a fairly limited way. The hashtag use only looks at the overall usage, rather than the use of specific hashtags such as ones that contain the word 'hoax'. Certianly more could be explored in the area of hashtag usage. Similarly, the sentiment analysis is performed with a general purpose bag-of-words tool (the Vader analyzer from the NLTK package). This has provided some promising general insights, but there are limitations: this approach can have difficulty with words that are not in its bag-of-words, and it ignores the pecularities of speech use in a specific context. This might be especially relevant with a subject such a climate change, which centers around scientific claims and thus might involve language unlike what is used in overall speech.\n",
    "\n",
    "&nbsp;\n",
    "\n",
    "The results of my analyses, though somewhat limited, line up with expectations about bot activity, and seem to confirm some of the claims made by the referenced materials. Perhaps these user features are actually useful in the initial stages of identifying astroturfing, particularly from bots. However, there is much room to perform more sophisticated analyses on the content of the tweets once the identification is done."
   ]
  }
 ],
 "metadata": {
  "colab": {
   "name": "Proposal.ipynb",
   "provenance": []
  },
  "kernelspec": {
   "display_name": "Python 3",
   "language": "python",
   "name": "python3"
  },
  "language_info": {
   "codemirror_mode": {
    "name": "ipython",
    "version": 3
   },
   "file_extension": ".py",
   "mimetype": "text/x-python",
   "name": "python",
   "nbconvert_exporter": "python",
   "pygments_lexer": "ipython3",
   "version": "3.6.9"
  }
 },
 "nbformat": 4,
 "nbformat_minor": 1
}
